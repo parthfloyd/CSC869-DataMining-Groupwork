{
 "cells": [
  {
   "cell_type": "code",
   "execution_count": 2,
   "metadata": {},
   "outputs": [],
   "source": [
    "import dill\n",
    "import pandas as pd\n",
    "import numpy as np\n",
    "from langchain.llms import Cohere, OpenAI, GooglePalm, Anthropic\n",
    "from langchain.prompts import PromptTemplate\n",
    "from langchain.output_parsers import PydanticOutputParser\n",
    "from langchain.pydantic_v1 import BaseModel, Field, validator\n",
    "from typing import List\n",
    "from tqdm.auto import tqdm\n",
    "from pypdf import PdfReader\n",
    "\n",
    "from dotenv import load_dotenv, find_dotenv\n",
    "\n",
    "_ = load_dotenv(find_dotenv())"
   ]
  },
  {
   "cell_type": "markdown",
   "metadata": {},
   "source": [
    "# Load Data\n",
    "\n",
    "Load data gathered in an excel spreadsheet"
   ]
  },
  {
   "cell_type": "code",
   "execution_count": 3,
   "metadata": {},
   "outputs": [],
   "source": [
    "df = pd.read_excel(\n",
    "    '../data/CSC869 Term Project Dataset.xlsx', \n",
    "    sheet_name='Course Descriptions', \n",
    "    skiprows=3, \n",
    "    names=['School', 'MATH226 eqv', 'MATH226 mult eqv', 'MATH226 alt eqv', 'MATH226 alt mult eqv', 'CSC230 eqv', 'CSC230 alt eqv', 'CSC256 eqv', 'CSC256 multipleEqv'],\n",
    "    index_col=None\n",
    ")\n",
    "df = df.dropna(how='all').set_index(\"School\")"
   ]
  },
  {
   "cell_type": "code",
   "execution_count": 4,
   "metadata": {},
   "outputs": [
    {
     "name": "stdout",
     "output_type": "stream",
     "text": [
      "MATH 226 - Calculus I\n",
      "4 Units\n",
      "\n",
      "Graphs. Differentiation: theory, techniques, and applications. Integration: Fundamental Theorem of Calculus and applications. Transcendental functions. \n",
      "\n",
      "\n",
      "CSC 230 - Discrete Mathematical Structures for Computer Science\n",
      "3 Units\n",
      "\n",
      "Review of set algebra, relations and functions, permutations, propositional logic, proof techniques, introduction to graph theory, and infinite sets, and their applications to computer science. \n",
      "\n",
      "\n",
      "CSC 256 - Machine Structures\n",
      "3 Units\n",
      "\n",
      "Digital logic circuits, data representation, assembly language programming, subroutine linkage, machine language encoding, interrupt and exception handling, memory system concepts, and CPU organization and performance.\n"
     ]
    }
   ],
   "source": [
    "math226_desc = df.iloc[0,0]\n",
    "csc230_desc = df.iloc[0,4]\n",
    "csc256_desc = df.iloc[0,6]\n",
    "print(math226_desc, \"\\n\\n\")\n",
    "print(csc230_desc, \"\\n\\n\")\n",
    "print(csc256_desc)"
   ]
  },
  {
   "cell_type": "code",
   "execution_count": 5,
   "metadata": {},
   "outputs": [
    {
     "data": {
      "text/html": [
       "<div>\n",
       "<style scoped>\n",
       "    .dataframe tbody tr th:only-of-type {\n",
       "        vertical-align: middle;\n",
       "    }\n",
       "\n",
       "    .dataframe tbody tr th {\n",
       "        vertical-align: top;\n",
       "    }\n",
       "\n",
       "    .dataframe thead th {\n",
       "        text-align: right;\n",
       "    }\n",
       "</style>\n",
       "<table border=\"1\" class=\"dataframe\">\n",
       "  <thead>\n",
       "    <tr style=\"text-align: right;\">\n",
       "      <th></th>\n",
       "      <th>MATH226 eqv</th>\n",
       "      <th>MATH226 mult eqv</th>\n",
       "      <th>MATH226 alt eqv</th>\n",
       "      <th>MATH226 alt mult eqv</th>\n",
       "      <th>CSC230 eqv</th>\n",
       "      <th>CSC230 alt eqv</th>\n",
       "      <th>CSC256 eqv</th>\n",
       "      <th>CSC256 multipleEqv</th>\n",
       "    </tr>\n",
       "    <tr>\n",
       "      <th>School</th>\n",
       "      <th></th>\n",
       "      <th></th>\n",
       "      <th></th>\n",
       "      <th></th>\n",
       "      <th></th>\n",
       "      <th></th>\n",
       "      <th></th>\n",
       "      <th></th>\n",
       "    </tr>\n",
       "  </thead>\n",
       "  <tbody>\n",
       "    <tr>\n",
       "      <th>SFSU</th>\n",
       "      <td>MATH 226 - Calculus I\\n4 Units\\n\\nGraphs. Diff...</td>\n",
       "      <td>NaN</td>\n",
       "      <td>NaN</td>\n",
       "      <td>NaN</td>\n",
       "      <td>CSC 230 - Discrete Mathematical Structures for...</td>\n",
       "      <td>NaN</td>\n",
       "      <td>CSC 256 - Machine Structures\\n3 Units\\n\\nDigit...</td>\n",
       "      <td>NaN</td>\n",
       "    </tr>\n",
       "    <tr>\n",
       "      <th>Berkeley City College</th>\n",
       "      <td>MATH 3A - Calculus I\\n5 Units, 5 lecture hours...</td>\n",
       "      <td>NaN</td>\n",
       "      <td>NaN</td>\n",
       "      <td>NaN</td>\n",
       "      <td>MATH 11 - Discrete Mathematics\\n4 units\\n\\nN/A</td>\n",
       "      <td>NaN</td>\n",
       "      <td>CIS 20: Microcomputer Assembly Language\\n4 Uni...</td>\n",
       "      <td>NaN</td>\n",
       "    </tr>\n",
       "    <tr>\n",
       "      <th>California Polytechnic State University, Humboldt</th>\n",
       "      <td>MATH 109 - Calculus I\\n4 Units, 4 Lecture hour...</td>\n",
       "      <td>NaN</td>\n",
       "      <td>NaN</td>\n",
       "      <td>NaN</td>\n",
       "      <td>MATH 253 - Discrete Mathematics\\n3 Units, 3 Le...</td>\n",
       "      <td>NaN</td>\n",
       "      <td>NaN</td>\n",
       "      <td>NaN</td>\n",
       "    </tr>\n",
       "    <tr>\n",
       "      <th>California Polytechnic State University, Pomona</th>\n",
       "      <td>MAT 1140 - Calculus I\\n4 Units\\nPrerequisites:...</td>\n",
       "      <td>NaN</td>\n",
       "      <td>NaN</td>\n",
       "      <td>NaN</td>\n",
       "      <td>CS 1300 - Discrete Structures\\n4 Units\\nPrereq...</td>\n",
       "      <td>NaN</td>\n",
       "      <td>CS 2640 - Computer Organization and Assembly P...</td>\n",
       "      <td>NaN</td>\n",
       "    </tr>\n",
       "    <tr>\n",
       "      <th>California Polytechnic State University, San Luis Obispo</th>\n",
       "      <td>MATH 141 - Calculus I\\n4 Units\\nGE Area B1\\nPr...</td>\n",
       "      <td>MATH 142 - Calculus II\\n4 units\\nGE Area B1\\nP...</td>\n",
       "      <td>HNRS 141 - Calculus I \\n4 Units \\nPrerequisite...</td>\n",
       "      <td>HNRS 142 - Calculus II \\n4 units\\nPrerequisite...</td>\n",
       "      <td>NaN</td>\n",
       "      <td>NaN</td>\n",
       "      <td>NaN</td>\n",
       "      <td>NaN</td>\n",
       "    </tr>\n",
       "    <tr>\n",
       "      <th>...</th>\n",
       "      <td>...</td>\n",
       "      <td>...</td>\n",
       "      <td>...</td>\n",
       "      <td>...</td>\n",
       "      <td>...</td>\n",
       "      <td>...</td>\n",
       "      <td>...</td>\n",
       "      <td>...</td>\n",
       "    </tr>\n",
       "    <tr>\n",
       "      <th>Solano Community College</th>\n",
       "      <td>MATH020:\\n\\n4.0 Units\\nPrint\\nDescription:\\n\\n...</td>\n",
       "      <td>NaN</td>\n",
       "      <td>NaN</td>\n",
       "      <td>NaN</td>\n",
       "      <td>CIS021:\\n\\n3.0 Units\\nPrint\\nDescription:\\n\\nA...</td>\n",
       "      <td>NaN</td>\n",
       "      <td>CIS020:\\n\\n3.0 Units\\nPrint\\nDescription:\\n\\nA...</td>\n",
       "      <td>NaN</td>\n",
       "    </tr>\n",
       "    <tr>\n",
       "      <th>Sonoma State University</th>\n",
       "      <td>MATH 161 - Differential and Integral Calculus ...</td>\n",
       "      <td>NaN</td>\n",
       "      <td>NaN</td>\n",
       "      <td>NaN</td>\n",
       "      <td>NaN</td>\n",
       "      <td>NaN</td>\n",
       "      <td>NaN</td>\n",
       "      <td>NaN</td>\n",
       "    </tr>\n",
       "    <tr>\n",
       "      <th>Ventura College</th>\n",
       "      <td>MATH V21A Calculus with Analytic Geometry I 5 ...</td>\n",
       "      <td>NaN</td>\n",
       "      <td>NaN</td>\n",
       "      <td>NaN</td>\n",
       "      <td>MATH V52 Discrete Structures 3 Units\\nSame-As:...</td>\n",
       "      <td>CS V17 Discrete Structures 3 Units\\nSame-As: M...</td>\n",
       "      <td>NaN</td>\n",
       "      <td>NaN</td>\n",
       "    </tr>\n",
       "    <tr>\n",
       "      <th>West Valley College</th>\n",
       "      <td>MATH 003A: Calculus and Analytical Geometry\\nC...</td>\n",
       "      <td>NaN</td>\n",
       "      <td>NaN</td>\n",
       "      <td>NaN</td>\n",
       "      <td>MATH 019: Discrete Mathematics\\nCourse Descrip...</td>\n",
       "      <td>NaN</td>\n",
       "      <td>NaN</td>\n",
       "      <td>NaN</td>\n",
       "    </tr>\n",
       "    <tr>\n",
       "      <th>Yuba College</th>\n",
       "      <td>MATH-1A 4 UNITS\\nSingle Variable Calculus I - ...</td>\n",
       "      <td>NaN</td>\n",
       "      <td>NaN</td>\n",
       "      <td>NaN</td>\n",
       "      <td>COMSC-15 3 UNITS\\nDiscrete Structures for Comp...</td>\n",
       "      <td>NaN</td>\n",
       "      <td>COMSC-2 3 UNITS\\nComputer Assembly Language\\nT...</td>\n",
       "      <td>NaN</td>\n",
       "    </tr>\n",
       "  </tbody>\n",
       "</table>\n",
       "<p>63 rows × 8 columns</p>\n",
       "</div>"
      ],
      "text/plain": [
       "                                                                                          MATH226 eqv  \\\n",
       "School                                                                                                  \n",
       "SFSU                                                MATH 226 - Calculus I\\n4 Units\\n\\nGraphs. Diff...   \n",
       "Berkeley City College                               MATH 3A - Calculus I\\n5 Units, 5 lecture hours...   \n",
       "California Polytechnic State University, Humboldt   MATH 109 - Calculus I\\n4 Units, 4 Lecture hour...   \n",
       "California Polytechnic State University, Pomona     MAT 1140 - Calculus I\\n4 Units\\nPrerequisites:...   \n",
       "California Polytechnic State University, San Lu...  MATH 141 - Calculus I\\n4 Units\\nGE Area B1\\nPr...   \n",
       "...                                                                                               ...   \n",
       "Solano Community College                            MATH020:\\n\\n4.0 Units\\nPrint\\nDescription:\\n\\n...   \n",
       "Sonoma State University                             MATH 161 - Differential and Integral Calculus ...   \n",
       "Ventura College                                     MATH V21A Calculus with Analytic Geometry I 5 ...   \n",
       "West Valley College                                 MATH 003A: Calculus and Analytical Geometry\\nC...   \n",
       "Yuba College                                        MATH-1A 4 UNITS\\nSingle Variable Calculus I - ...   \n",
       "\n",
       "                                                                                     MATH226 mult eqv  \\\n",
       "School                                                                                                  \n",
       "SFSU                                                                                              NaN   \n",
       "Berkeley City College                                                                             NaN   \n",
       "California Polytechnic State University, Humboldt                                                 NaN   \n",
       "California Polytechnic State University, Pomona                                                   NaN   \n",
       "California Polytechnic State University, San Lu...  MATH 142 - Calculus II\\n4 units\\nGE Area B1\\nP...   \n",
       "...                                                                                               ...   \n",
       "Solano Community College                                                                          NaN   \n",
       "Sonoma State University                                                                           NaN   \n",
       "Ventura College                                                                                   NaN   \n",
       "West Valley College                                                                               NaN   \n",
       "Yuba College                                                                                      NaN   \n",
       "\n",
       "                                                                                      MATH226 alt eqv  \\\n",
       "School                                                                                                  \n",
       "SFSU                                                                                              NaN   \n",
       "Berkeley City College                                                                             NaN   \n",
       "California Polytechnic State University, Humboldt                                                 NaN   \n",
       "California Polytechnic State University, Pomona                                                   NaN   \n",
       "California Polytechnic State University, San Lu...  HNRS 141 - Calculus I \\n4 Units \\nPrerequisite...   \n",
       "...                                                                                               ...   \n",
       "Solano Community College                                                                          NaN   \n",
       "Sonoma State University                                                                           NaN   \n",
       "Ventura College                                                                                   NaN   \n",
       "West Valley College                                                                               NaN   \n",
       "Yuba College                                                                                      NaN   \n",
       "\n",
       "                                                                                 MATH226 alt mult eqv  \\\n",
       "School                                                                                                  \n",
       "SFSU                                                                                              NaN   \n",
       "Berkeley City College                                                                             NaN   \n",
       "California Polytechnic State University, Humboldt                                                 NaN   \n",
       "California Polytechnic State University, Pomona                                                   NaN   \n",
       "California Polytechnic State University, San Lu...  HNRS 142 - Calculus II \\n4 units\\nPrerequisite...   \n",
       "...                                                                                               ...   \n",
       "Solano Community College                                                                          NaN   \n",
       "Sonoma State University                                                                           NaN   \n",
       "Ventura College                                                                                   NaN   \n",
       "West Valley College                                                                               NaN   \n",
       "Yuba College                                                                                      NaN   \n",
       "\n",
       "                                                                                           CSC230 eqv  \\\n",
       "School                                                                                                  \n",
       "SFSU                                                CSC 230 - Discrete Mathematical Structures for...   \n",
       "Berkeley City College                                  MATH 11 - Discrete Mathematics\\n4 units\\n\\nN/A   \n",
       "California Polytechnic State University, Humboldt   MATH 253 - Discrete Mathematics\\n3 Units, 3 Le...   \n",
       "California Polytechnic State University, Pomona     CS 1300 - Discrete Structures\\n4 Units\\nPrereq...   \n",
       "California Polytechnic State University, San Lu...                                                NaN   \n",
       "...                                                                                               ...   \n",
       "Solano Community College                            CIS021:\\n\\n3.0 Units\\nPrint\\nDescription:\\n\\nA...   \n",
       "Sonoma State University                                                                           NaN   \n",
       "Ventura College                                     MATH V52 Discrete Structures 3 Units\\nSame-As:...   \n",
       "West Valley College                                 MATH 019: Discrete Mathematics\\nCourse Descrip...   \n",
       "Yuba College                                        COMSC-15 3 UNITS\\nDiscrete Structures for Comp...   \n",
       "\n",
       "                                                                                       CSC230 alt eqv  \\\n",
       "School                                                                                                  \n",
       "SFSU                                                                                              NaN   \n",
       "Berkeley City College                                                                             NaN   \n",
       "California Polytechnic State University, Humboldt                                                 NaN   \n",
       "California Polytechnic State University, Pomona                                                   NaN   \n",
       "California Polytechnic State University, San Lu...                                                NaN   \n",
       "...                                                                                               ...   \n",
       "Solano Community College                                                                          NaN   \n",
       "Sonoma State University                                                                           NaN   \n",
       "Ventura College                                     CS V17 Discrete Structures 3 Units\\nSame-As: M...   \n",
       "West Valley College                                                                               NaN   \n",
       "Yuba College                                                                                      NaN   \n",
       "\n",
       "                                                                                           CSC256 eqv  \\\n",
       "School                                                                                                  \n",
       "SFSU                                                CSC 256 - Machine Structures\\n3 Units\\n\\nDigit...   \n",
       "Berkeley City College                               CIS 20: Microcomputer Assembly Language\\n4 Uni...   \n",
       "California Polytechnic State University, Humboldt                                                 NaN   \n",
       "California Polytechnic State University, Pomona     CS 2640 - Computer Organization and Assembly P...   \n",
       "California Polytechnic State University, San Lu...                                                NaN   \n",
       "...                                                                                               ...   \n",
       "Solano Community College                            CIS020:\\n\\n3.0 Units\\nPrint\\nDescription:\\n\\nA...   \n",
       "Sonoma State University                                                                           NaN   \n",
       "Ventura College                                                                                   NaN   \n",
       "West Valley College                                                                               NaN   \n",
       "Yuba College                                        COMSC-2 3 UNITS\\nComputer Assembly Language\\nT...   \n",
       "\n",
       "                                                   CSC256 multipleEqv  \n",
       "School                                                                 \n",
       "SFSU                                                              NaN  \n",
       "Berkeley City College                                             NaN  \n",
       "California Polytechnic State University, Humboldt                 NaN  \n",
       "California Polytechnic State University, Pomona                   NaN  \n",
       "California Polytechnic State University, San Lu...                NaN  \n",
       "...                                                               ...  \n",
       "Solano Community College                                          NaN  \n",
       "Sonoma State University                                           NaN  \n",
       "Ventura College                                                   NaN  \n",
       "West Valley College                                               NaN  \n",
       "Yuba College                                                      NaN  \n",
       "\n",
       "[63 rows x 8 columns]"
      ]
     },
     "execution_count": 5,
     "metadata": {},
     "output_type": "execute_result"
    }
   ],
   "source": [
    "df"
   ]
  },
  {
   "cell_type": "markdown",
   "metadata": {},
   "source": [
    "# Extract Topics\n",
    "\n",
    "Exploration and testing of topic (and general data) extraction."
   ]
  },
  {
   "cell_type": "markdown",
   "metadata": {},
   "source": [
    "## Initialize LLM"
   ]
  },
  {
   "cell_type": "code",
   "execution_count": 7,
   "metadata": {},
   "outputs": [],
   "source": [
    "# llm_cohere = ChatCohere(temperature=0)\n",
    "# cgpt = OpenAI(model_name=\"text-davinci-003\", temperature=0)\n",
    "# cohere = Cohere(model=\"command\", temperature=0)\n",
    "palm = GooglePalm(model_name=\"models/text-bison-001\", temperature=0)"
   ]
  },
  {
   "cell_type": "markdown",
   "metadata": {},
   "source": [
    "## Create Course Class for Output Parsing"
   ]
  },
  {
   "cell_type": "code",
   "execution_count": 8,
   "metadata": {},
   "outputs": [],
   "source": [
    "class Course(BaseModel):\n",
    "    name: str = Field(description=\"name of the course\")\n",
    "    discipline: str = Field(description=\"academic discipline of the course\")\n",
    "    # add college name?\n",
    "    topics: List[str] = Field(description=\"list of topics that the course covers\")\n",
    "\n",
    "course_parser = PydanticOutputParser(pydantic_object=Course)"
   ]
  },
  {
   "cell_type": "markdown",
   "metadata": {},
   "source": [
    "## Create Prompt from Template"
   ]
  },
  {
   "cell_type": "markdown",
   "metadata": {},
   "source": [
    "### Prompt Template for Prompt Generation"
   ]
  },
  {
   "cell_type": "code",
   "execution_count": 9,
   "metadata": {},
   "outputs": [],
   "source": [
    "# Prompt Template to extract only course information\n",
    "# course_query = \"\"\"\\\n",
    "# For the course description, extract the course information.\\n\\\n",
    "# {format_instructions}\\n\\n\\\n",
    "# This is the course description to be analyzed:\\n```{course_desc}```\\n\n",
    "# \"\"\"\n",
    "\n",
    "course_prompt_template = \"\"\"\n",
    "For the course description, extract the course information.  Categorize the \\\n",
    "academic discipline that the course belongs to.\\n\n",
    "{format_instructions}\\n\\n\n",
    "This is the course description to be analyzed:\\n{course_desc}\\n\n",
    "\"\"\"\n",
    "\n",
    "course_desc = df.iloc[2,4]"
   ]
  },
  {
   "cell_type": "code",
   "execution_count": 10,
   "metadata": {},
   "outputs": [
    {
     "data": {
      "text/plain": [
       "'MATH 253 - Discrete Mathematics\\n3 Units, 3 Lecture Hours\\nPrerequisites: MATH 101T (C), or MATH 102 and CS 111\\n\\nSets, functions, relations, algorithms, induction, recursion, combinatorics, graphs, trees, and propositional logic.'"
      ]
     },
     "execution_count": 10,
     "metadata": {},
     "output_type": "execute_result"
    }
   ],
   "source": [
    "course_desc"
   ]
  },
  {
   "cell_type": "code",
   "execution_count": 11,
   "metadata": {},
   "outputs": [],
   "source": [
    "course_prompt = PromptTemplate(\n",
    "    template=course_prompt_template,\n",
    "    input_variables=[\"course_desc\"],\n",
    "    partial_variables={\"format_instructions\": course_parser.get_format_instructions()}\n",
    ")"
   ]
  },
  {
   "cell_type": "code",
   "execution_count": 10,
   "metadata": {},
   "outputs": [],
   "source": [
    "_input = course_prompt.format_prompt(course_desc=course_desc)"
   ]
  },
  {
   "cell_type": "code",
   "execution_count": 11,
   "metadata": {},
   "outputs": [
    {
     "name": "stdout",
     "output_type": "stream",
     "text": [
      "\n",
      "For the course description, extract the course information.  Categorize the academic discipline that the course belongs to.\n",
      "\n",
      "The output should be formatted as a JSON instance that conforms to the JSON schema below.\n",
      "\n",
      "As an example, for the schema {\"properties\": {\"foo\": {\"title\": \"Foo\", \"description\": \"a list of strings\", \"type\": \"array\", \"items\": {\"type\": \"string\"}}}, \"required\": [\"foo\"]}\n",
      "the object {\"foo\": [\"bar\", \"baz\"]} is a well-formatted instance of the schema. The object {\"properties\": {\"foo\": [\"bar\", \"baz\"]}} is not well-formatted.\n",
      "\n",
      "Here is the output schema:\n",
      "```\n",
      "{\"properties\": {\"name\": {\"title\": \"Name\", \"description\": \"name of the course\", \"type\": \"string\"}, \"discipline\": {\"title\": \"Discipline\", \"description\": \"academic discipline of the course\", \"type\": \"string\"}, \"topics\": {\"title\": \"Topics\", \"description\": \"list of topics that the course covers\", \"type\": \"array\", \"items\": {\"type\": \"string\"}}}, \"required\": [\"name\", \"discipline\", \"topics\"]}\n",
      "```\n",
      "\n",
      "\n",
      "This is the course description to be analyzed:\n",
      "MATH 253 - Discrete Mathematics\n",
      "3 Units, 3 Lecture Hours\n",
      "Prerequisites: MATH 101T (C), or MATH 102 and CS 111\n",
      "\n",
      "Sets, functions, relations, algorithms, induction, recursion, combinatorics, graphs, trees, and propositional logic.\n",
      "\n",
      "\n"
     ]
    }
   ],
   "source": [
    "print(_input.to_string())"
   ]
  },
  {
   "cell_type": "code",
   "execution_count": 174,
   "metadata": {},
   "outputs": [],
   "source": [
    "# output_cohere = cohere(_input.to_string())\n",
    "# output_cgpt = cgpt(_input.to_string())"
   ]
  },
  {
   "cell_type": "code",
   "execution_count": 175,
   "metadata": {},
   "outputs": [],
   "source": [
    "course_output_palm = palm(_input.to_string())"
   ]
  },
  {
   "cell_type": "code",
   "execution_count": 176,
   "metadata": {},
   "outputs": [
    {
     "data": {
      "text/plain": [
       "'```\\n{\\n  \"name\": \"MATH 253 - Discrete Mathematics\",\\n  \"discipline\": \"Mathematics\",\\n  \"topics\": [\"Sets\", \"Functions\", \"Relations\", \"Algorithms\", \"Induction\", \"Recursion\", \"Combinatorics\", \"Graphs\", \"Trees\", \"Propositional Logic\"]\\n}\\n```'"
      ]
     },
     "execution_count": 176,
     "metadata": {},
     "output_type": "execute_result"
    }
   ],
   "source": [
    "course_output_palm"
   ]
  },
  {
   "cell_type": "code",
   "execution_count": 177,
   "metadata": {},
   "outputs": [],
   "source": [
    "course_data_palm = course_parser.parse(course_output_palm)"
   ]
  },
  {
   "cell_type": "code",
   "execution_count": 178,
   "metadata": {},
   "outputs": [
    {
     "data": {
      "text/plain": [
       "'Mathematics'"
      ]
     },
     "execution_count": 178,
     "metadata": {},
     "output_type": "execute_result"
    }
   ],
   "source": [
    "course_data_palm.discipline"
   ]
  },
  {
   "cell_type": "markdown",
   "metadata": {},
   "source": [
    "# Process Entire DataFrame\n",
    "\n",
    "Here, I take the exploration that was completed above to develop functions that\n",
    "allow for our entire dataframe to be processed."
   ]
  },
  {
   "cell_type": "code",
   "execution_count": 12,
   "metadata": {},
   "outputs": [],
   "source": [
    "from tqdm.auto import tqdm\n",
    "\n",
    "def process_course(course_desc: str):\n",
    "    if course_desc is np.NaN:\n",
    "        return np.NaN\n",
    "    _input = prompt.format_prompt(course_desc=course_desc)\n",
    "    result = palm(_input.to_string())\n",
    "    return result\n",
    "\n",
    "def process_all_courses(df: pd.DataFrame):\n",
    "    for col in tqdm(df.columns, desc=\"Total Progress\", position=0):\n",
    "        df[f\"{col} data\"] = list(map(process_course, tqdm(df.loc[:, col], desc=f\"{col}\", position=1)))\n",
    "    return df"
   ]
  },
  {
   "cell_type": "code",
   "execution_count": 13,
   "metadata": {},
   "outputs": [
    {
     "data": {
      "text/html": [
       "<div>\n",
       "<style scoped>\n",
       "    .dataframe tbody tr th:only-of-type {\n",
       "        vertical-align: middle;\n",
       "    }\n",
       "\n",
       "    .dataframe tbody tr th {\n",
       "        vertical-align: top;\n",
       "    }\n",
       "\n",
       "    .dataframe thead th {\n",
       "        text-align: right;\n",
       "    }\n",
       "</style>\n",
       "<table border=\"1\" class=\"dataframe\">\n",
       "  <thead>\n",
       "    <tr style=\"text-align: right;\">\n",
       "      <th></th>\n",
       "      <th>MATH226 eqv</th>\n",
       "      <th>MATH226 mult eqv</th>\n",
       "      <th>MATH226 alt eqv</th>\n",
       "      <th>MATH226 alt mult eqv</th>\n",
       "      <th>CSC230 eqv</th>\n",
       "      <th>CSC230 alt eqv</th>\n",
       "      <th>CSC256 eqv</th>\n",
       "      <th>CSC256 multipleEqv</th>\n",
       "    </tr>\n",
       "    <tr>\n",
       "      <th>School</th>\n",
       "      <th></th>\n",
       "      <th></th>\n",
       "      <th></th>\n",
       "      <th></th>\n",
       "      <th></th>\n",
       "      <th></th>\n",
       "      <th></th>\n",
       "      <th></th>\n",
       "    </tr>\n",
       "  </thead>\n",
       "  <tbody>\n",
       "    <tr>\n",
       "      <th>California Polytechnic State University, Humboldt</th>\n",
       "      <td>MATH 109 - Calculus I\\n4 Units, 4 Lecture hour...</td>\n",
       "      <td>NaN</td>\n",
       "      <td>NaN</td>\n",
       "      <td>NaN</td>\n",
       "      <td>MATH 253 - Discrete Mathematics\\n3 Units, 3 Le...</td>\n",
       "      <td>NaN</td>\n",
       "      <td>NaN</td>\n",
       "      <td>NaN</td>\n",
       "    </tr>\n",
       "    <tr>\n",
       "      <th>California Polytechnic State University, Pomona</th>\n",
       "      <td>MAT 1140 - Calculus I\\n4 Units\\nPrerequisites:...</td>\n",
       "      <td>NaN</td>\n",
       "      <td>NaN</td>\n",
       "      <td>NaN</td>\n",
       "      <td>CS 1300 - Discrete Structures\\n4 Units\\nPrereq...</td>\n",
       "      <td>NaN</td>\n",
       "      <td>CS 2640 - Computer Organization and Assembly P...</td>\n",
       "      <td>NaN</td>\n",
       "    </tr>\n",
       "    <tr>\n",
       "      <th>California Polytechnic State University, San Luis Obispo</th>\n",
       "      <td>MATH 141 - Calculus I\\n4 Units\\nGE Area B1\\nPr...</td>\n",
       "      <td>MATH 142 - Calculus II\\n4 units\\nGE Area B1\\nP...</td>\n",
       "      <td>HNRS 141 - Calculus I \\n4 Units \\nPrerequisite...</td>\n",
       "      <td>HNRS 142 - Calculus II \\n4 units\\nPrerequisite...</td>\n",
       "      <td>NaN</td>\n",
       "      <td>NaN</td>\n",
       "      <td>NaN</td>\n",
       "      <td>NaN</td>\n",
       "    </tr>\n",
       "  </tbody>\n",
       "</table>\n",
       "</div>"
      ],
      "text/plain": [
       "                                                                                          MATH226 eqv  \\\n",
       "School                                                                                                  \n",
       "California Polytechnic State University, Humboldt   MATH 109 - Calculus I\\n4 Units, 4 Lecture hour...   \n",
       "California Polytechnic State University, Pomona     MAT 1140 - Calculus I\\n4 Units\\nPrerequisites:...   \n",
       "California Polytechnic State University, San Lu...  MATH 141 - Calculus I\\n4 Units\\nGE Area B1\\nPr...   \n",
       "\n",
       "                                                                                     MATH226 mult eqv  \\\n",
       "School                                                                                                  \n",
       "California Polytechnic State University, Humboldt                                                 NaN   \n",
       "California Polytechnic State University, Pomona                                                   NaN   \n",
       "California Polytechnic State University, San Lu...  MATH 142 - Calculus II\\n4 units\\nGE Area B1\\nP...   \n",
       "\n",
       "                                                                                      MATH226 alt eqv  \\\n",
       "School                                                                                                  \n",
       "California Polytechnic State University, Humboldt                                                 NaN   \n",
       "California Polytechnic State University, Pomona                                                   NaN   \n",
       "California Polytechnic State University, San Lu...  HNRS 141 - Calculus I \\n4 Units \\nPrerequisite...   \n",
       "\n",
       "                                                                                 MATH226 alt mult eqv  \\\n",
       "School                                                                                                  \n",
       "California Polytechnic State University, Humboldt                                                 NaN   \n",
       "California Polytechnic State University, Pomona                                                   NaN   \n",
       "California Polytechnic State University, San Lu...  HNRS 142 - Calculus II \\n4 units\\nPrerequisite...   \n",
       "\n",
       "                                                                                           CSC230 eqv  \\\n",
       "School                                                                                                  \n",
       "California Polytechnic State University, Humboldt   MATH 253 - Discrete Mathematics\\n3 Units, 3 Le...   \n",
       "California Polytechnic State University, Pomona     CS 1300 - Discrete Structures\\n4 Units\\nPrereq...   \n",
       "California Polytechnic State University, San Lu...                                                NaN   \n",
       "\n",
       "                                                   CSC230 alt eqv  \\\n",
       "School                                                              \n",
       "California Polytechnic State University, Humboldt             NaN   \n",
       "California Polytechnic State University, Pomona               NaN   \n",
       "California Polytechnic State University, San Lu...            NaN   \n",
       "\n",
       "                                                                                           CSC256 eqv  \\\n",
       "School                                                                                                  \n",
       "California Polytechnic State University, Humboldt                                                 NaN   \n",
       "California Polytechnic State University, Pomona     CS 2640 - Computer Organization and Assembly P...   \n",
       "California Polytechnic State University, San Lu...                                                NaN   \n",
       "\n",
       "                                                   CSC256 multipleEqv  \n",
       "School                                                                 \n",
       "California Polytechnic State University, Humboldt                 NaN  \n",
       "California Polytechnic State University, Pomona                   NaN  \n",
       "California Polytechnic State University, San Lu...                NaN  "
      ]
     },
     "execution_count": 13,
     "metadata": {},
     "output_type": "execute_result"
    }
   ],
   "source": [
    "toy_df = df.iloc[2:5].copy()\n",
    "toy_df"
   ]
  },
  {
   "cell_type": "code",
   "execution_count": 14,
   "metadata": {},
   "outputs": [],
   "source": [
    "# toy_df2 = process_all_courses(toy_df)\n",
    "# toy_df2"
   ]
  },
  {
   "cell_type": "code",
   "execution_count": 15,
   "metadata": {},
   "outputs": [],
   "source": [
    "# toy_df2.iloc[0,8]"
   ]
  },
  {
   "cell_type": "code",
   "execution_count": 16,
   "metadata": {},
   "outputs": [],
   "source": [
    "# df2 = process_all_courses(df)"
   ]
  },
  {
   "cell_type": "code",
   "execution_count": 17,
   "metadata": {},
   "outputs": [],
   "source": [
    "# df2"
   ]
  },
  {
   "cell_type": "code",
   "execution_count": 14,
   "metadata": {},
   "outputs": [],
   "source": [
    "# with open('../data/course_desc_and_data.pkl', 'wb') as f:\n",
    "#     dill.dump(df2, f)\n",
    "\n",
    "with open('../data/course_desc_and_data.pkl', 'rb') as f:\n",
    "    df2 = dill.load(f)"
   ]
  },
  {
   "cell_type": "code",
   "execution_count": 15,
   "metadata": {},
   "outputs": [
    {
     "data": {
      "text/html": [
       "<div>\n",
       "<style scoped>\n",
       "    .dataframe tbody tr th:only-of-type {\n",
       "        vertical-align: middle;\n",
       "    }\n",
       "\n",
       "    .dataframe tbody tr th {\n",
       "        vertical-align: top;\n",
       "    }\n",
       "\n",
       "    .dataframe thead th {\n",
       "        text-align: right;\n",
       "    }\n",
       "</style>\n",
       "<table border=\"1\" class=\"dataframe\">\n",
       "  <thead>\n",
       "    <tr style=\"text-align: right;\">\n",
       "      <th></th>\n",
       "      <th>MATH226 eqv</th>\n",
       "      <th>MATH226 mult eqv</th>\n",
       "      <th>MATH226 alt eqv</th>\n",
       "      <th>MATH226 alt mult eqv</th>\n",
       "      <th>CSC230 eqv</th>\n",
       "      <th>CSC230 alt eqv</th>\n",
       "      <th>CSC256 eqv</th>\n",
       "      <th>CSC256 multipleEqv</th>\n",
       "      <th>MATH226 eqv data</th>\n",
       "      <th>MATH226 mult eqv data</th>\n",
       "      <th>MATH226 alt eqv data</th>\n",
       "      <th>MATH226 alt mult eqv data</th>\n",
       "      <th>CSC230 eqv data</th>\n",
       "      <th>CSC230 alt eqv data</th>\n",
       "      <th>CSC256 eqv data</th>\n",
       "      <th>CSC256 multipleEqv data</th>\n",
       "    </tr>\n",
       "    <tr>\n",
       "      <th>School</th>\n",
       "      <th></th>\n",
       "      <th></th>\n",
       "      <th></th>\n",
       "      <th></th>\n",
       "      <th></th>\n",
       "      <th></th>\n",
       "      <th></th>\n",
       "      <th></th>\n",
       "      <th></th>\n",
       "      <th></th>\n",
       "      <th></th>\n",
       "      <th></th>\n",
       "      <th></th>\n",
       "      <th></th>\n",
       "      <th></th>\n",
       "      <th></th>\n",
       "    </tr>\n",
       "  </thead>\n",
       "  <tbody>\n",
       "    <tr>\n",
       "      <th>SFSU</th>\n",
       "      <td>MATH 226 - Calculus I\\n4 Units\\n\\nGraphs. Diff...</td>\n",
       "      <td>NaN</td>\n",
       "      <td>NaN</td>\n",
       "      <td>NaN</td>\n",
       "      <td>CSC 230 - Discrete Mathematical Structures for...</td>\n",
       "      <td>NaN</td>\n",
       "      <td>CSC 256 - Machine Structures\\n3 Units\\n\\nDigit...</td>\n",
       "      <td>NaN</td>\n",
       "      <td>{\"name\": \"MATH 226 - Calculus I\", \"discipline\"...</td>\n",
       "      <td>NaN</td>\n",
       "      <td>NaN</td>\n",
       "      <td>NaN</td>\n",
       "      <td>{\"name\": \"CSC 230 - Discrete Mathematical Stru...</td>\n",
       "      <td>NaN</td>\n",
       "      <td>```\\n{\\n  \"name\": \"CSC 256 - Machine Structure...</td>\n",
       "      <td>NaN</td>\n",
       "    </tr>\n",
       "    <tr>\n",
       "      <th>Berkeley City College</th>\n",
       "      <td>MATH 3A - Calculus I\\n5 Units, 5 lecture hours...</td>\n",
       "      <td>NaN</td>\n",
       "      <td>NaN</td>\n",
       "      <td>NaN</td>\n",
       "      <td>MATH 11 - Discrete Mathematics\\n4 units\\n\\nN/A</td>\n",
       "      <td>NaN</td>\n",
       "      <td>CIS 20: Microcomputer Assembly Language\\n4 Uni...</td>\n",
       "      <td>NaN</td>\n",
       "      <td>```\\n{\\n  \"name\": \"MATH 3A - Calculus I\",\\n  \"...</td>\n",
       "      <td>NaN</td>\n",
       "      <td>NaN</td>\n",
       "      <td>NaN</td>\n",
       "      <td>{\"name\": \"MATH 11 - Discrete Mathematics\", \"di...</td>\n",
       "      <td>NaN</td>\n",
       "      <td>```\\n{\\n  \"name\": \"CIS 20: Microcomputer Assem...</td>\n",
       "      <td>NaN</td>\n",
       "    </tr>\n",
       "    <tr>\n",
       "      <th>California Polytechnic State University, Humboldt</th>\n",
       "      <td>MATH 109 - Calculus I\\n4 Units, 4 Lecture hour...</td>\n",
       "      <td>NaN</td>\n",
       "      <td>NaN</td>\n",
       "      <td>NaN</td>\n",
       "      <td>MATH 253 - Discrete Mathematics\\n3 Units, 3 Le...</td>\n",
       "      <td>NaN</td>\n",
       "      <td>NaN</td>\n",
       "      <td>NaN</td>\n",
       "      <td>```\\n{\\n  \"name\": \"MATH 109 - Calculus I\",\\n  ...</td>\n",
       "      <td>NaN</td>\n",
       "      <td>NaN</td>\n",
       "      <td>NaN</td>\n",
       "      <td>```\\n{\\n  \"name\": \"MATH 253 - Discrete Mathema...</td>\n",
       "      <td>NaN</td>\n",
       "      <td>NaN</td>\n",
       "      <td>NaN</td>\n",
       "    </tr>\n",
       "    <tr>\n",
       "      <th>California Polytechnic State University, Pomona</th>\n",
       "      <td>MAT 1140 - Calculus I\\n4 Units\\nPrerequisites:...</td>\n",
       "      <td>NaN</td>\n",
       "      <td>NaN</td>\n",
       "      <td>NaN</td>\n",
       "      <td>CS 1300 - Discrete Structures\\n4 Units\\nPrereq...</td>\n",
       "      <td>NaN</td>\n",
       "      <td>CS 2640 - Computer Organization and Assembly P...</td>\n",
       "      <td>NaN</td>\n",
       "      <td>```\\n{\\n  \"name\": \"MAT 1140 - Calculus I\",\\n  ...</td>\n",
       "      <td>NaN</td>\n",
       "      <td>NaN</td>\n",
       "      <td>NaN</td>\n",
       "      <td>```\\n{\\n  \"name\": \"CS 1300 - Discrete Structur...</td>\n",
       "      <td>NaN</td>\n",
       "      <td>```\\n{\\n  \"name\": \"CS 2640 - Computer Organiza...</td>\n",
       "      <td>NaN</td>\n",
       "    </tr>\n",
       "    <tr>\n",
       "      <th>California Polytechnic State University, San Luis Obispo</th>\n",
       "      <td>MATH 141 - Calculus I\\n4 Units\\nGE Area B1\\nPr...</td>\n",
       "      <td>MATH 142 - Calculus II\\n4 units\\nGE Area B1\\nP...</td>\n",
       "      <td>HNRS 141 - Calculus I \\n4 Units \\nPrerequisite...</td>\n",
       "      <td>HNRS 142 - Calculus II \\n4 units\\nPrerequisite...</td>\n",
       "      <td>NaN</td>\n",
       "      <td>NaN</td>\n",
       "      <td>NaN</td>\n",
       "      <td>NaN</td>\n",
       "      <td>{\"name\": \"MATH 141 - Calculus I\", \"discipline\"...</td>\n",
       "      <td>```\\n{\\n  \"name\": \"MATH 142 - Calculus II\",\\n ...</td>\n",
       "      <td>```\\n{\\n  \"name\": \"HNRS 141 - Calculus I\",\\n  ...</td>\n",
       "      <td>```\\n{\\n  \"name\": \"HNRS 142 - Calculus II\",\\n ...</td>\n",
       "      <td>NaN</td>\n",
       "      <td>NaN</td>\n",
       "      <td>NaN</td>\n",
       "      <td>NaN</td>\n",
       "    </tr>\n",
       "    <tr>\n",
       "      <th>...</th>\n",
       "      <td>...</td>\n",
       "      <td>...</td>\n",
       "      <td>...</td>\n",
       "      <td>...</td>\n",
       "      <td>...</td>\n",
       "      <td>...</td>\n",
       "      <td>...</td>\n",
       "      <td>...</td>\n",
       "      <td>...</td>\n",
       "      <td>...</td>\n",
       "      <td>...</td>\n",
       "      <td>...</td>\n",
       "      <td>...</td>\n",
       "      <td>...</td>\n",
       "      <td>...</td>\n",
       "      <td>...</td>\n",
       "    </tr>\n",
       "    <tr>\n",
       "      <th>Solano Community College</th>\n",
       "      <td>MATH020:\\n\\n4.0 Units\\nPrint\\nDescription:\\n\\n...</td>\n",
       "      <td>NaN</td>\n",
       "      <td>NaN</td>\n",
       "      <td>NaN</td>\n",
       "      <td>CIS021:\\n\\n3.0 Units\\nPrint\\nDescription:\\n\\nA...</td>\n",
       "      <td>NaN</td>\n",
       "      <td>CIS020:\\n\\n3.0 Units\\nPrint\\nDescription:\\n\\nA...</td>\n",
       "      <td>NaN</td>\n",
       "      <td>{\"name\": \"MATH020\", \"discipline\": \"Mathematics...</td>\n",
       "      <td>NaN</td>\n",
       "      <td>NaN</td>\n",
       "      <td>NaN</td>\n",
       "      <td>```\\n{\\n  \"name\": \"CIS021\",\\n  \"discipline\": \"...</td>\n",
       "      <td>NaN</td>\n",
       "      <td>{\"name\": \"CIS020\", \"discipline\": \"Computer Sci...</td>\n",
       "      <td>NaN</td>\n",
       "    </tr>\n",
       "    <tr>\n",
       "      <th>Sonoma State University</th>\n",
       "      <td>MATH 161 - Differential and Integral Calculus ...</td>\n",
       "      <td>NaN</td>\n",
       "      <td>NaN</td>\n",
       "      <td>NaN</td>\n",
       "      <td>NaN</td>\n",
       "      <td>NaN</td>\n",
       "      <td>NaN</td>\n",
       "      <td>NaN</td>\n",
       "      <td>```\\n{\\n  \"name\": \"MATH 161 - Differential and...</td>\n",
       "      <td>NaN</td>\n",
       "      <td>NaN</td>\n",
       "      <td>NaN</td>\n",
       "      <td>NaN</td>\n",
       "      <td>NaN</td>\n",
       "      <td>NaN</td>\n",
       "      <td>NaN</td>\n",
       "    </tr>\n",
       "    <tr>\n",
       "      <th>Ventura College</th>\n",
       "      <td>MATH V21A Calculus with Analytic Geometry I 5 ...</td>\n",
       "      <td>NaN</td>\n",
       "      <td>NaN</td>\n",
       "      <td>NaN</td>\n",
       "      <td>MATH V52 Discrete Structures 3 Units\\nSame-As:...</td>\n",
       "      <td>CS V17 Discrete Structures 3 Units\\nSame-As: M...</td>\n",
       "      <td>NaN</td>\n",
       "      <td>NaN</td>\n",
       "      <td>```\\n{\\n  \"name\": \"MATH V21A Calculus with Ana...</td>\n",
       "      <td>NaN</td>\n",
       "      <td>NaN</td>\n",
       "      <td>NaN</td>\n",
       "      <td>```\\n{\\n  \"name\": \"MATH V52 Discrete Structure...</td>\n",
       "      <td>```\\n{\\n  \"name\": \"CS V17 Discrete Structures\"...</td>\n",
       "      <td>NaN</td>\n",
       "      <td>NaN</td>\n",
       "    </tr>\n",
       "    <tr>\n",
       "      <th>West Valley College</th>\n",
       "      <td>MATH 003A: Calculus and Analytical Geometry\\nC...</td>\n",
       "      <td>NaN</td>\n",
       "      <td>NaN</td>\n",
       "      <td>NaN</td>\n",
       "      <td>MATH 019: Discrete Mathematics\\nCourse Descrip...</td>\n",
       "      <td>NaN</td>\n",
       "      <td>NaN</td>\n",
       "      <td>NaN</td>\n",
       "      <td>```\\n{\\n  \"name\": \"MATH 003A: Calculus and Ana...</td>\n",
       "      <td>NaN</td>\n",
       "      <td>NaN</td>\n",
       "      <td>NaN</td>\n",
       "      <td>```\\n{\\n  \"name\": \"MATH 019: Discrete Mathemat...</td>\n",
       "      <td>NaN</td>\n",
       "      <td>NaN</td>\n",
       "      <td>NaN</td>\n",
       "    </tr>\n",
       "    <tr>\n",
       "      <th>Yuba College</th>\n",
       "      <td>MATH-1A 4 UNITS\\nSingle Variable Calculus I - ...</td>\n",
       "      <td>NaN</td>\n",
       "      <td>NaN</td>\n",
       "      <td>NaN</td>\n",
       "      <td>COMSC-15 3 UNITS\\nDiscrete Structures for Comp...</td>\n",
       "      <td>NaN</td>\n",
       "      <td>COMSC-2 3 UNITS\\nComputer Assembly Language\\nT...</td>\n",
       "      <td>NaN</td>\n",
       "      <td>```\\n{\\n  \"name\": \"MATH-1A\",\\n  \"discipline\": ...</td>\n",
       "      <td>NaN</td>\n",
       "      <td>NaN</td>\n",
       "      <td>NaN</td>\n",
       "      <td>```\\n{\\n  \"name\": \"COMSC-15\",\\n  \"discipline\":...</td>\n",
       "      <td>NaN</td>\n",
       "      <td>```\\n{\\n  \"name\": \"Computer Assembly Language\"...</td>\n",
       "      <td>NaN</td>\n",
       "    </tr>\n",
       "  </tbody>\n",
       "</table>\n",
       "<p>63 rows × 16 columns</p>\n",
       "</div>"
      ],
      "text/plain": [
       "                                                                                          MATH226 eqv  \\\n",
       "School                                                                                                  \n",
       "SFSU                                                MATH 226 - Calculus I\\n4 Units\\n\\nGraphs. Diff...   \n",
       "Berkeley City College                               MATH 3A - Calculus I\\n5 Units, 5 lecture hours...   \n",
       "California Polytechnic State University, Humboldt   MATH 109 - Calculus I\\n4 Units, 4 Lecture hour...   \n",
       "California Polytechnic State University, Pomona     MAT 1140 - Calculus I\\n4 Units\\nPrerequisites:...   \n",
       "California Polytechnic State University, San Lu...  MATH 141 - Calculus I\\n4 Units\\nGE Area B1\\nPr...   \n",
       "...                                                                                               ...   \n",
       "Solano Community College                            MATH020:\\n\\n4.0 Units\\nPrint\\nDescription:\\n\\n...   \n",
       "Sonoma State University                             MATH 161 - Differential and Integral Calculus ...   \n",
       "Ventura College                                     MATH V21A Calculus with Analytic Geometry I 5 ...   \n",
       "West Valley College                                 MATH 003A: Calculus and Analytical Geometry\\nC...   \n",
       "Yuba College                                        MATH-1A 4 UNITS\\nSingle Variable Calculus I - ...   \n",
       "\n",
       "                                                                                     MATH226 mult eqv  \\\n",
       "School                                                                                                  \n",
       "SFSU                                                                                              NaN   \n",
       "Berkeley City College                                                                             NaN   \n",
       "California Polytechnic State University, Humboldt                                                 NaN   \n",
       "California Polytechnic State University, Pomona                                                   NaN   \n",
       "California Polytechnic State University, San Lu...  MATH 142 - Calculus II\\n4 units\\nGE Area B1\\nP...   \n",
       "...                                                                                               ...   \n",
       "Solano Community College                                                                          NaN   \n",
       "Sonoma State University                                                                           NaN   \n",
       "Ventura College                                                                                   NaN   \n",
       "West Valley College                                                                               NaN   \n",
       "Yuba College                                                                                      NaN   \n",
       "\n",
       "                                                                                      MATH226 alt eqv  \\\n",
       "School                                                                                                  \n",
       "SFSU                                                                                              NaN   \n",
       "Berkeley City College                                                                             NaN   \n",
       "California Polytechnic State University, Humboldt                                                 NaN   \n",
       "California Polytechnic State University, Pomona                                                   NaN   \n",
       "California Polytechnic State University, San Lu...  HNRS 141 - Calculus I \\n4 Units \\nPrerequisite...   \n",
       "...                                                                                               ...   \n",
       "Solano Community College                                                                          NaN   \n",
       "Sonoma State University                                                                           NaN   \n",
       "Ventura College                                                                                   NaN   \n",
       "West Valley College                                                                               NaN   \n",
       "Yuba College                                                                                      NaN   \n",
       "\n",
       "                                                                                 MATH226 alt mult eqv  \\\n",
       "School                                                                                                  \n",
       "SFSU                                                                                              NaN   \n",
       "Berkeley City College                                                                             NaN   \n",
       "California Polytechnic State University, Humboldt                                                 NaN   \n",
       "California Polytechnic State University, Pomona                                                   NaN   \n",
       "California Polytechnic State University, San Lu...  HNRS 142 - Calculus II \\n4 units\\nPrerequisite...   \n",
       "...                                                                                               ...   \n",
       "Solano Community College                                                                          NaN   \n",
       "Sonoma State University                                                                           NaN   \n",
       "Ventura College                                                                                   NaN   \n",
       "West Valley College                                                                               NaN   \n",
       "Yuba College                                                                                      NaN   \n",
       "\n",
       "                                                                                           CSC230 eqv  \\\n",
       "School                                                                                                  \n",
       "SFSU                                                CSC 230 - Discrete Mathematical Structures for...   \n",
       "Berkeley City College                                  MATH 11 - Discrete Mathematics\\n4 units\\n\\nN/A   \n",
       "California Polytechnic State University, Humboldt   MATH 253 - Discrete Mathematics\\n3 Units, 3 Le...   \n",
       "California Polytechnic State University, Pomona     CS 1300 - Discrete Structures\\n4 Units\\nPrereq...   \n",
       "California Polytechnic State University, San Lu...                                                NaN   \n",
       "...                                                                                               ...   \n",
       "Solano Community College                            CIS021:\\n\\n3.0 Units\\nPrint\\nDescription:\\n\\nA...   \n",
       "Sonoma State University                                                                           NaN   \n",
       "Ventura College                                     MATH V52 Discrete Structures 3 Units\\nSame-As:...   \n",
       "West Valley College                                 MATH 019: Discrete Mathematics\\nCourse Descrip...   \n",
       "Yuba College                                        COMSC-15 3 UNITS\\nDiscrete Structures for Comp...   \n",
       "\n",
       "                                                                                       CSC230 alt eqv  \\\n",
       "School                                                                                                  \n",
       "SFSU                                                                                              NaN   \n",
       "Berkeley City College                                                                             NaN   \n",
       "California Polytechnic State University, Humboldt                                                 NaN   \n",
       "California Polytechnic State University, Pomona                                                   NaN   \n",
       "California Polytechnic State University, San Lu...                                                NaN   \n",
       "...                                                                                               ...   \n",
       "Solano Community College                                                                          NaN   \n",
       "Sonoma State University                                                                           NaN   \n",
       "Ventura College                                     CS V17 Discrete Structures 3 Units\\nSame-As: M...   \n",
       "West Valley College                                                                               NaN   \n",
       "Yuba College                                                                                      NaN   \n",
       "\n",
       "                                                                                           CSC256 eqv  \\\n",
       "School                                                                                                  \n",
       "SFSU                                                CSC 256 - Machine Structures\\n3 Units\\n\\nDigit...   \n",
       "Berkeley City College                               CIS 20: Microcomputer Assembly Language\\n4 Uni...   \n",
       "California Polytechnic State University, Humboldt                                                 NaN   \n",
       "California Polytechnic State University, Pomona     CS 2640 - Computer Organization and Assembly P...   \n",
       "California Polytechnic State University, San Lu...                                                NaN   \n",
       "...                                                                                               ...   \n",
       "Solano Community College                            CIS020:\\n\\n3.0 Units\\nPrint\\nDescription:\\n\\nA...   \n",
       "Sonoma State University                                                                           NaN   \n",
       "Ventura College                                                                                   NaN   \n",
       "West Valley College                                                                               NaN   \n",
       "Yuba College                                        COMSC-2 3 UNITS\\nComputer Assembly Language\\nT...   \n",
       "\n",
       "                                                   CSC256 multipleEqv  \\\n",
       "School                                                                  \n",
       "SFSU                                                              NaN   \n",
       "Berkeley City College                                             NaN   \n",
       "California Polytechnic State University, Humboldt                 NaN   \n",
       "California Polytechnic State University, Pomona                   NaN   \n",
       "California Polytechnic State University, San Lu...                NaN   \n",
       "...                                                               ...   \n",
       "Solano Community College                                          NaN   \n",
       "Sonoma State University                                           NaN   \n",
       "Ventura College                                                   NaN   \n",
       "West Valley College                                               NaN   \n",
       "Yuba College                                                      NaN   \n",
       "\n",
       "                                                                                     MATH226 eqv data  \\\n",
       "School                                                                                                  \n",
       "SFSU                                                {\"name\": \"MATH 226 - Calculus I\", \"discipline\"...   \n",
       "Berkeley City College                               ```\\n{\\n  \"name\": \"MATH 3A - Calculus I\",\\n  \"...   \n",
       "California Polytechnic State University, Humboldt   ```\\n{\\n  \"name\": \"MATH 109 - Calculus I\",\\n  ...   \n",
       "California Polytechnic State University, Pomona     ```\\n{\\n  \"name\": \"MAT 1140 - Calculus I\",\\n  ...   \n",
       "California Polytechnic State University, San Lu...  {\"name\": \"MATH 141 - Calculus I\", \"discipline\"...   \n",
       "...                                                                                               ...   \n",
       "Solano Community College                            {\"name\": \"MATH020\", \"discipline\": \"Mathematics...   \n",
       "Sonoma State University                             ```\\n{\\n  \"name\": \"MATH 161 - Differential and...   \n",
       "Ventura College                                     ```\\n{\\n  \"name\": \"MATH V21A Calculus with Ana...   \n",
       "West Valley College                                 ```\\n{\\n  \"name\": \"MATH 003A: Calculus and Ana...   \n",
       "Yuba College                                        ```\\n{\\n  \"name\": \"MATH-1A\",\\n  \"discipline\": ...   \n",
       "\n",
       "                                                                                MATH226 mult eqv data  \\\n",
       "School                                                                                                  \n",
       "SFSU                                                                                              NaN   \n",
       "Berkeley City College                                                                             NaN   \n",
       "California Polytechnic State University, Humboldt                                                 NaN   \n",
       "California Polytechnic State University, Pomona                                                   NaN   \n",
       "California Polytechnic State University, San Lu...  ```\\n{\\n  \"name\": \"MATH 142 - Calculus II\",\\n ...   \n",
       "...                                                                                               ...   \n",
       "Solano Community College                                                                          NaN   \n",
       "Sonoma State University                                                                           NaN   \n",
       "Ventura College                                                                                   NaN   \n",
       "West Valley College                                                                               NaN   \n",
       "Yuba College                                                                                      NaN   \n",
       "\n",
       "                                                                                 MATH226 alt eqv data  \\\n",
       "School                                                                                                  \n",
       "SFSU                                                                                              NaN   \n",
       "Berkeley City College                                                                             NaN   \n",
       "California Polytechnic State University, Humboldt                                                 NaN   \n",
       "California Polytechnic State University, Pomona                                                   NaN   \n",
       "California Polytechnic State University, San Lu...  ```\\n{\\n  \"name\": \"HNRS 141 - Calculus I\",\\n  ...   \n",
       "...                                                                                               ...   \n",
       "Solano Community College                                                                          NaN   \n",
       "Sonoma State University                                                                           NaN   \n",
       "Ventura College                                                                                   NaN   \n",
       "West Valley College                                                                               NaN   \n",
       "Yuba College                                                                                      NaN   \n",
       "\n",
       "                                                                            MATH226 alt mult eqv data  \\\n",
       "School                                                                                                  \n",
       "SFSU                                                                                              NaN   \n",
       "Berkeley City College                                                                             NaN   \n",
       "California Polytechnic State University, Humboldt                                                 NaN   \n",
       "California Polytechnic State University, Pomona                                                   NaN   \n",
       "California Polytechnic State University, San Lu...  ```\\n{\\n  \"name\": \"HNRS 142 - Calculus II\",\\n ...   \n",
       "...                                                                                               ...   \n",
       "Solano Community College                                                                          NaN   \n",
       "Sonoma State University                                                                           NaN   \n",
       "Ventura College                                                                                   NaN   \n",
       "West Valley College                                                                               NaN   \n",
       "Yuba College                                                                                      NaN   \n",
       "\n",
       "                                                                                      CSC230 eqv data  \\\n",
       "School                                                                                                  \n",
       "SFSU                                                {\"name\": \"CSC 230 - Discrete Mathematical Stru...   \n",
       "Berkeley City College                               {\"name\": \"MATH 11 - Discrete Mathematics\", \"di...   \n",
       "California Polytechnic State University, Humboldt   ```\\n{\\n  \"name\": \"MATH 253 - Discrete Mathema...   \n",
       "California Polytechnic State University, Pomona     ```\\n{\\n  \"name\": \"CS 1300 - Discrete Structur...   \n",
       "California Polytechnic State University, San Lu...                                                NaN   \n",
       "...                                                                                               ...   \n",
       "Solano Community College                            ```\\n{\\n  \"name\": \"CIS021\",\\n  \"discipline\": \"...   \n",
       "Sonoma State University                                                                           NaN   \n",
       "Ventura College                                     ```\\n{\\n  \"name\": \"MATH V52 Discrete Structure...   \n",
       "West Valley College                                 ```\\n{\\n  \"name\": \"MATH 019: Discrete Mathemat...   \n",
       "Yuba College                                        ```\\n{\\n  \"name\": \"COMSC-15\",\\n  \"discipline\":...   \n",
       "\n",
       "                                                                                  CSC230 alt eqv data  \\\n",
       "School                                                                                                  \n",
       "SFSU                                                                                              NaN   \n",
       "Berkeley City College                                                                             NaN   \n",
       "California Polytechnic State University, Humboldt                                                 NaN   \n",
       "California Polytechnic State University, Pomona                                                   NaN   \n",
       "California Polytechnic State University, San Lu...                                                NaN   \n",
       "...                                                                                               ...   \n",
       "Solano Community College                                                                          NaN   \n",
       "Sonoma State University                                                                           NaN   \n",
       "Ventura College                                     ```\\n{\\n  \"name\": \"CS V17 Discrete Structures\"...   \n",
       "West Valley College                                                                               NaN   \n",
       "Yuba College                                                                                      NaN   \n",
       "\n",
       "                                                                                      CSC256 eqv data  \\\n",
       "School                                                                                                  \n",
       "SFSU                                                ```\\n{\\n  \"name\": \"CSC 256 - Machine Structure...   \n",
       "Berkeley City College                               ```\\n{\\n  \"name\": \"CIS 20: Microcomputer Assem...   \n",
       "California Polytechnic State University, Humboldt                                                 NaN   \n",
       "California Polytechnic State University, Pomona     ```\\n{\\n  \"name\": \"CS 2640 - Computer Organiza...   \n",
       "California Polytechnic State University, San Lu...                                                NaN   \n",
       "...                                                                                               ...   \n",
       "Solano Community College                            {\"name\": \"CIS020\", \"discipline\": \"Computer Sci...   \n",
       "Sonoma State University                                                                           NaN   \n",
       "Ventura College                                                                                   NaN   \n",
       "West Valley College                                                                               NaN   \n",
       "Yuba College                                        ```\\n{\\n  \"name\": \"Computer Assembly Language\"...   \n",
       "\n",
       "                                                   CSC256 multipleEqv data  \n",
       "School                                                                      \n",
       "SFSU                                                                   NaN  \n",
       "Berkeley City College                                                  NaN  \n",
       "California Polytechnic State University, Humboldt                      NaN  \n",
       "California Polytechnic State University, Pomona                        NaN  \n",
       "California Polytechnic State University, San Lu...                     NaN  \n",
       "...                                                                    ...  \n",
       "Solano Community College                                               NaN  \n",
       "Sonoma State University                                                NaN  \n",
       "Ventura College                                                        NaN  \n",
       "West Valley College                                                    NaN  \n",
       "Yuba College                                                           NaN  \n",
       "\n",
       "[63 rows x 16 columns]"
      ]
     },
     "execution_count": 15,
     "metadata": {},
     "output_type": "execute_result"
    }
   ],
   "source": [
    "df2"
   ]
  },
  {
   "cell_type": "code",
   "execution_count": 29,
   "metadata": {},
   "outputs": [
    {
     "data": {
      "text/plain": [
       "'{\"name\": \"MATH 226 - Calculus I\", \"discipline\": \"Mathematics\", \"topics\": [\"Calculus\", \"Differentiation\", \"Integration\", \"Transcendental functions\"]}'"
      ]
     },
     "execution_count": 29,
     "metadata": {},
     "output_type": "execute_result"
    }
   ],
   "source": [
    "df2.iloc[0,8]"
   ]
  },
  {
   "cell_type": "code",
   "execution_count": 32,
   "metadata": {},
   "outputs": [
    {
     "data": {
      "text/plain": [
       "Course(name='MATH 226 - Calculus I', discipline='Mathematics', topics=['Calculus', 'Differentiation', 'Integration', 'Transcendental functions'])"
      ]
     },
     "execution_count": 32,
     "metadata": {},
     "output_type": "execute_result"
    }
   ],
   "source": [
    "course_data_palm = course_parser.parse(df2.iloc[0,8])\n",
    "course_data_palm"
   ]
  },
  {
   "cell_type": "code",
   "execution_count": 36,
   "metadata": {},
   "outputs": [
    {
     "data": {
      "text/plain": [
       "list"
      ]
     },
     "execution_count": 36,
     "metadata": {},
     "output_type": "execute_result"
    }
   ],
   "source": [
    "course_data_palm.topics"
   ]
  },
  {
   "cell_type": "markdown",
   "metadata": {},
   "source": [
    "# Create Positive and Negative Test Case Dataset"
   ]
  },
  {
   "cell_type": "markdown",
   "metadata": {},
   "source": [
    "## Construct Positive Cases\n",
    "\n",
    "The set of positive equivalencies were created from course articulation\n",
    "agreements with SFSU only.  To expand the set of positive equivalencies, we\n",
    "assume that any course from a college that has an articulated course with SFSU\n",
    "is also equivalent to any other course from another college that has an\n",
    "articulation agreement with SFSU.\n",
    "\n",
    "By doing this, we increase the number of positive cases from $62$ to $1953$ for each\n",
    "course, of which, we have 3 (Calculus I, Discrete Math, and Machine Structures).\n",
    "So for each course we have\n",
    "$$ C(n,k) = \\frac{P(n,k)}{k!} = \\frac{n!}{k!(n-k)!} $$\n",
    "$$ C(63,2) = \\frac{63!}{2(61!)} = \\frac{63\\cdot 62}{2} = 1953. $$\n",
    "Then by applying this to all three cases, we construct $4259$ positive cases\n",
    "($5859$ total positive pairs $- 1600$ unarticulated courses $= 4259$)."
   ]
  },
  {
   "cell_type": "code",
   "execution_count": 134,
   "metadata": {},
   "outputs": [],
   "source": [
    "pairs_list = []\n",
    "count = 0\n",
    "df_test_cases = df2.iloc[:,[0, 4, 6, 8, 12, 14]]\n",
    "for i in range(int(len(df_test_cases.columns)/2)):\n",
    "    for j, desc in enumerate(df_test_cases.iloc[:,i]):\n",
    "        for k in range(j+1,len(df_test_cases.iloc[:,i])):\n",
    "            if (type(desc) is str) and (type(df_test_cases.iloc[k,i]) is str):\n",
    "                pairs_list.append((desc, df_test_cases.iloc[k,i], df_test_cases.iloc[j,i+3], df_test_cases.iloc[k,i+3], 1))\n",
    "            else:\n",
    "                count += 1"
   ]
  },
  {
   "cell_type": "code",
   "execution_count": 135,
   "metadata": {},
   "outputs": [
    {
     "data": {
      "text/plain": [
       "4259"
      ]
     },
     "execution_count": 135,
     "metadata": {},
     "output_type": "execute_result"
    }
   ],
   "source": [
    "len(pairs_list)"
   ]
  },
  {
   "cell_type": "markdown",
   "metadata": {},
   "source": [
    "##### Sanity Check"
   ]
  },
  {
   "cell_type": "code",
   "execution_count": 136,
   "metadata": {},
   "outputs": [
    {
     "data": {
      "text/plain": [
       "1600"
      ]
     },
     "execution_count": 136,
     "metadata": {},
     "output_type": "execute_result"
    }
   ],
   "source": [
    "count"
   ]
  },
  {
   "cell_type": "code",
   "execution_count": 137,
   "metadata": {},
   "outputs": [
    {
     "data": {
      "text/plain": [
       "4259"
      ]
     },
     "execution_count": 137,
     "metadata": {},
     "output_type": "execute_result"
    }
   ],
   "source": [
    "len(pairs_list)"
   ]
  },
  {
   "cell_type": "code",
   "execution_count": 138,
   "metadata": {},
   "outputs": [
    {
     "data": {
      "text/plain": [
       "5859"
      ]
     },
     "execution_count": 138,
     "metadata": {},
     "output_type": "execute_result"
    }
   ],
   "source": [
    "count + len(pairs_list)"
   ]
  },
  {
   "cell_type": "code",
   "execution_count": 139,
   "metadata": {},
   "outputs": [
    {
     "data": {
      "text/html": [
       "<div>\n",
       "<style scoped>\n",
       "    .dataframe tbody tr th:only-of-type {\n",
       "        vertical-align: middle;\n",
       "    }\n",
       "\n",
       "    .dataframe tbody tr th {\n",
       "        vertical-align: top;\n",
       "    }\n",
       "\n",
       "    .dataframe thead th {\n",
       "        text-align: right;\n",
       "    }\n",
       "</style>\n",
       "<table border=\"1\" class=\"dataframe\">\n",
       "  <thead>\n",
       "    <tr style=\"text-align: right;\">\n",
       "      <th></th>\n",
       "      <th>target_raw</th>\n",
       "      <th>source_raw</th>\n",
       "      <th>target_topics</th>\n",
       "      <th>source_topics</th>\n",
       "      <th>label</th>\n",
       "    </tr>\n",
       "  </thead>\n",
       "  <tbody>\n",
       "    <tr>\n",
       "      <th>0</th>\n",
       "      <td>MATH 226 - Calculus I\\n4 Units\\n\\nGraphs. Diff...</td>\n",
       "      <td>MATH 3A - Calculus I\\n5 Units, 5 lecture hours...</td>\n",
       "      <td>{\"name\": \"MATH 226 - Calculus I\", \"discipline\"...</td>\n",
       "      <td>```\\n{\\n  \"name\": \"MATH 3A - Calculus I\",\\n  \"...</td>\n",
       "      <td>1</td>\n",
       "    </tr>\n",
       "    <tr>\n",
       "      <th>1</th>\n",
       "      <td>MATH 226 - Calculus I\\n4 Units\\n\\nGraphs. Diff...</td>\n",
       "      <td>MATH 109 - Calculus I\\n4 Units, 4 Lecture hour...</td>\n",
       "      <td>{\"name\": \"MATH 226 - Calculus I\", \"discipline\"...</td>\n",
       "      <td>```\\n{\\n  \"name\": \"MATH 109 - Calculus I\",\\n  ...</td>\n",
       "      <td>1</td>\n",
       "    </tr>\n",
       "    <tr>\n",
       "      <th>2</th>\n",
       "      <td>MATH 226 - Calculus I\\n4 Units\\n\\nGraphs. Diff...</td>\n",
       "      <td>MAT 1140 - Calculus I\\n4 Units\\nPrerequisites:...</td>\n",
       "      <td>{\"name\": \"MATH 226 - Calculus I\", \"discipline\"...</td>\n",
       "      <td>```\\n{\\n  \"name\": \"MAT 1140 - Calculus I\",\\n  ...</td>\n",
       "      <td>1</td>\n",
       "    </tr>\n",
       "    <tr>\n",
       "      <th>3</th>\n",
       "      <td>MATH 226 - Calculus I\\n4 Units\\n\\nGraphs. Diff...</td>\n",
       "      <td>MATH 141 - Calculus I\\n4 Units\\nGE Area B1\\nPr...</td>\n",
       "      <td>{\"name\": \"MATH 226 - Calculus I\", \"discipline\"...</td>\n",
       "      <td>{\"name\": \"MATH 141 - Calculus I\", \"discipline\"...</td>\n",
       "      <td>1</td>\n",
       "    </tr>\n",
       "    <tr>\n",
       "      <th>4</th>\n",
       "      <td>MATH 226 - Calculus I\\n4 Units\\n\\nGraphs. Diff...</td>\n",
       "      <td>MATH 150 - Calculus I\\n4 Units\\nFour hours lec...</td>\n",
       "      <td>{\"name\": \"MATH 226 - Calculus I\", \"discipline\"...</td>\n",
       "      <td>```\\n{\\n  \"name\": \"MATH 150 - Calculus I\",\\n  ...</td>\n",
       "      <td>1</td>\n",
       "    </tr>\n",
       "    <tr>\n",
       "      <th>...</th>\n",
       "      <td>...</td>\n",
       "      <td>...</td>\n",
       "      <td>...</td>\n",
       "      <td>...</td>\n",
       "      <td>...</td>\n",
       "    </tr>\n",
       "    <tr>\n",
       "      <th>4254</th>\n",
       "      <td>CSCI 0039. Introduction to Computer Architectu...</td>\n",
       "      <td>CIS020:\\n\\n3.0 Units\\nPrint\\nDescription:\\n\\nA...</td>\n",
       "      <td>```\\n{\\n  \"name\": \"CSCI 0039. Introduction to ...</td>\n",
       "      <td>{\"name\": \"CIS020\", \"discipline\": \"Computer Sci...</td>\n",
       "      <td>1</td>\n",
       "    </tr>\n",
       "    <tr>\n",
       "      <th>4255</th>\n",
       "      <td>CSCI 0039. Introduction to Computer Architectu...</td>\n",
       "      <td>COMSC-2 3 UNITS\\nComputer Assembly Language\\nT...</td>\n",
       "      <td>```\\n{\\n  \"name\": \"CSCI 0039. Introduction to ...</td>\n",
       "      <td>```\\n{\\n  \"name\": \"Computer Assembly Language\"...</td>\n",
       "      <td>1</td>\n",
       "    </tr>\n",
       "    <tr>\n",
       "      <th>4256</th>\n",
       "      <td>COMP 256 Computer Architecture and Assembly La...</td>\n",
       "      <td>CIS020:\\n\\n3.0 Units\\nPrint\\nDescription:\\n\\nA...</td>\n",
       "      <td>```\\n{\\n  \"name\": \"COMP 256 Computer Architect...</td>\n",
       "      <td>{\"name\": \"CIS020\", \"discipline\": \"Computer Sci...</td>\n",
       "      <td>1</td>\n",
       "    </tr>\n",
       "    <tr>\n",
       "      <th>4257</th>\n",
       "      <td>COMP 256 Computer Architecture and Assembly La...</td>\n",
       "      <td>COMSC-2 3 UNITS\\nComputer Assembly Language\\nT...</td>\n",
       "      <td>```\\n{\\n  \"name\": \"COMP 256 Computer Architect...</td>\n",
       "      <td>```\\n{\\n  \"name\": \"Computer Assembly Language\"...</td>\n",
       "      <td>1</td>\n",
       "    </tr>\n",
       "    <tr>\n",
       "      <th>4258</th>\n",
       "      <td>CIS020:\\n\\n3.0 Units\\nPrint\\nDescription:\\n\\nA...</td>\n",
       "      <td>COMSC-2 3 UNITS\\nComputer Assembly Language\\nT...</td>\n",
       "      <td>{\"name\": \"CIS020\", \"discipline\": \"Computer Sci...</td>\n",
       "      <td>```\\n{\\n  \"name\": \"Computer Assembly Language\"...</td>\n",
       "      <td>1</td>\n",
       "    </tr>\n",
       "  </tbody>\n",
       "</table>\n",
       "<p>4259 rows × 5 columns</p>\n",
       "</div>"
      ],
      "text/plain": [
       "                                             target_raw  \\\n",
       "0     MATH 226 - Calculus I\\n4 Units\\n\\nGraphs. Diff...   \n",
       "1     MATH 226 - Calculus I\\n4 Units\\n\\nGraphs. Diff...   \n",
       "2     MATH 226 - Calculus I\\n4 Units\\n\\nGraphs. Diff...   \n",
       "3     MATH 226 - Calculus I\\n4 Units\\n\\nGraphs. Diff...   \n",
       "4     MATH 226 - Calculus I\\n4 Units\\n\\nGraphs. Diff...   \n",
       "...                                                 ...   \n",
       "4254  CSCI 0039. Introduction to Computer Architectu...   \n",
       "4255  CSCI 0039. Introduction to Computer Architectu...   \n",
       "4256  COMP 256 Computer Architecture and Assembly La...   \n",
       "4257  COMP 256 Computer Architecture and Assembly La...   \n",
       "4258  CIS020:\\n\\n3.0 Units\\nPrint\\nDescription:\\n\\nA...   \n",
       "\n",
       "                                             source_raw  \\\n",
       "0     MATH 3A - Calculus I\\n5 Units, 5 lecture hours...   \n",
       "1     MATH 109 - Calculus I\\n4 Units, 4 Lecture hour...   \n",
       "2     MAT 1140 - Calculus I\\n4 Units\\nPrerequisites:...   \n",
       "3     MATH 141 - Calculus I\\n4 Units\\nGE Area B1\\nPr...   \n",
       "4     MATH 150 - Calculus I\\n4 Units\\nFour hours lec...   \n",
       "...                                                 ...   \n",
       "4254  CIS020:\\n\\n3.0 Units\\nPrint\\nDescription:\\n\\nA...   \n",
       "4255  COMSC-2 3 UNITS\\nComputer Assembly Language\\nT...   \n",
       "4256  CIS020:\\n\\n3.0 Units\\nPrint\\nDescription:\\n\\nA...   \n",
       "4257  COMSC-2 3 UNITS\\nComputer Assembly Language\\nT...   \n",
       "4258  COMSC-2 3 UNITS\\nComputer Assembly Language\\nT...   \n",
       "\n",
       "                                          target_topics  \\\n",
       "0     {\"name\": \"MATH 226 - Calculus I\", \"discipline\"...   \n",
       "1     {\"name\": \"MATH 226 - Calculus I\", \"discipline\"...   \n",
       "2     {\"name\": \"MATH 226 - Calculus I\", \"discipline\"...   \n",
       "3     {\"name\": \"MATH 226 - Calculus I\", \"discipline\"...   \n",
       "4     {\"name\": \"MATH 226 - Calculus I\", \"discipline\"...   \n",
       "...                                                 ...   \n",
       "4254  ```\\n{\\n  \"name\": \"CSCI 0039. Introduction to ...   \n",
       "4255  ```\\n{\\n  \"name\": \"CSCI 0039. Introduction to ...   \n",
       "4256  ```\\n{\\n  \"name\": \"COMP 256 Computer Architect...   \n",
       "4257  ```\\n{\\n  \"name\": \"COMP 256 Computer Architect...   \n",
       "4258  {\"name\": \"CIS020\", \"discipline\": \"Computer Sci...   \n",
       "\n",
       "                                          source_topics  label  \n",
       "0     ```\\n{\\n  \"name\": \"MATH 3A - Calculus I\",\\n  \"...      1  \n",
       "1     ```\\n{\\n  \"name\": \"MATH 109 - Calculus I\",\\n  ...      1  \n",
       "2     ```\\n{\\n  \"name\": \"MAT 1140 - Calculus I\",\\n  ...      1  \n",
       "3     {\"name\": \"MATH 141 - Calculus I\", \"discipline\"...      1  \n",
       "4     ```\\n{\\n  \"name\": \"MATH 150 - Calculus I\",\\n  ...      1  \n",
       "...                                                 ...    ...  \n",
       "4254  {\"name\": \"CIS020\", \"discipline\": \"Computer Sci...      1  \n",
       "4255  ```\\n{\\n  \"name\": \"Computer Assembly Language\"...      1  \n",
       "4256  {\"name\": \"CIS020\", \"discipline\": \"Computer Sci...      1  \n",
       "4257  ```\\n{\\n  \"name\": \"Computer Assembly Language\"...      1  \n",
       "4258  ```\\n{\\n  \"name\": \"Computer Assembly Language\"...      1  \n",
       "\n",
       "[4259 rows x 5 columns]"
      ]
     },
     "execution_count": 139,
     "metadata": {},
     "output_type": "execute_result"
    }
   ],
   "source": [
    "df_eval = pd.DataFrame(pairs_list, columns=['target_raw', 'source_raw', 'target_topics', 'source_topics', 'label'])\n",
    "df_eval"
   ]
  },
  {
   "cell_type": "code",
   "execution_count": 27,
   "metadata": {},
   "outputs": [
    {
     "data": {
      "text/plain": [
       "target_raw       MATH 109 - Calculus I\\n4 Units, 4 Lecture hour...\n",
       "source_raw       MATH 150 Calculus with Analytic Geometry I (5 ...\n",
       "target_topics    ```\\n{\\n  \"name\": \"MATH 109 - Calculus I\",\\n  ...\n",
       "source_topics    ```\\n{\\n  \"name\": \"MATH 150 Calculus with Anal...\n",
       "label                                                            1\n",
       "Name: 170, dtype: object"
      ]
     },
     "execution_count": 27,
     "metadata": {},
     "output_type": "execute_result"
    }
   ],
   "source": [
    "df_eval.iloc[170]"
   ]
  },
  {
   "cell_type": "markdown",
   "metadata": {},
   "source": [
    "## Sample for Negative Cases\n",
    "\n",
    "This set of negative cases for course articulation is created by sampling\n",
    "courses that are definitively not equivalent (e.g. Calculus I and Machine\n",
    "Structures).\n",
    "\n",
    "We want to keep the dataset balanced, so we will sample $4259/3 \\approx 1420$\n",
    "negative cases from each course type we are assessing.  The way we accomplish\n",
    "this is by sampling the target courses and then sampling known negative cases\n",
    "for equivalency from one of the other courses.\n",
    "\n",
    "Example:\n",
    "We randomly sample a set of courses from \"MATH 226\" equivalencies.  Then we match each of\n",
    "those courses that we sampled with another random sample from a concatenated\n",
    "Series from both \"CSC 230\" and \"CSC 256\" equivalencies."
   ]
  },
  {
   "cell_type": "code",
   "execution_count": 38,
   "metadata": {},
   "outputs": [
    {
     "data": {
      "text/html": [
       "<div>\n",
       "<style scoped>\n",
       "    .dataframe tbody tr th:only-of-type {\n",
       "        vertical-align: middle;\n",
       "    }\n",
       "\n",
       "    .dataframe tbody tr th {\n",
       "        vertical-align: top;\n",
       "    }\n",
       "\n",
       "    .dataframe thead th {\n",
       "        text-align: right;\n",
       "    }\n",
       "</style>\n",
       "<table border=\"1\" class=\"dataframe\">\n",
       "  <thead>\n",
       "    <tr style=\"text-align: right;\">\n",
       "      <th></th>\n",
       "      <th>MATH226 eqv</th>\n",
       "      <th>MATH226 mult eqv</th>\n",
       "      <th>MATH226 alt eqv</th>\n",
       "      <th>MATH226 alt mult eqv</th>\n",
       "      <th>CSC230 eqv</th>\n",
       "      <th>CSC230 alt eqv</th>\n",
       "      <th>CSC256 eqv</th>\n",
       "      <th>CSC256 multipleEqv</th>\n",
       "      <th>MATH226 eqv data</th>\n",
       "      <th>MATH226 mult eqv data</th>\n",
       "      <th>MATH226 alt eqv data</th>\n",
       "      <th>MATH226 alt mult eqv data</th>\n",
       "      <th>CSC230 eqv data</th>\n",
       "      <th>CSC230 alt eqv data</th>\n",
       "      <th>CSC256 eqv data</th>\n",
       "      <th>CSC256 multipleEqv data</th>\n",
       "    </tr>\n",
       "    <tr>\n",
       "      <th>School</th>\n",
       "      <th></th>\n",
       "      <th></th>\n",
       "      <th></th>\n",
       "      <th></th>\n",
       "      <th></th>\n",
       "      <th></th>\n",
       "      <th></th>\n",
       "      <th></th>\n",
       "      <th></th>\n",
       "      <th></th>\n",
       "      <th></th>\n",
       "      <th></th>\n",
       "      <th></th>\n",
       "      <th></th>\n",
       "      <th></th>\n",
       "      <th></th>\n",
       "    </tr>\n",
       "  </thead>\n",
       "  <tbody>\n",
       "    <tr>\n",
       "      <th>SFSU</th>\n",
       "      <td>MATH 226 - Calculus I\\n4 Units\\n\\nGraphs. Diff...</td>\n",
       "      <td>NaN</td>\n",
       "      <td>NaN</td>\n",
       "      <td>NaN</td>\n",
       "      <td>CSC 230 - Discrete Mathematical Structures for...</td>\n",
       "      <td>NaN</td>\n",
       "      <td>CSC 256 - Machine Structures\\n3 Units\\n\\nDigit...</td>\n",
       "      <td>NaN</td>\n",
       "      <td>{\"name\": \"MATH 226 - Calculus I\", \"discipline\"...</td>\n",
       "      <td>NaN</td>\n",
       "      <td>NaN</td>\n",
       "      <td>NaN</td>\n",
       "      <td>{\"name\": \"CSC 230 - Discrete Mathematical Stru...</td>\n",
       "      <td>NaN</td>\n",
       "      <td>```\\n{\\n  \"name\": \"CSC 256 - Machine Structure...</td>\n",
       "      <td>NaN</td>\n",
       "    </tr>\n",
       "    <tr>\n",
       "      <th>Berkeley City College</th>\n",
       "      <td>MATH 3A - Calculus I\\n5 Units, 5 lecture hours...</td>\n",
       "      <td>NaN</td>\n",
       "      <td>NaN</td>\n",
       "      <td>NaN</td>\n",
       "      <td>MATH 11 - Discrete Mathematics\\n4 units\\n\\nN/A</td>\n",
       "      <td>NaN</td>\n",
       "      <td>CIS 20: Microcomputer Assembly Language\\n4 Uni...</td>\n",
       "      <td>NaN</td>\n",
       "      <td>```\\n{\\n  \"name\": \"MATH 3A - Calculus I\",\\n  \"...</td>\n",
       "      <td>NaN</td>\n",
       "      <td>NaN</td>\n",
       "      <td>NaN</td>\n",
       "      <td>{\"name\": \"MATH 11 - Discrete Mathematics\", \"di...</td>\n",
       "      <td>NaN</td>\n",
       "      <td>```\\n{\\n  \"name\": \"CIS 20: Microcomputer Assem...</td>\n",
       "      <td>NaN</td>\n",
       "    </tr>\n",
       "    <tr>\n",
       "      <th>California Polytechnic State University, Humboldt</th>\n",
       "      <td>MATH 109 - Calculus I\\n4 Units, 4 Lecture hour...</td>\n",
       "      <td>NaN</td>\n",
       "      <td>NaN</td>\n",
       "      <td>NaN</td>\n",
       "      <td>MATH 253 - Discrete Mathematics\\n3 Units, 3 Le...</td>\n",
       "      <td>NaN</td>\n",
       "      <td>NaN</td>\n",
       "      <td>NaN</td>\n",
       "      <td>```\\n{\\n  \"name\": \"MATH 109 - Calculus I\",\\n  ...</td>\n",
       "      <td>NaN</td>\n",
       "      <td>NaN</td>\n",
       "      <td>NaN</td>\n",
       "      <td>```\\n{\\n  \"name\": \"MATH 253 - Discrete Mathema...</td>\n",
       "      <td>NaN</td>\n",
       "      <td>NaN</td>\n",
       "      <td>NaN</td>\n",
       "    </tr>\n",
       "    <tr>\n",
       "      <th>California Polytechnic State University, Pomona</th>\n",
       "      <td>MAT 1140 - Calculus I\\n4 Units\\nPrerequisites:...</td>\n",
       "      <td>NaN</td>\n",
       "      <td>NaN</td>\n",
       "      <td>NaN</td>\n",
       "      <td>CS 1300 - Discrete Structures\\n4 Units\\nPrereq...</td>\n",
       "      <td>NaN</td>\n",
       "      <td>CS 2640 - Computer Organization and Assembly P...</td>\n",
       "      <td>NaN</td>\n",
       "      <td>```\\n{\\n  \"name\": \"MAT 1140 - Calculus I\",\\n  ...</td>\n",
       "      <td>NaN</td>\n",
       "      <td>NaN</td>\n",
       "      <td>NaN</td>\n",
       "      <td>```\\n{\\n  \"name\": \"CS 1300 - Discrete Structur...</td>\n",
       "      <td>NaN</td>\n",
       "      <td>```\\n{\\n  \"name\": \"CS 2640 - Computer Organiza...</td>\n",
       "      <td>NaN</td>\n",
       "    </tr>\n",
       "    <tr>\n",
       "      <th>California Polytechnic State University, San Luis Obispo</th>\n",
       "      <td>MATH 141 - Calculus I\\n4 Units\\nGE Area B1\\nPr...</td>\n",
       "      <td>MATH 142 - Calculus II\\n4 units\\nGE Area B1\\nP...</td>\n",
       "      <td>HNRS 141 - Calculus I \\n4 Units \\nPrerequisite...</td>\n",
       "      <td>HNRS 142 - Calculus II \\n4 units\\nPrerequisite...</td>\n",
       "      <td>NaN</td>\n",
       "      <td>NaN</td>\n",
       "      <td>NaN</td>\n",
       "      <td>NaN</td>\n",
       "      <td>{\"name\": \"MATH 141 - Calculus I\", \"discipline\"...</td>\n",
       "      <td>```\\n{\\n  \"name\": \"MATH 142 - Calculus II\",\\n ...</td>\n",
       "      <td>```\\n{\\n  \"name\": \"HNRS 141 - Calculus I\",\\n  ...</td>\n",
       "      <td>```\\n{\\n  \"name\": \"HNRS 142 - Calculus II\",\\n ...</td>\n",
       "      <td>NaN</td>\n",
       "      <td>NaN</td>\n",
       "      <td>NaN</td>\n",
       "      <td>NaN</td>\n",
       "    </tr>\n",
       "    <tr>\n",
       "      <th>...</th>\n",
       "      <td>...</td>\n",
       "      <td>...</td>\n",
       "      <td>...</td>\n",
       "      <td>...</td>\n",
       "      <td>...</td>\n",
       "      <td>...</td>\n",
       "      <td>...</td>\n",
       "      <td>...</td>\n",
       "      <td>...</td>\n",
       "      <td>...</td>\n",
       "      <td>...</td>\n",
       "      <td>...</td>\n",
       "      <td>...</td>\n",
       "      <td>...</td>\n",
       "      <td>...</td>\n",
       "      <td>...</td>\n",
       "    </tr>\n",
       "    <tr>\n",
       "      <th>Solano Community College</th>\n",
       "      <td>MATH020:\\n\\n4.0 Units\\nPrint\\nDescription:\\n\\n...</td>\n",
       "      <td>NaN</td>\n",
       "      <td>NaN</td>\n",
       "      <td>NaN</td>\n",
       "      <td>CIS021:\\n\\n3.0 Units\\nPrint\\nDescription:\\n\\nA...</td>\n",
       "      <td>NaN</td>\n",
       "      <td>CIS020:\\n\\n3.0 Units\\nPrint\\nDescription:\\n\\nA...</td>\n",
       "      <td>NaN</td>\n",
       "      <td>{\"name\": \"MATH020\", \"discipline\": \"Mathematics...</td>\n",
       "      <td>NaN</td>\n",
       "      <td>NaN</td>\n",
       "      <td>NaN</td>\n",
       "      <td>```\\n{\\n  \"name\": \"CIS021\",\\n  \"discipline\": \"...</td>\n",
       "      <td>NaN</td>\n",
       "      <td>{\"name\": \"CIS020\", \"discipline\": \"Computer Sci...</td>\n",
       "      <td>NaN</td>\n",
       "    </tr>\n",
       "    <tr>\n",
       "      <th>Sonoma State University</th>\n",
       "      <td>MATH 161 - Differential and Integral Calculus ...</td>\n",
       "      <td>NaN</td>\n",
       "      <td>NaN</td>\n",
       "      <td>NaN</td>\n",
       "      <td>NaN</td>\n",
       "      <td>NaN</td>\n",
       "      <td>NaN</td>\n",
       "      <td>NaN</td>\n",
       "      <td>```\\n{\\n  \"name\": \"MATH 161 - Differential and...</td>\n",
       "      <td>NaN</td>\n",
       "      <td>NaN</td>\n",
       "      <td>NaN</td>\n",
       "      <td>NaN</td>\n",
       "      <td>NaN</td>\n",
       "      <td>NaN</td>\n",
       "      <td>NaN</td>\n",
       "    </tr>\n",
       "    <tr>\n",
       "      <th>Ventura College</th>\n",
       "      <td>MATH V21A Calculus with Analytic Geometry I 5 ...</td>\n",
       "      <td>NaN</td>\n",
       "      <td>NaN</td>\n",
       "      <td>NaN</td>\n",
       "      <td>MATH V52 Discrete Structures 3 Units\\nSame-As:...</td>\n",
       "      <td>CS V17 Discrete Structures 3 Units\\nSame-As: M...</td>\n",
       "      <td>NaN</td>\n",
       "      <td>NaN</td>\n",
       "      <td>```\\n{\\n  \"name\": \"MATH V21A Calculus with Ana...</td>\n",
       "      <td>NaN</td>\n",
       "      <td>NaN</td>\n",
       "      <td>NaN</td>\n",
       "      <td>```\\n{\\n  \"name\": \"MATH V52 Discrete Structure...</td>\n",
       "      <td>```\\n{\\n  \"name\": \"CS V17 Discrete Structures\"...</td>\n",
       "      <td>NaN</td>\n",
       "      <td>NaN</td>\n",
       "    </tr>\n",
       "    <tr>\n",
       "      <th>West Valley College</th>\n",
       "      <td>MATH 003A: Calculus and Analytical Geometry\\nC...</td>\n",
       "      <td>NaN</td>\n",
       "      <td>NaN</td>\n",
       "      <td>NaN</td>\n",
       "      <td>MATH 019: Discrete Mathematics\\nCourse Descrip...</td>\n",
       "      <td>NaN</td>\n",
       "      <td>NaN</td>\n",
       "      <td>NaN</td>\n",
       "      <td>```\\n{\\n  \"name\": \"MATH 003A: Calculus and Ana...</td>\n",
       "      <td>NaN</td>\n",
       "      <td>NaN</td>\n",
       "      <td>NaN</td>\n",
       "      <td>```\\n{\\n  \"name\": \"MATH 019: Discrete Mathemat...</td>\n",
       "      <td>NaN</td>\n",
       "      <td>NaN</td>\n",
       "      <td>NaN</td>\n",
       "    </tr>\n",
       "    <tr>\n",
       "      <th>Yuba College</th>\n",
       "      <td>MATH-1A 4 UNITS\\nSingle Variable Calculus I - ...</td>\n",
       "      <td>NaN</td>\n",
       "      <td>NaN</td>\n",
       "      <td>NaN</td>\n",
       "      <td>COMSC-15 3 UNITS\\nDiscrete Structures for Comp...</td>\n",
       "      <td>NaN</td>\n",
       "      <td>COMSC-2 3 UNITS\\nComputer Assembly Language\\nT...</td>\n",
       "      <td>NaN</td>\n",
       "      <td>```\\n{\\n  \"name\": \"MATH-1A\",\\n  \"discipline\": ...</td>\n",
       "      <td>NaN</td>\n",
       "      <td>NaN</td>\n",
       "      <td>NaN</td>\n",
       "      <td>```\\n{\\n  \"name\": \"COMSC-15\",\\n  \"discipline\":...</td>\n",
       "      <td>NaN</td>\n",
       "      <td>```\\n{\\n  \"name\": \"Computer Assembly Language\"...</td>\n",
       "      <td>NaN</td>\n",
       "    </tr>\n",
       "  </tbody>\n",
       "</table>\n",
       "<p>63 rows × 16 columns</p>\n",
       "</div>"
      ],
      "text/plain": [
       "                                                                                          MATH226 eqv  \\\n",
       "School                                                                                                  \n",
       "SFSU                                                MATH 226 - Calculus I\\n4 Units\\n\\nGraphs. Diff...   \n",
       "Berkeley City College                               MATH 3A - Calculus I\\n5 Units, 5 lecture hours...   \n",
       "California Polytechnic State University, Humboldt   MATH 109 - Calculus I\\n4 Units, 4 Lecture hour...   \n",
       "California Polytechnic State University, Pomona     MAT 1140 - Calculus I\\n4 Units\\nPrerequisites:...   \n",
       "California Polytechnic State University, San Lu...  MATH 141 - Calculus I\\n4 Units\\nGE Area B1\\nPr...   \n",
       "...                                                                                               ...   \n",
       "Solano Community College                            MATH020:\\n\\n4.0 Units\\nPrint\\nDescription:\\n\\n...   \n",
       "Sonoma State University                             MATH 161 - Differential and Integral Calculus ...   \n",
       "Ventura College                                     MATH V21A Calculus with Analytic Geometry I 5 ...   \n",
       "West Valley College                                 MATH 003A: Calculus and Analytical Geometry\\nC...   \n",
       "Yuba College                                        MATH-1A 4 UNITS\\nSingle Variable Calculus I - ...   \n",
       "\n",
       "                                                                                     MATH226 mult eqv  \\\n",
       "School                                                                                                  \n",
       "SFSU                                                                                              NaN   \n",
       "Berkeley City College                                                                             NaN   \n",
       "California Polytechnic State University, Humboldt                                                 NaN   \n",
       "California Polytechnic State University, Pomona                                                   NaN   \n",
       "California Polytechnic State University, San Lu...  MATH 142 - Calculus II\\n4 units\\nGE Area B1\\nP...   \n",
       "...                                                                                               ...   \n",
       "Solano Community College                                                                          NaN   \n",
       "Sonoma State University                                                                           NaN   \n",
       "Ventura College                                                                                   NaN   \n",
       "West Valley College                                                                               NaN   \n",
       "Yuba College                                                                                      NaN   \n",
       "\n",
       "                                                                                      MATH226 alt eqv  \\\n",
       "School                                                                                                  \n",
       "SFSU                                                                                              NaN   \n",
       "Berkeley City College                                                                             NaN   \n",
       "California Polytechnic State University, Humboldt                                                 NaN   \n",
       "California Polytechnic State University, Pomona                                                   NaN   \n",
       "California Polytechnic State University, San Lu...  HNRS 141 - Calculus I \\n4 Units \\nPrerequisite...   \n",
       "...                                                                                               ...   \n",
       "Solano Community College                                                                          NaN   \n",
       "Sonoma State University                                                                           NaN   \n",
       "Ventura College                                                                                   NaN   \n",
       "West Valley College                                                                               NaN   \n",
       "Yuba College                                                                                      NaN   \n",
       "\n",
       "                                                                                 MATH226 alt mult eqv  \\\n",
       "School                                                                                                  \n",
       "SFSU                                                                                              NaN   \n",
       "Berkeley City College                                                                             NaN   \n",
       "California Polytechnic State University, Humboldt                                                 NaN   \n",
       "California Polytechnic State University, Pomona                                                   NaN   \n",
       "California Polytechnic State University, San Lu...  HNRS 142 - Calculus II \\n4 units\\nPrerequisite...   \n",
       "...                                                                                               ...   \n",
       "Solano Community College                                                                          NaN   \n",
       "Sonoma State University                                                                           NaN   \n",
       "Ventura College                                                                                   NaN   \n",
       "West Valley College                                                                               NaN   \n",
       "Yuba College                                                                                      NaN   \n",
       "\n",
       "                                                                                           CSC230 eqv  \\\n",
       "School                                                                                                  \n",
       "SFSU                                                CSC 230 - Discrete Mathematical Structures for...   \n",
       "Berkeley City College                                  MATH 11 - Discrete Mathematics\\n4 units\\n\\nN/A   \n",
       "California Polytechnic State University, Humboldt   MATH 253 - Discrete Mathematics\\n3 Units, 3 Le...   \n",
       "California Polytechnic State University, Pomona     CS 1300 - Discrete Structures\\n4 Units\\nPrereq...   \n",
       "California Polytechnic State University, San Lu...                                                NaN   \n",
       "...                                                                                               ...   \n",
       "Solano Community College                            CIS021:\\n\\n3.0 Units\\nPrint\\nDescription:\\n\\nA...   \n",
       "Sonoma State University                                                                           NaN   \n",
       "Ventura College                                     MATH V52 Discrete Structures 3 Units\\nSame-As:...   \n",
       "West Valley College                                 MATH 019: Discrete Mathematics\\nCourse Descrip...   \n",
       "Yuba College                                        COMSC-15 3 UNITS\\nDiscrete Structures for Comp...   \n",
       "\n",
       "                                                                                       CSC230 alt eqv  \\\n",
       "School                                                                                                  \n",
       "SFSU                                                                                              NaN   \n",
       "Berkeley City College                                                                             NaN   \n",
       "California Polytechnic State University, Humboldt                                                 NaN   \n",
       "California Polytechnic State University, Pomona                                                   NaN   \n",
       "California Polytechnic State University, San Lu...                                                NaN   \n",
       "...                                                                                               ...   \n",
       "Solano Community College                                                                          NaN   \n",
       "Sonoma State University                                                                           NaN   \n",
       "Ventura College                                     CS V17 Discrete Structures 3 Units\\nSame-As: M...   \n",
       "West Valley College                                                                               NaN   \n",
       "Yuba College                                                                                      NaN   \n",
       "\n",
       "                                                                                           CSC256 eqv  \\\n",
       "School                                                                                                  \n",
       "SFSU                                                CSC 256 - Machine Structures\\n3 Units\\n\\nDigit...   \n",
       "Berkeley City College                               CIS 20: Microcomputer Assembly Language\\n4 Uni...   \n",
       "California Polytechnic State University, Humboldt                                                 NaN   \n",
       "California Polytechnic State University, Pomona     CS 2640 - Computer Organization and Assembly P...   \n",
       "California Polytechnic State University, San Lu...                                                NaN   \n",
       "...                                                                                               ...   \n",
       "Solano Community College                            CIS020:\\n\\n3.0 Units\\nPrint\\nDescription:\\n\\nA...   \n",
       "Sonoma State University                                                                           NaN   \n",
       "Ventura College                                                                                   NaN   \n",
       "West Valley College                                                                               NaN   \n",
       "Yuba College                                        COMSC-2 3 UNITS\\nComputer Assembly Language\\nT...   \n",
       "\n",
       "                                                   CSC256 multipleEqv  \\\n",
       "School                                                                  \n",
       "SFSU                                                              NaN   \n",
       "Berkeley City College                                             NaN   \n",
       "California Polytechnic State University, Humboldt                 NaN   \n",
       "California Polytechnic State University, Pomona                   NaN   \n",
       "California Polytechnic State University, San Lu...                NaN   \n",
       "...                                                               ...   \n",
       "Solano Community College                                          NaN   \n",
       "Sonoma State University                                           NaN   \n",
       "Ventura College                                                   NaN   \n",
       "West Valley College                                               NaN   \n",
       "Yuba College                                                      NaN   \n",
       "\n",
       "                                                                                     MATH226 eqv data  \\\n",
       "School                                                                                                  \n",
       "SFSU                                                {\"name\": \"MATH 226 - Calculus I\", \"discipline\"...   \n",
       "Berkeley City College                               ```\\n{\\n  \"name\": \"MATH 3A - Calculus I\",\\n  \"...   \n",
       "California Polytechnic State University, Humboldt   ```\\n{\\n  \"name\": \"MATH 109 - Calculus I\",\\n  ...   \n",
       "California Polytechnic State University, Pomona     ```\\n{\\n  \"name\": \"MAT 1140 - Calculus I\",\\n  ...   \n",
       "California Polytechnic State University, San Lu...  {\"name\": \"MATH 141 - Calculus I\", \"discipline\"...   \n",
       "...                                                                                               ...   \n",
       "Solano Community College                            {\"name\": \"MATH020\", \"discipline\": \"Mathematics...   \n",
       "Sonoma State University                             ```\\n{\\n  \"name\": \"MATH 161 - Differential and...   \n",
       "Ventura College                                     ```\\n{\\n  \"name\": \"MATH V21A Calculus with Ana...   \n",
       "West Valley College                                 ```\\n{\\n  \"name\": \"MATH 003A: Calculus and Ana...   \n",
       "Yuba College                                        ```\\n{\\n  \"name\": \"MATH-1A\",\\n  \"discipline\": ...   \n",
       "\n",
       "                                                                                MATH226 mult eqv data  \\\n",
       "School                                                                                                  \n",
       "SFSU                                                                                              NaN   \n",
       "Berkeley City College                                                                             NaN   \n",
       "California Polytechnic State University, Humboldt                                                 NaN   \n",
       "California Polytechnic State University, Pomona                                                   NaN   \n",
       "California Polytechnic State University, San Lu...  ```\\n{\\n  \"name\": \"MATH 142 - Calculus II\",\\n ...   \n",
       "...                                                                                               ...   \n",
       "Solano Community College                                                                          NaN   \n",
       "Sonoma State University                                                                           NaN   \n",
       "Ventura College                                                                                   NaN   \n",
       "West Valley College                                                                               NaN   \n",
       "Yuba College                                                                                      NaN   \n",
       "\n",
       "                                                                                 MATH226 alt eqv data  \\\n",
       "School                                                                                                  \n",
       "SFSU                                                                                              NaN   \n",
       "Berkeley City College                                                                             NaN   \n",
       "California Polytechnic State University, Humboldt                                                 NaN   \n",
       "California Polytechnic State University, Pomona                                                   NaN   \n",
       "California Polytechnic State University, San Lu...  ```\\n{\\n  \"name\": \"HNRS 141 - Calculus I\",\\n  ...   \n",
       "...                                                                                               ...   \n",
       "Solano Community College                                                                          NaN   \n",
       "Sonoma State University                                                                           NaN   \n",
       "Ventura College                                                                                   NaN   \n",
       "West Valley College                                                                               NaN   \n",
       "Yuba College                                                                                      NaN   \n",
       "\n",
       "                                                                            MATH226 alt mult eqv data  \\\n",
       "School                                                                                                  \n",
       "SFSU                                                                                              NaN   \n",
       "Berkeley City College                                                                             NaN   \n",
       "California Polytechnic State University, Humboldt                                                 NaN   \n",
       "California Polytechnic State University, Pomona                                                   NaN   \n",
       "California Polytechnic State University, San Lu...  ```\\n{\\n  \"name\": \"HNRS 142 - Calculus II\",\\n ...   \n",
       "...                                                                                               ...   \n",
       "Solano Community College                                                                          NaN   \n",
       "Sonoma State University                                                                           NaN   \n",
       "Ventura College                                                                                   NaN   \n",
       "West Valley College                                                                               NaN   \n",
       "Yuba College                                                                                      NaN   \n",
       "\n",
       "                                                                                      CSC230 eqv data  \\\n",
       "School                                                                                                  \n",
       "SFSU                                                {\"name\": \"CSC 230 - Discrete Mathematical Stru...   \n",
       "Berkeley City College                               {\"name\": \"MATH 11 - Discrete Mathematics\", \"di...   \n",
       "California Polytechnic State University, Humboldt   ```\\n{\\n  \"name\": \"MATH 253 - Discrete Mathema...   \n",
       "California Polytechnic State University, Pomona     ```\\n{\\n  \"name\": \"CS 1300 - Discrete Structur...   \n",
       "California Polytechnic State University, San Lu...                                                NaN   \n",
       "...                                                                                               ...   \n",
       "Solano Community College                            ```\\n{\\n  \"name\": \"CIS021\",\\n  \"discipline\": \"...   \n",
       "Sonoma State University                                                                           NaN   \n",
       "Ventura College                                     ```\\n{\\n  \"name\": \"MATH V52 Discrete Structure...   \n",
       "West Valley College                                 ```\\n{\\n  \"name\": \"MATH 019: Discrete Mathemat...   \n",
       "Yuba College                                        ```\\n{\\n  \"name\": \"COMSC-15\",\\n  \"discipline\":...   \n",
       "\n",
       "                                                                                  CSC230 alt eqv data  \\\n",
       "School                                                                                                  \n",
       "SFSU                                                                                              NaN   \n",
       "Berkeley City College                                                                             NaN   \n",
       "California Polytechnic State University, Humboldt                                                 NaN   \n",
       "California Polytechnic State University, Pomona                                                   NaN   \n",
       "California Polytechnic State University, San Lu...                                                NaN   \n",
       "...                                                                                               ...   \n",
       "Solano Community College                                                                          NaN   \n",
       "Sonoma State University                                                                           NaN   \n",
       "Ventura College                                     ```\\n{\\n  \"name\": \"CS V17 Discrete Structures\"...   \n",
       "West Valley College                                                                               NaN   \n",
       "Yuba College                                                                                      NaN   \n",
       "\n",
       "                                                                                      CSC256 eqv data  \\\n",
       "School                                                                                                  \n",
       "SFSU                                                ```\\n{\\n  \"name\": \"CSC 256 - Machine Structure...   \n",
       "Berkeley City College                               ```\\n{\\n  \"name\": \"CIS 20: Microcomputer Assem...   \n",
       "California Polytechnic State University, Humboldt                                                 NaN   \n",
       "California Polytechnic State University, Pomona     ```\\n{\\n  \"name\": \"CS 2640 - Computer Organiza...   \n",
       "California Polytechnic State University, San Lu...                                                NaN   \n",
       "...                                                                                               ...   \n",
       "Solano Community College                            {\"name\": \"CIS020\", \"discipline\": \"Computer Sci...   \n",
       "Sonoma State University                                                                           NaN   \n",
       "Ventura College                                                                                   NaN   \n",
       "West Valley College                                                                               NaN   \n",
       "Yuba College                                        ```\\n{\\n  \"name\": \"Computer Assembly Language\"...   \n",
       "\n",
       "                                                   CSC256 multipleEqv data  \n",
       "School                                                                      \n",
       "SFSU                                                                   NaN  \n",
       "Berkeley City College                                                  NaN  \n",
       "California Polytechnic State University, Humboldt                      NaN  \n",
       "California Polytechnic State University, Pomona                        NaN  \n",
       "California Polytechnic State University, San Lu...                     NaN  \n",
       "...                                                                    ...  \n",
       "Solano Community College                                               NaN  \n",
       "Sonoma State University                                                NaN  \n",
       "Ventura College                                                        NaN  \n",
       "West Valley College                                                    NaN  \n",
       "Yuba College                                                           NaN  \n",
       "\n",
       "[63 rows x 16 columns]"
      ]
     },
     "execution_count": 38,
     "metadata": {},
     "output_type": "execute_result"
    }
   ],
   "source": [
    "df2"
   ]
  },
  {
   "cell_type": "code",
   "execution_count": 58,
   "metadata": {},
   "outputs": [
    {
     "data": {
      "text/html": [
       "<div>\n",
       "<style scoped>\n",
       "    .dataframe tbody tr th:only-of-type {\n",
       "        vertical-align: middle;\n",
       "    }\n",
       "\n",
       "    .dataframe tbody tr th {\n",
       "        vertical-align: top;\n",
       "    }\n",
       "\n",
       "    .dataframe thead th {\n",
       "        text-align: right;\n",
       "    }\n",
       "</style>\n",
       "<table border=\"1\" class=\"dataframe\">\n",
       "  <thead>\n",
       "    <tr style=\"text-align: right;\">\n",
       "      <th></th>\n",
       "      <th>MATH226 eqv</th>\n",
       "      <th>CSC230 eqv</th>\n",
       "      <th>CSC256 eqv</th>\n",
       "      <th>MATH226 eqv data</th>\n",
       "      <th>CSC230 eqv data</th>\n",
       "      <th>CSC256 eqv data</th>\n",
       "    </tr>\n",
       "    <tr>\n",
       "      <th>School</th>\n",
       "      <th></th>\n",
       "      <th></th>\n",
       "      <th></th>\n",
       "      <th></th>\n",
       "      <th></th>\n",
       "      <th></th>\n",
       "    </tr>\n",
       "  </thead>\n",
       "  <tbody>\n",
       "    <tr>\n",
       "      <th>SFSU</th>\n",
       "      <td>MATH 226 - Calculus I\\n4 Units\\n\\nGraphs. Diff...</td>\n",
       "      <td>CSC 230 - Discrete Mathematical Structures for...</td>\n",
       "      <td>CSC 256 - Machine Structures\\n3 Units\\n\\nDigit...</td>\n",
       "      <td>{\"name\": \"MATH 226 - Calculus I\", \"discipline\"...</td>\n",
       "      <td>{\"name\": \"CSC 230 - Discrete Mathematical Stru...</td>\n",
       "      <td>```\\n{\\n  \"name\": \"CSC 256 - Machine Structure...</td>\n",
       "    </tr>\n",
       "    <tr>\n",
       "      <th>Berkeley City College</th>\n",
       "      <td>MATH 3A - Calculus I\\n5 Units, 5 lecture hours...</td>\n",
       "      <td>MATH 11 - Discrete Mathematics\\n4 units\\n\\nN/A</td>\n",
       "      <td>CIS 20: Microcomputer Assembly Language\\n4 Uni...</td>\n",
       "      <td>```\\n{\\n  \"name\": \"MATH 3A - Calculus I\",\\n  \"...</td>\n",
       "      <td>{\"name\": \"MATH 11 - Discrete Mathematics\", \"di...</td>\n",
       "      <td>```\\n{\\n  \"name\": \"CIS 20: Microcomputer Assem...</td>\n",
       "    </tr>\n",
       "    <tr>\n",
       "      <th>California Polytechnic State University, Humboldt</th>\n",
       "      <td>MATH 109 - Calculus I\\n4 Units, 4 Lecture hour...</td>\n",
       "      <td>MATH 253 - Discrete Mathematics\\n3 Units, 3 Le...</td>\n",
       "      <td>NaN</td>\n",
       "      <td>```\\n{\\n  \"name\": \"MATH 109 - Calculus I\",\\n  ...</td>\n",
       "      <td>```\\n{\\n  \"name\": \"MATH 253 - Discrete Mathema...</td>\n",
       "      <td>NaN</td>\n",
       "    </tr>\n",
       "    <tr>\n",
       "      <th>California Polytechnic State University, Pomona</th>\n",
       "      <td>MAT 1140 - Calculus I\\n4 Units\\nPrerequisites:...</td>\n",
       "      <td>CS 1300 - Discrete Structures\\n4 Units\\nPrereq...</td>\n",
       "      <td>CS 2640 - Computer Organization and Assembly P...</td>\n",
       "      <td>```\\n{\\n  \"name\": \"MAT 1140 - Calculus I\",\\n  ...</td>\n",
       "      <td>```\\n{\\n  \"name\": \"CS 1300 - Discrete Structur...</td>\n",
       "      <td>```\\n{\\n  \"name\": \"CS 2640 - Computer Organiza...</td>\n",
       "    </tr>\n",
       "    <tr>\n",
       "      <th>California Polytechnic State University, San Luis Obispo</th>\n",
       "      <td>MATH 141 - Calculus I\\n4 Units\\nGE Area B1\\nPr...</td>\n",
       "      <td>NaN</td>\n",
       "      <td>NaN</td>\n",
       "      <td>{\"name\": \"MATH 141 - Calculus I\", \"discipline\"...</td>\n",
       "      <td>NaN</td>\n",
       "      <td>NaN</td>\n",
       "    </tr>\n",
       "    <tr>\n",
       "      <th>...</th>\n",
       "      <td>...</td>\n",
       "      <td>...</td>\n",
       "      <td>...</td>\n",
       "      <td>...</td>\n",
       "      <td>...</td>\n",
       "      <td>...</td>\n",
       "    </tr>\n",
       "    <tr>\n",
       "      <th>Solano Community College</th>\n",
       "      <td>MATH020:\\n\\n4.0 Units\\nPrint\\nDescription:\\n\\n...</td>\n",
       "      <td>CIS021:\\n\\n3.0 Units\\nPrint\\nDescription:\\n\\nA...</td>\n",
       "      <td>CIS020:\\n\\n3.0 Units\\nPrint\\nDescription:\\n\\nA...</td>\n",
       "      <td>{\"name\": \"MATH020\", \"discipline\": \"Mathematics...</td>\n",
       "      <td>```\\n{\\n  \"name\": \"CIS021\",\\n  \"discipline\": \"...</td>\n",
       "      <td>{\"name\": \"CIS020\", \"discipline\": \"Computer Sci...</td>\n",
       "    </tr>\n",
       "    <tr>\n",
       "      <th>Sonoma State University</th>\n",
       "      <td>MATH 161 - Differential and Integral Calculus ...</td>\n",
       "      <td>NaN</td>\n",
       "      <td>NaN</td>\n",
       "      <td>```\\n{\\n  \"name\": \"MATH 161 - Differential and...</td>\n",
       "      <td>NaN</td>\n",
       "      <td>NaN</td>\n",
       "    </tr>\n",
       "    <tr>\n",
       "      <th>Ventura College</th>\n",
       "      <td>MATH V21A Calculus with Analytic Geometry I 5 ...</td>\n",
       "      <td>MATH V52 Discrete Structures 3 Units\\nSame-As:...</td>\n",
       "      <td>NaN</td>\n",
       "      <td>```\\n{\\n  \"name\": \"MATH V21A Calculus with Ana...</td>\n",
       "      <td>```\\n{\\n  \"name\": \"MATH V52 Discrete Structure...</td>\n",
       "      <td>NaN</td>\n",
       "    </tr>\n",
       "    <tr>\n",
       "      <th>West Valley College</th>\n",
       "      <td>MATH 003A: Calculus and Analytical Geometry\\nC...</td>\n",
       "      <td>MATH 019: Discrete Mathematics\\nCourse Descrip...</td>\n",
       "      <td>NaN</td>\n",
       "      <td>```\\n{\\n  \"name\": \"MATH 003A: Calculus and Ana...</td>\n",
       "      <td>```\\n{\\n  \"name\": \"MATH 019: Discrete Mathemat...</td>\n",
       "      <td>NaN</td>\n",
       "    </tr>\n",
       "    <tr>\n",
       "      <th>Yuba College</th>\n",
       "      <td>MATH-1A 4 UNITS\\nSingle Variable Calculus I - ...</td>\n",
       "      <td>COMSC-15 3 UNITS\\nDiscrete Structures for Comp...</td>\n",
       "      <td>COMSC-2 3 UNITS\\nComputer Assembly Language\\nT...</td>\n",
       "      <td>```\\n{\\n  \"name\": \"MATH-1A\",\\n  \"discipline\": ...</td>\n",
       "      <td>```\\n{\\n  \"name\": \"COMSC-15\",\\n  \"discipline\":...</td>\n",
       "      <td>```\\n{\\n  \"name\": \"Computer Assembly Language\"...</td>\n",
       "    </tr>\n",
       "  </tbody>\n",
       "</table>\n",
       "<p>63 rows × 6 columns</p>\n",
       "</div>"
      ],
      "text/plain": [
       "                                                                                          MATH226 eqv  \\\n",
       "School                                                                                                  \n",
       "SFSU                                                MATH 226 - Calculus I\\n4 Units\\n\\nGraphs. Diff...   \n",
       "Berkeley City College                               MATH 3A - Calculus I\\n5 Units, 5 lecture hours...   \n",
       "California Polytechnic State University, Humboldt   MATH 109 - Calculus I\\n4 Units, 4 Lecture hour...   \n",
       "California Polytechnic State University, Pomona     MAT 1140 - Calculus I\\n4 Units\\nPrerequisites:...   \n",
       "California Polytechnic State University, San Lu...  MATH 141 - Calculus I\\n4 Units\\nGE Area B1\\nPr...   \n",
       "...                                                                                               ...   \n",
       "Solano Community College                            MATH020:\\n\\n4.0 Units\\nPrint\\nDescription:\\n\\n...   \n",
       "Sonoma State University                             MATH 161 - Differential and Integral Calculus ...   \n",
       "Ventura College                                     MATH V21A Calculus with Analytic Geometry I 5 ...   \n",
       "West Valley College                                 MATH 003A: Calculus and Analytical Geometry\\nC...   \n",
       "Yuba College                                        MATH-1A 4 UNITS\\nSingle Variable Calculus I - ...   \n",
       "\n",
       "                                                                                           CSC230 eqv  \\\n",
       "School                                                                                                  \n",
       "SFSU                                                CSC 230 - Discrete Mathematical Structures for...   \n",
       "Berkeley City College                                  MATH 11 - Discrete Mathematics\\n4 units\\n\\nN/A   \n",
       "California Polytechnic State University, Humboldt   MATH 253 - Discrete Mathematics\\n3 Units, 3 Le...   \n",
       "California Polytechnic State University, Pomona     CS 1300 - Discrete Structures\\n4 Units\\nPrereq...   \n",
       "California Polytechnic State University, San Lu...                                                NaN   \n",
       "...                                                                                               ...   \n",
       "Solano Community College                            CIS021:\\n\\n3.0 Units\\nPrint\\nDescription:\\n\\nA...   \n",
       "Sonoma State University                                                                           NaN   \n",
       "Ventura College                                     MATH V52 Discrete Structures 3 Units\\nSame-As:...   \n",
       "West Valley College                                 MATH 019: Discrete Mathematics\\nCourse Descrip...   \n",
       "Yuba College                                        COMSC-15 3 UNITS\\nDiscrete Structures for Comp...   \n",
       "\n",
       "                                                                                           CSC256 eqv  \\\n",
       "School                                                                                                  \n",
       "SFSU                                                CSC 256 - Machine Structures\\n3 Units\\n\\nDigit...   \n",
       "Berkeley City College                               CIS 20: Microcomputer Assembly Language\\n4 Uni...   \n",
       "California Polytechnic State University, Humboldt                                                 NaN   \n",
       "California Polytechnic State University, Pomona     CS 2640 - Computer Organization and Assembly P...   \n",
       "California Polytechnic State University, San Lu...                                                NaN   \n",
       "...                                                                                               ...   \n",
       "Solano Community College                            CIS020:\\n\\n3.0 Units\\nPrint\\nDescription:\\n\\nA...   \n",
       "Sonoma State University                                                                           NaN   \n",
       "Ventura College                                                                                   NaN   \n",
       "West Valley College                                                                               NaN   \n",
       "Yuba College                                        COMSC-2 3 UNITS\\nComputer Assembly Language\\nT...   \n",
       "\n",
       "                                                                                     MATH226 eqv data  \\\n",
       "School                                                                                                  \n",
       "SFSU                                                {\"name\": \"MATH 226 - Calculus I\", \"discipline\"...   \n",
       "Berkeley City College                               ```\\n{\\n  \"name\": \"MATH 3A - Calculus I\",\\n  \"...   \n",
       "California Polytechnic State University, Humboldt   ```\\n{\\n  \"name\": \"MATH 109 - Calculus I\",\\n  ...   \n",
       "California Polytechnic State University, Pomona     ```\\n{\\n  \"name\": \"MAT 1140 - Calculus I\",\\n  ...   \n",
       "California Polytechnic State University, San Lu...  {\"name\": \"MATH 141 - Calculus I\", \"discipline\"...   \n",
       "...                                                                                               ...   \n",
       "Solano Community College                            {\"name\": \"MATH020\", \"discipline\": \"Mathematics...   \n",
       "Sonoma State University                             ```\\n{\\n  \"name\": \"MATH 161 - Differential and...   \n",
       "Ventura College                                     ```\\n{\\n  \"name\": \"MATH V21A Calculus with Ana...   \n",
       "West Valley College                                 ```\\n{\\n  \"name\": \"MATH 003A: Calculus and Ana...   \n",
       "Yuba College                                        ```\\n{\\n  \"name\": \"MATH-1A\",\\n  \"discipline\": ...   \n",
       "\n",
       "                                                                                      CSC230 eqv data  \\\n",
       "School                                                                                                  \n",
       "SFSU                                                {\"name\": \"CSC 230 - Discrete Mathematical Stru...   \n",
       "Berkeley City College                               {\"name\": \"MATH 11 - Discrete Mathematics\", \"di...   \n",
       "California Polytechnic State University, Humboldt   ```\\n{\\n  \"name\": \"MATH 253 - Discrete Mathema...   \n",
       "California Polytechnic State University, Pomona     ```\\n{\\n  \"name\": \"CS 1300 - Discrete Structur...   \n",
       "California Polytechnic State University, San Lu...                                                NaN   \n",
       "...                                                                                               ...   \n",
       "Solano Community College                            ```\\n{\\n  \"name\": \"CIS021\",\\n  \"discipline\": \"...   \n",
       "Sonoma State University                                                                           NaN   \n",
       "Ventura College                                     ```\\n{\\n  \"name\": \"MATH V52 Discrete Structure...   \n",
       "West Valley College                                 ```\\n{\\n  \"name\": \"MATH 019: Discrete Mathemat...   \n",
       "Yuba College                                        ```\\n{\\n  \"name\": \"COMSC-15\",\\n  \"discipline\":...   \n",
       "\n",
       "                                                                                      CSC256 eqv data  \n",
       "School                                                                                                 \n",
       "SFSU                                                ```\\n{\\n  \"name\": \"CSC 256 - Machine Structure...  \n",
       "Berkeley City College                               ```\\n{\\n  \"name\": \"CIS 20: Microcomputer Assem...  \n",
       "California Polytechnic State University, Humboldt                                                 NaN  \n",
       "California Polytechnic State University, Pomona     ```\\n{\\n  \"name\": \"CS 2640 - Computer Organiza...  \n",
       "California Polytechnic State University, San Lu...                                                NaN  \n",
       "...                                                                                               ...  \n",
       "Solano Community College                            {\"name\": \"CIS020\", \"discipline\": \"Computer Sci...  \n",
       "Sonoma State University                                                                           NaN  \n",
       "Ventura College                                                                                   NaN  \n",
       "West Valley College                                                                               NaN  \n",
       "Yuba College                                        ```\\n{\\n  \"name\": \"Computer Assembly Language\"...  \n",
       "\n",
       "[63 rows x 6 columns]"
      ]
     },
     "execution_count": 58,
     "metadata": {},
     "output_type": "execute_result"
    }
   ],
   "source": [
    "df_test_cases"
   ]
  },
  {
   "cell_type": "code",
   "execution_count": 71,
   "metadata": {},
   "outputs": [],
   "source": [
    "indices = df_test_cases.loc[:,'MATH226 eqv'].dropna().drop(columns=[\"School\"]).sample(n=50).index"
   ]
  },
  {
   "cell_type": "code",
   "execution_count": 82,
   "metadata": {},
   "outputs": [
    {
     "data": {
      "text/html": [
       "<div>\n",
       "<style scoped>\n",
       "    .dataframe tbody tr th:only-of-type {\n",
       "        vertical-align: middle;\n",
       "    }\n",
       "\n",
       "    .dataframe tbody tr th {\n",
       "        vertical-align: top;\n",
       "    }\n",
       "\n",
       "    .dataframe thead th {\n",
       "        text-align: right;\n",
       "    }\n",
       "</style>\n",
       "<table border=\"1\" class=\"dataframe\">\n",
       "  <thead>\n",
       "    <tr style=\"text-align: right;\">\n",
       "      <th></th>\n",
       "      <th>MATH226 eqv</th>\n",
       "      <th>CSC230 eqv</th>\n",
       "      <th>CSC256 eqv</th>\n",
       "      <th>MATH226 eqv data</th>\n",
       "      <th>CSC230 eqv data</th>\n",
       "      <th>CSC256 eqv data</th>\n",
       "    </tr>\n",
       "    <tr>\n",
       "      <th>School</th>\n",
       "      <th></th>\n",
       "      <th></th>\n",
       "      <th></th>\n",
       "      <th></th>\n",
       "      <th></th>\n",
       "      <th></th>\n",
       "    </tr>\n",
       "  </thead>\n",
       "  <tbody>\n",
       "    <tr>\n",
       "      <th>SFSU</th>\n",
       "      <td>MATH 226 - Calculus I\\n4 Units\\n\\nGraphs. Diff...</td>\n",
       "      <td>CSC 230 - Discrete Mathematical Structures for...</td>\n",
       "      <td>CSC 256 - Machine Structures\\n3 Units\\n\\nDigit...</td>\n",
       "      <td>{\"name\": \"MATH 226 - Calculus I\", \"discipline\"...</td>\n",
       "      <td>{\"name\": \"CSC 230 - Discrete Mathematical Stru...</td>\n",
       "      <td>```\\n{\\n  \"name\": \"CSC 256 - Machine Structure...</td>\n",
       "    </tr>\n",
       "    <tr>\n",
       "      <th>Berkeley City College</th>\n",
       "      <td>MATH 3A - Calculus I\\n5 Units, 5 lecture hours...</td>\n",
       "      <td>MATH 11 - Discrete Mathematics\\n4 units\\n\\nN/A</td>\n",
       "      <td>CIS 20: Microcomputer Assembly Language\\n4 Uni...</td>\n",
       "      <td>```\\n{\\n  \"name\": \"MATH 3A - Calculus I\",\\n  \"...</td>\n",
       "      <td>{\"name\": \"MATH 11 - Discrete Mathematics\", \"di...</td>\n",
       "      <td>```\\n{\\n  \"name\": \"CIS 20: Microcomputer Assem...</td>\n",
       "    </tr>\n",
       "    <tr>\n",
       "      <th>California Polytechnic State University, Humboldt</th>\n",
       "      <td>MATH 109 - Calculus I\\n4 Units, 4 Lecture hour...</td>\n",
       "      <td>MATH 253 - Discrete Mathematics\\n3 Units, 3 Le...</td>\n",
       "      <td>NaN</td>\n",
       "      <td>```\\n{\\n  \"name\": \"MATH 109 - Calculus I\",\\n  ...</td>\n",
       "      <td>```\\n{\\n  \"name\": \"MATH 253 - Discrete Mathema...</td>\n",
       "      <td>NaN</td>\n",
       "    </tr>\n",
       "    <tr>\n",
       "      <th>California Polytechnic State University, Pomona</th>\n",
       "      <td>MAT 1140 - Calculus I\\n4 Units\\nPrerequisites:...</td>\n",
       "      <td>CS 1300 - Discrete Structures\\n4 Units\\nPrereq...</td>\n",
       "      <td>CS 2640 - Computer Organization and Assembly P...</td>\n",
       "      <td>```\\n{\\n  \"name\": \"MAT 1140 - Calculus I\",\\n  ...</td>\n",
       "      <td>```\\n{\\n  \"name\": \"CS 1300 - Discrete Structur...</td>\n",
       "      <td>```\\n{\\n  \"name\": \"CS 2640 - Computer Organiza...</td>\n",
       "    </tr>\n",
       "    <tr>\n",
       "      <th>California Polytechnic State University, San Luis Obispo</th>\n",
       "      <td>MATH 141 - Calculus I\\n4 Units\\nGE Area B1\\nPr...</td>\n",
       "      <td>NaN</td>\n",
       "      <td>NaN</td>\n",
       "      <td>{\"name\": \"MATH 141 - Calculus I\", \"discipline\"...</td>\n",
       "      <td>NaN</td>\n",
       "      <td>NaN</td>\n",
       "    </tr>\n",
       "    <tr>\n",
       "      <th>...</th>\n",
       "      <td>...</td>\n",
       "      <td>...</td>\n",
       "      <td>...</td>\n",
       "      <td>...</td>\n",
       "      <td>...</td>\n",
       "      <td>...</td>\n",
       "    </tr>\n",
       "    <tr>\n",
       "      <th>Solano Community College</th>\n",
       "      <td>MATH020:\\n\\n4.0 Units\\nPrint\\nDescription:\\n\\n...</td>\n",
       "      <td>CIS021:\\n\\n3.0 Units\\nPrint\\nDescription:\\n\\nA...</td>\n",
       "      <td>CIS020:\\n\\n3.0 Units\\nPrint\\nDescription:\\n\\nA...</td>\n",
       "      <td>{\"name\": \"MATH020\", \"discipline\": \"Mathematics...</td>\n",
       "      <td>```\\n{\\n  \"name\": \"CIS021\",\\n  \"discipline\": \"...</td>\n",
       "      <td>{\"name\": \"CIS020\", \"discipline\": \"Computer Sci...</td>\n",
       "    </tr>\n",
       "    <tr>\n",
       "      <th>Sonoma State University</th>\n",
       "      <td>MATH 161 - Differential and Integral Calculus ...</td>\n",
       "      <td>NaN</td>\n",
       "      <td>NaN</td>\n",
       "      <td>```\\n{\\n  \"name\": \"MATH 161 - Differential and...</td>\n",
       "      <td>NaN</td>\n",
       "      <td>NaN</td>\n",
       "    </tr>\n",
       "    <tr>\n",
       "      <th>Ventura College</th>\n",
       "      <td>MATH V21A Calculus with Analytic Geometry I 5 ...</td>\n",
       "      <td>MATH V52 Discrete Structures 3 Units\\nSame-As:...</td>\n",
       "      <td>NaN</td>\n",
       "      <td>```\\n{\\n  \"name\": \"MATH V21A Calculus with Ana...</td>\n",
       "      <td>```\\n{\\n  \"name\": \"MATH V52 Discrete Structure...</td>\n",
       "      <td>NaN</td>\n",
       "    </tr>\n",
       "    <tr>\n",
       "      <th>West Valley College</th>\n",
       "      <td>MATH 003A: Calculus and Analytical Geometry\\nC...</td>\n",
       "      <td>MATH 019: Discrete Mathematics\\nCourse Descrip...</td>\n",
       "      <td>NaN</td>\n",
       "      <td>```\\n{\\n  \"name\": \"MATH 003A: Calculus and Ana...</td>\n",
       "      <td>```\\n{\\n  \"name\": \"MATH 019: Discrete Mathemat...</td>\n",
       "      <td>NaN</td>\n",
       "    </tr>\n",
       "    <tr>\n",
       "      <th>Yuba College</th>\n",
       "      <td>MATH-1A 4 UNITS\\nSingle Variable Calculus I - ...</td>\n",
       "      <td>COMSC-15 3 UNITS\\nDiscrete Structures for Comp...</td>\n",
       "      <td>COMSC-2 3 UNITS\\nComputer Assembly Language\\nT...</td>\n",
       "      <td>```\\n{\\n  \"name\": \"MATH-1A\",\\n  \"discipline\": ...</td>\n",
       "      <td>```\\n{\\n  \"name\": \"COMSC-15\",\\n  \"discipline\":...</td>\n",
       "      <td>```\\n{\\n  \"name\": \"Computer Assembly Language\"...</td>\n",
       "    </tr>\n",
       "  </tbody>\n",
       "</table>\n",
       "<p>63 rows × 6 columns</p>\n",
       "</div>"
      ],
      "text/plain": [
       "                                                                                          MATH226 eqv  \\\n",
       "School                                                                                                  \n",
       "SFSU                                                MATH 226 - Calculus I\\n4 Units\\n\\nGraphs. Diff...   \n",
       "Berkeley City College                               MATH 3A - Calculus I\\n5 Units, 5 lecture hours...   \n",
       "California Polytechnic State University, Humboldt   MATH 109 - Calculus I\\n4 Units, 4 Lecture hour...   \n",
       "California Polytechnic State University, Pomona     MAT 1140 - Calculus I\\n4 Units\\nPrerequisites:...   \n",
       "California Polytechnic State University, San Lu...  MATH 141 - Calculus I\\n4 Units\\nGE Area B1\\nPr...   \n",
       "...                                                                                               ...   \n",
       "Solano Community College                            MATH020:\\n\\n4.0 Units\\nPrint\\nDescription:\\n\\n...   \n",
       "Sonoma State University                             MATH 161 - Differential and Integral Calculus ...   \n",
       "Ventura College                                     MATH V21A Calculus with Analytic Geometry I 5 ...   \n",
       "West Valley College                                 MATH 003A: Calculus and Analytical Geometry\\nC...   \n",
       "Yuba College                                        MATH-1A 4 UNITS\\nSingle Variable Calculus I - ...   \n",
       "\n",
       "                                                                                           CSC230 eqv  \\\n",
       "School                                                                                                  \n",
       "SFSU                                                CSC 230 - Discrete Mathematical Structures for...   \n",
       "Berkeley City College                                  MATH 11 - Discrete Mathematics\\n4 units\\n\\nN/A   \n",
       "California Polytechnic State University, Humboldt   MATH 253 - Discrete Mathematics\\n3 Units, 3 Le...   \n",
       "California Polytechnic State University, Pomona     CS 1300 - Discrete Structures\\n4 Units\\nPrereq...   \n",
       "California Polytechnic State University, San Lu...                                                NaN   \n",
       "...                                                                                               ...   \n",
       "Solano Community College                            CIS021:\\n\\n3.0 Units\\nPrint\\nDescription:\\n\\nA...   \n",
       "Sonoma State University                                                                           NaN   \n",
       "Ventura College                                     MATH V52 Discrete Structures 3 Units\\nSame-As:...   \n",
       "West Valley College                                 MATH 019: Discrete Mathematics\\nCourse Descrip...   \n",
       "Yuba College                                        COMSC-15 3 UNITS\\nDiscrete Structures for Comp...   \n",
       "\n",
       "                                                                                           CSC256 eqv  \\\n",
       "School                                                                                                  \n",
       "SFSU                                                CSC 256 - Machine Structures\\n3 Units\\n\\nDigit...   \n",
       "Berkeley City College                               CIS 20: Microcomputer Assembly Language\\n4 Uni...   \n",
       "California Polytechnic State University, Humboldt                                                 NaN   \n",
       "California Polytechnic State University, Pomona     CS 2640 - Computer Organization and Assembly P...   \n",
       "California Polytechnic State University, San Lu...                                                NaN   \n",
       "...                                                                                               ...   \n",
       "Solano Community College                            CIS020:\\n\\n3.0 Units\\nPrint\\nDescription:\\n\\nA...   \n",
       "Sonoma State University                                                                           NaN   \n",
       "Ventura College                                                                                   NaN   \n",
       "West Valley College                                                                               NaN   \n",
       "Yuba College                                        COMSC-2 3 UNITS\\nComputer Assembly Language\\nT...   \n",
       "\n",
       "                                                                                     MATH226 eqv data  \\\n",
       "School                                                                                                  \n",
       "SFSU                                                {\"name\": \"MATH 226 - Calculus I\", \"discipline\"...   \n",
       "Berkeley City College                               ```\\n{\\n  \"name\": \"MATH 3A - Calculus I\",\\n  \"...   \n",
       "California Polytechnic State University, Humboldt   ```\\n{\\n  \"name\": \"MATH 109 - Calculus I\",\\n  ...   \n",
       "California Polytechnic State University, Pomona     ```\\n{\\n  \"name\": \"MAT 1140 - Calculus I\",\\n  ...   \n",
       "California Polytechnic State University, San Lu...  {\"name\": \"MATH 141 - Calculus I\", \"discipline\"...   \n",
       "...                                                                                               ...   \n",
       "Solano Community College                            {\"name\": \"MATH020\", \"discipline\": \"Mathematics...   \n",
       "Sonoma State University                             ```\\n{\\n  \"name\": \"MATH 161 - Differential and...   \n",
       "Ventura College                                     ```\\n{\\n  \"name\": \"MATH V21A Calculus with Ana...   \n",
       "West Valley College                                 ```\\n{\\n  \"name\": \"MATH 003A: Calculus and Ana...   \n",
       "Yuba College                                        ```\\n{\\n  \"name\": \"MATH-1A\",\\n  \"discipline\": ...   \n",
       "\n",
       "                                                                                      CSC230 eqv data  \\\n",
       "School                                                                                                  \n",
       "SFSU                                                {\"name\": \"CSC 230 - Discrete Mathematical Stru...   \n",
       "Berkeley City College                               {\"name\": \"MATH 11 - Discrete Mathematics\", \"di...   \n",
       "California Polytechnic State University, Humboldt   ```\\n{\\n  \"name\": \"MATH 253 - Discrete Mathema...   \n",
       "California Polytechnic State University, Pomona     ```\\n{\\n  \"name\": \"CS 1300 - Discrete Structur...   \n",
       "California Polytechnic State University, San Lu...                                                NaN   \n",
       "...                                                                                               ...   \n",
       "Solano Community College                            ```\\n{\\n  \"name\": \"CIS021\",\\n  \"discipline\": \"...   \n",
       "Sonoma State University                                                                           NaN   \n",
       "Ventura College                                     ```\\n{\\n  \"name\": \"MATH V52 Discrete Structure...   \n",
       "West Valley College                                 ```\\n{\\n  \"name\": \"MATH 019: Discrete Mathemat...   \n",
       "Yuba College                                        ```\\n{\\n  \"name\": \"COMSC-15\",\\n  \"discipline\":...   \n",
       "\n",
       "                                                                                      CSC256 eqv data  \n",
       "School                                                                                                 \n",
       "SFSU                                                ```\\n{\\n  \"name\": \"CSC 256 - Machine Structure...  \n",
       "Berkeley City College                               ```\\n{\\n  \"name\": \"CIS 20: Microcomputer Assem...  \n",
       "California Polytechnic State University, Humboldt                                                 NaN  \n",
       "California Polytechnic State University, Pomona     ```\\n{\\n  \"name\": \"CS 2640 - Computer Organiza...  \n",
       "California Polytechnic State University, San Lu...                                                NaN  \n",
       "...                                                                                               ...  \n",
       "Solano Community College                            {\"name\": \"CIS020\", \"discipline\": \"Computer Sci...  \n",
       "Sonoma State University                                                                           NaN  \n",
       "Ventura College                                                                                   NaN  \n",
       "West Valley College                                                                               NaN  \n",
       "Yuba College                                        ```\\n{\\n  \"name\": \"Computer Assembly Language\"...  \n",
       "\n",
       "[63 rows x 6 columns]"
      ]
     },
     "execution_count": 82,
     "metadata": {},
     "output_type": "execute_result"
    }
   ],
   "source": [
    "df_test_cases"
   ]
  },
  {
   "cell_type": "code",
   "execution_count": 114,
   "metadata": {},
   "outputs": [
    {
     "data": {
      "text/html": [
       "<div>\n",
       "<style scoped>\n",
       "    .dataframe tbody tr th:only-of-type {\n",
       "        vertical-align: middle;\n",
       "    }\n",
       "\n",
       "    .dataframe tbody tr th {\n",
       "        vertical-align: top;\n",
       "    }\n",
       "\n",
       "    .dataframe thead th {\n",
       "        text-align: right;\n",
       "    }\n",
       "</style>\n",
       "<table border=\"1\" class=\"dataframe\">\n",
       "  <thead>\n",
       "    <tr style=\"text-align: right;\">\n",
       "      <th></th>\n",
       "      <th>CSC230 eqv</th>\n",
       "      <th>CSC256 eqv</th>\n",
       "      <th>CSC230 eqv data</th>\n",
       "      <th>CSC256 eqv data</th>\n",
       "    </tr>\n",
       "    <tr>\n",
       "      <th>School</th>\n",
       "      <th></th>\n",
       "      <th></th>\n",
       "      <th></th>\n",
       "      <th></th>\n",
       "    </tr>\n",
       "  </thead>\n",
       "  <tbody>\n",
       "    <tr>\n",
       "      <th>SFSU</th>\n",
       "      <td>CSC 230 - Discrete Mathematical Structures for...</td>\n",
       "      <td>CSC 256 - Machine Structures\\n3 Units\\n\\nDigit...</td>\n",
       "      <td>{\"name\": \"CSC 230 - Discrete Mathematical Stru...</td>\n",
       "      <td>```\\n{\\n  \"name\": \"CSC 256 - Machine Structure...</td>\n",
       "    </tr>\n",
       "    <tr>\n",
       "      <th>Berkeley City College</th>\n",
       "      <td>MATH 11 - Discrete Mathematics\\n4 units\\n\\nN/A</td>\n",
       "      <td>CIS 20: Microcomputer Assembly Language\\n4 Uni...</td>\n",
       "      <td>{\"name\": \"MATH 11 - Discrete Mathematics\", \"di...</td>\n",
       "      <td>```\\n{\\n  \"name\": \"CIS 20: Microcomputer Assem...</td>\n",
       "    </tr>\n",
       "    <tr>\n",
       "      <th>California Polytechnic State University, Humboldt</th>\n",
       "      <td>MATH 253 - Discrete Mathematics\\n3 Units, 3 Le...</td>\n",
       "      <td>NaN</td>\n",
       "      <td>```\\n{\\n  \"name\": \"MATH 253 - Discrete Mathema...</td>\n",
       "      <td>NaN</td>\n",
       "    </tr>\n",
       "    <tr>\n",
       "      <th>California Polytechnic State University, Pomona</th>\n",
       "      <td>CS 1300 - Discrete Structures\\n4 Units\\nPrereq...</td>\n",
       "      <td>CS 2640 - Computer Organization and Assembly P...</td>\n",
       "      <td>```\\n{\\n  \"name\": \"CS 1300 - Discrete Structur...</td>\n",
       "      <td>```\\n{\\n  \"name\": \"CS 2640 - Computer Organiza...</td>\n",
       "    </tr>\n",
       "    <tr>\n",
       "      <th>California Polytechnic State University, San Luis Obispo</th>\n",
       "      <td>NaN</td>\n",
       "      <td>NaN</td>\n",
       "      <td>NaN</td>\n",
       "      <td>NaN</td>\n",
       "    </tr>\n",
       "    <tr>\n",
       "      <th>...</th>\n",
       "      <td>...</td>\n",
       "      <td>...</td>\n",
       "      <td>...</td>\n",
       "      <td>...</td>\n",
       "    </tr>\n",
       "    <tr>\n",
       "      <th>Solano Community College</th>\n",
       "      <td>CIS021:\\n\\n3.0 Units\\nPrint\\nDescription:\\n\\nA...</td>\n",
       "      <td>CIS020:\\n\\n3.0 Units\\nPrint\\nDescription:\\n\\nA...</td>\n",
       "      <td>```\\n{\\n  \"name\": \"CIS021\",\\n  \"discipline\": \"...</td>\n",
       "      <td>{\"name\": \"CIS020\", \"discipline\": \"Computer Sci...</td>\n",
       "    </tr>\n",
       "    <tr>\n",
       "      <th>Sonoma State University</th>\n",
       "      <td>NaN</td>\n",
       "      <td>NaN</td>\n",
       "      <td>NaN</td>\n",
       "      <td>NaN</td>\n",
       "    </tr>\n",
       "    <tr>\n",
       "      <th>Ventura College</th>\n",
       "      <td>MATH V52 Discrete Structures 3 Units\\nSame-As:...</td>\n",
       "      <td>NaN</td>\n",
       "      <td>```\\n{\\n  \"name\": \"MATH V52 Discrete Structure...</td>\n",
       "      <td>NaN</td>\n",
       "    </tr>\n",
       "    <tr>\n",
       "      <th>West Valley College</th>\n",
       "      <td>MATH 019: Discrete Mathematics\\nCourse Descrip...</td>\n",
       "      <td>NaN</td>\n",
       "      <td>```\\n{\\n  \"name\": \"MATH 019: Discrete Mathemat...</td>\n",
       "      <td>NaN</td>\n",
       "    </tr>\n",
       "    <tr>\n",
       "      <th>Yuba College</th>\n",
       "      <td>COMSC-15 3 UNITS\\nDiscrete Structures for Comp...</td>\n",
       "      <td>COMSC-2 3 UNITS\\nComputer Assembly Language\\nT...</td>\n",
       "      <td>```\\n{\\n  \"name\": \"COMSC-15\",\\n  \"discipline\":...</td>\n",
       "      <td>```\\n{\\n  \"name\": \"Computer Assembly Language\"...</td>\n",
       "    </tr>\n",
       "  </tbody>\n",
       "</table>\n",
       "<p>63 rows × 4 columns</p>\n",
       "</div>"
      ],
      "text/plain": [
       "                                                                                           CSC230 eqv  \\\n",
       "School                                                                                                  \n",
       "SFSU                                                CSC 230 - Discrete Mathematical Structures for...   \n",
       "Berkeley City College                                  MATH 11 - Discrete Mathematics\\n4 units\\n\\nN/A   \n",
       "California Polytechnic State University, Humboldt   MATH 253 - Discrete Mathematics\\n3 Units, 3 Le...   \n",
       "California Polytechnic State University, Pomona     CS 1300 - Discrete Structures\\n4 Units\\nPrereq...   \n",
       "California Polytechnic State University, San Lu...                                                NaN   \n",
       "...                                                                                               ...   \n",
       "Solano Community College                            CIS021:\\n\\n3.0 Units\\nPrint\\nDescription:\\n\\nA...   \n",
       "Sonoma State University                                                                           NaN   \n",
       "Ventura College                                     MATH V52 Discrete Structures 3 Units\\nSame-As:...   \n",
       "West Valley College                                 MATH 019: Discrete Mathematics\\nCourse Descrip...   \n",
       "Yuba College                                        COMSC-15 3 UNITS\\nDiscrete Structures for Comp...   \n",
       "\n",
       "                                                                                           CSC256 eqv  \\\n",
       "School                                                                                                  \n",
       "SFSU                                                CSC 256 - Machine Structures\\n3 Units\\n\\nDigit...   \n",
       "Berkeley City College                               CIS 20: Microcomputer Assembly Language\\n4 Uni...   \n",
       "California Polytechnic State University, Humboldt                                                 NaN   \n",
       "California Polytechnic State University, Pomona     CS 2640 - Computer Organization and Assembly P...   \n",
       "California Polytechnic State University, San Lu...                                                NaN   \n",
       "...                                                                                               ...   \n",
       "Solano Community College                            CIS020:\\n\\n3.0 Units\\nPrint\\nDescription:\\n\\nA...   \n",
       "Sonoma State University                                                                           NaN   \n",
       "Ventura College                                                                                   NaN   \n",
       "West Valley College                                                                               NaN   \n",
       "Yuba College                                        COMSC-2 3 UNITS\\nComputer Assembly Language\\nT...   \n",
       "\n",
       "                                                                                      CSC230 eqv data  \\\n",
       "School                                                                                                  \n",
       "SFSU                                                {\"name\": \"CSC 230 - Discrete Mathematical Stru...   \n",
       "Berkeley City College                               {\"name\": \"MATH 11 - Discrete Mathematics\", \"di...   \n",
       "California Polytechnic State University, Humboldt   ```\\n{\\n  \"name\": \"MATH 253 - Discrete Mathema...   \n",
       "California Polytechnic State University, Pomona     ```\\n{\\n  \"name\": \"CS 1300 - Discrete Structur...   \n",
       "California Polytechnic State University, San Lu...                                                NaN   \n",
       "...                                                                                               ...   \n",
       "Solano Community College                            ```\\n{\\n  \"name\": \"CIS021\",\\n  \"discipline\": \"...   \n",
       "Sonoma State University                                                                           NaN   \n",
       "Ventura College                                     ```\\n{\\n  \"name\": \"MATH V52 Discrete Structure...   \n",
       "West Valley College                                 ```\\n{\\n  \"name\": \"MATH 019: Discrete Mathemat...   \n",
       "Yuba College                                        ```\\n{\\n  \"name\": \"COMSC-15\",\\n  \"discipline\":...   \n",
       "\n",
       "                                                                                      CSC256 eqv data  \n",
       "School                                                                                                 \n",
       "SFSU                                                ```\\n{\\n  \"name\": \"CSC 256 - Machine Structure...  \n",
       "Berkeley City College                               ```\\n{\\n  \"name\": \"CIS 20: Microcomputer Assem...  \n",
       "California Polytechnic State University, Humboldt                                                 NaN  \n",
       "California Polytechnic State University, Pomona     ```\\n{\\n  \"name\": \"CS 2640 - Computer Organiza...  \n",
       "California Polytechnic State University, San Lu...                                                NaN  \n",
       "...                                                                                               ...  \n",
       "Solano Community College                            {\"name\": \"CIS020\", \"discipline\": \"Computer Sci...  \n",
       "Sonoma State University                                                                           NaN  \n",
       "Ventura College                                                                                   NaN  \n",
       "West Valley College                                                                               NaN  \n",
       "Yuba College                                        ```\\n{\\n  \"name\": \"Computer Assembly Language\"...  \n",
       "\n",
       "[63 rows x 4 columns]"
      ]
     },
     "execution_count": 114,
     "metadata": {},
     "output_type": "execute_result"
    }
   ],
   "source": [
    "df_source = df_test_cases.drop(df_test_cases.columns[[0, 3]], axis=1)\n",
    "df_source"
   ]
  },
  {
   "cell_type": "code",
   "execution_count": 113,
   "metadata": {},
   "outputs": [
    {
     "data": {
      "text/plain": [
       "School\n",
       "Pasadena City College                       CS 066  ASSEMBLY LANGUAGE PROGRAMMING FOR THE ...\n",
       "Skyline College                             COMP 262 Discrete Mathematics for Computer Sci...\n",
       "Santa Barbara City College                  CS 107 Computer Architecture and Organization ...\n",
       "California State University, Bakersfield    CMPS 2120 - Discrete Structures\\n4 Units\\n\\nDi...\n",
       "Sierra College                              MATH 0015. Discrete Mathematics\\n\\nUnits: 4\\nP...\n",
       "                                                                  ...                        \n",
       "Gavilan College                             CSIS 26 - Discrete Structures\\n3 Units\\n\\nTopi...\n",
       "Santa Monica College                        MATH 10\\nDiscrete Structures\\nUnits: 3\\nTransf...\n",
       "Reedley College                             26 DISCRETE MATHEMATICS FOR\\nCOMPUTER SCIENCE\\...\n",
       "Mount San Antonio College                   CSCI 150  Assembly Language/Machine Architectu...\n",
       "City College of San Francisco               CS 270, Computer Architecture with Assembly La...\n",
       "Length: 1420, dtype: object"
      ]
     },
     "execution_count": 113,
     "metadata": {},
     "output_type": "execute_result"
    }
   ],
   "source": [
    "df_source = pd.concat([df_source.iloc[:,0], df_source.iloc[:, 1]]).dropna().sample(n=1420, replace=True)\n",
    "df_source"
   ]
  },
  {
   "cell_type": "code",
   "execution_count": 115,
   "metadata": {},
   "outputs": [],
   "source": [
    "df_source = df_test_cases.drop(df_test_cases.columns[[0, 3]], axis=1)\n",
    "df_source = df_test_cases.drop(df_test_cases.columns[[i, i+3]], axis=1)\n",
    "source_raw_col = pd.concat([df_source.iloc[:, 0], df_source.iloc[:, 1]], axis=0).dropna().reset_index()\n",
    "source_topic_col = pd.concat([df_source.iloc[:, 2], df_source.iloc[:, 3]], axis=0).dropna().reset_index()\n",
    "source_indices = source_raw_col.sample(n=1420, replace=True).index"
   ]
  },
  {
   "cell_type": "code",
   "execution_count": 121,
   "metadata": {},
   "outputs": [
    {
     "data": {
      "text/plain": [
       "14     MATH 122 - Calculus I\\n4 Units\\n\\nPrerequisite...\n",
       "61     MATH-1A 4 UNITS\\nSingle Variable Calculus I - ...\n",
       "60     MATH 003A: Calculus and Analytical Geometry\\nC...\n",
       "108    MATH 4 Discrete Mathematics\\n\\n4 Units/4 hours...\n",
       "18     MATH 30 - Calculus I\\n4 Units\\nPrerequisite(s)...\n",
       "                             ...                        \n",
       "58     MATH 161 - Differential and Integral Calculus ...\n",
       "54     MATH 1A Calculus, First Course\\n\\n5 Units/5 ho...\n",
       "102    CS 045  DISCRETE STRUCTURES WITH COMPUTER SCIE...\n",
       "58     MATH 161 - Differential and Integral Calculus ...\n",
       "28     MATH 400 - Calculus I\\n5 Units\\nPrerequisite: ...\n",
       "Name: 0, Length: 1420, dtype: object"
      ]
     },
     "execution_count": 121,
     "metadata": {},
     "output_type": "execute_result"
    }
   ],
   "source": [
    "source_raw_col.iloc[source_indices, 1]"
   ]
  },
  {
   "cell_type": "code",
   "execution_count": 122,
   "metadata": {},
   "outputs": [
    {
     "data": {
      "text/plain": [
       "14     {\"name\": \"MATH 122 - Calculus I\", \"discipline\"...\n",
       "61     ```\\n{\\n  \"name\": \"MATH-1A\",\\n  \"discipline\": ...\n",
       "60     ```\\n{\\n  \"name\": \"MATH 003A: Calculus and Ana...\n",
       "108    {\"name\": \"MATH 4 Discrete Mathematics\", \"disci...\n",
       "18     {\"name\": \"MATH 30 - Calculus I\", \"discipline\":...\n",
       "                             ...                        \n",
       "58     ```\\n{\\n  \"name\": \"MATH 161 - Differential and...\n",
       "54     {\"name\": \"MATH 1A Calculus, First Course\", \"di...\n",
       "102    {\"name\": \"CS 045  DISCRETE STRUCTURES WITH COM...\n",
       "58     ```\\n{\\n  \"name\": \"MATH 161 - Differential and...\n",
       "28     {\"name\": \"MATH 400 - Calculus I\", \"discipline\"...\n",
       "Name: 0, Length: 1420, dtype: object"
      ]
     },
     "execution_count": 122,
     "metadata": {},
     "output_type": "execute_result"
    }
   ],
   "source": [
    "source_topic_col.iloc[source_indices, 1]"
   ]
  },
  {
   "cell_type": "code",
   "execution_count": 124,
   "metadata": {},
   "outputs": [
    {
     "data": {
      "text/plain": [
       "Index(['Mount San Antonio College',\n",
       "       'California Polytechnic State University, Pomona',\n",
       "       'California State University, Stanislaus', 'Reedley College',\n",
       "       'Merced Community College', 'California State University, Long Beach',\n",
       "       'California Polytechnic State University, Humboldt',\n",
       "       'Clovis Community College', 'Foothill College',\n",
       "       'Sonoma State University',\n",
       "       ...\n",
       "       'City College of San Francisco', 'SFSU',\n",
       "       'California State University, Dominguez Hills',\n",
       "       'California State University, Los Angeles',\n",
       "       'California Polytechnic State University, Pomona', 'SFSU',\n",
       "       'Contra Costa College', 'Grossmont College', 'Ohlone College',\n",
       "       'Chabot College'],\n",
       "      dtype='object', name='School', length=1420)"
      ]
     },
     "execution_count": 124,
     "metadata": {},
     "output_type": "execute_result"
    }
   ],
   "source": [
    "target_indices = df_test_cases.iloc[:,0].dropna().sample(n=1420, replace=True).index\n",
    "target_indices\n",
    "# target_raw = df_test_cases.iloc[target_indices, 0]"
   ]
  },
  {
   "cell_type": "code",
   "execution_count": 128,
   "metadata": {},
   "outputs": [
    {
     "data": {
      "text/plain": [
       "School\n",
       "Mount San Antonio College                          MATH 180  Calculus and Analytic Geometry I\\n\\n...\n",
       "California Polytechnic State University, Pomona    MAT 1140 - Calculus I\\n4 Units\\nPrerequisites:...\n",
       "California State University, Stanislaus            MATH 1410 - Calculus I\\n4 Units\\n\\nInequalitie...\n",
       "Reedley College                                    5A CALCULUS I\\n5 units, 5 lecture hours\\nPRERE...\n",
       "Merced Community College                           MATH-04A - CALCULUS I\\n4 units: 4 hours lectur...\n",
       "                                                                         ...                        \n",
       "SFSU                                               MATH 226 - Calculus I\\n4 Units\\n\\nGraphs. Diff...\n",
       "Contra Costa College                               MATH-190 Analytic Geometry and Calculus I\\n\\n5...\n",
       "Grossmont College                                  MATH 180 - ANALYTIC GEOMETRY AND CALCULUS I\\n5...\n",
       "Ohlone College                                     Calculus with Analytic Geometry\\n90.00 hrs lec...\n",
       "Chabot College                                     MTH 1 - Calculus I\\n5 Units\\n\\nElements of ana...\n",
       "Name: MATH226 eqv, Length: 1420, dtype: object"
      ]
     },
     "execution_count": 128,
     "metadata": {},
     "output_type": "execute_result"
    }
   ],
   "source": [
    "df_test_cases.loc[target_indices].iloc[:,0]"
   ]
  },
  {
   "cell_type": "code",
   "execution_count": 140,
   "metadata": {},
   "outputs": [],
   "source": [
    "target_sample = []\n",
    "for i in range(3):\n",
    "    target_indices = df_test_cases.iloc[:,i].dropna().sample(n=1420, replace=True).index\n",
    "    target_raw = df_test_cases.loc[target_indices].iloc[:,i]\n",
    "    target_topic = df_test_cases.loc[target_indices].iloc[:,i+3]\n",
    "\n",
    "    df_source = df_test_cases.drop(df_test_cases.columns[[i, i+3]], axis=1)\n",
    "    source_raw_col = pd.concat([df_source.iloc[:, 0], df_source.iloc[:, 1]], axis=0).dropna().reset_index()\n",
    "    source_topic_col = pd.concat([df_source.iloc[:, 2], df_source.iloc[:, 3]], axis=0).dropna().reset_index()\n",
    "    source_indices = source_raw_col.sample(n=1420, replace=True).index\n",
    "\n",
    "    target_sample.append(list(zip(target_raw, source_raw_col.iloc[source_indices, 1], target_topic, source_topic_col.iloc[source_indices, 1], [0 for i in range(len(target_indices))])))"
   ]
  },
  {
   "cell_type": "code",
   "execution_count": 142,
   "metadata": {},
   "outputs": [],
   "source": [
    "for course in target_sample:\n",
    "    df_eval = pd.concat([df_eval, pd.DataFrame(course, columns=['target_raw', 'source_raw', 'target_topics', 'source_topics', 'label'])])"
   ]
  },
  {
   "cell_type": "code",
   "execution_count": 144,
   "metadata": {},
   "outputs": [],
   "source": [
    "df_eval = df_eval.reset_index().drop(columns=['index'])"
   ]
  },
  {
   "cell_type": "code",
   "execution_count": 147,
   "metadata": {},
   "outputs": [
    {
     "data": {
      "text/html": [
       "<div>\n",
       "<style scoped>\n",
       "    .dataframe tbody tr th:only-of-type {\n",
       "        vertical-align: middle;\n",
       "    }\n",
       "\n",
       "    .dataframe tbody tr th {\n",
       "        vertical-align: top;\n",
       "    }\n",
       "\n",
       "    .dataframe thead th {\n",
       "        text-align: right;\n",
       "    }\n",
       "</style>\n",
       "<table border=\"1\" class=\"dataframe\">\n",
       "  <thead>\n",
       "    <tr style=\"text-align: right;\">\n",
       "      <th></th>\n",
       "      <th>target_raw</th>\n",
       "      <th>source_raw</th>\n",
       "      <th>target_topics</th>\n",
       "      <th>source_topics</th>\n",
       "      <th>label</th>\n",
       "    </tr>\n",
       "  </thead>\n",
       "  <tbody>\n",
       "    <tr>\n",
       "      <th>0</th>\n",
       "      <td>MATH 226 - Calculus I\\n4 Units\\n\\nGraphs. Diff...</td>\n",
       "      <td>MATH 3A - Calculus I\\n5 Units, 5 lecture hours...</td>\n",
       "      <td>{\"name\": \"MATH 226 - Calculus I\", \"discipline\"...</td>\n",
       "      <td>```\\n{\\n  \"name\": \"MATH 3A - Calculus I\",\\n  \"...</td>\n",
       "      <td>1</td>\n",
       "    </tr>\n",
       "    <tr>\n",
       "      <th>1</th>\n",
       "      <td>MATH 226 - Calculus I\\n4 Units\\n\\nGraphs. Diff...</td>\n",
       "      <td>MATH 109 - Calculus I\\n4 Units, 4 Lecture hour...</td>\n",
       "      <td>{\"name\": \"MATH 226 - Calculus I\", \"discipline\"...</td>\n",
       "      <td>```\\n{\\n  \"name\": \"MATH 109 - Calculus I\",\\n  ...</td>\n",
       "      <td>1</td>\n",
       "    </tr>\n",
       "    <tr>\n",
       "      <th>2</th>\n",
       "      <td>MATH 226 - Calculus I\\n4 Units\\n\\nGraphs. Diff...</td>\n",
       "      <td>MAT 1140 - Calculus I\\n4 Units\\nPrerequisites:...</td>\n",
       "      <td>{\"name\": \"MATH 226 - Calculus I\", \"discipline\"...</td>\n",
       "      <td>```\\n{\\n  \"name\": \"MAT 1140 - Calculus I\",\\n  ...</td>\n",
       "      <td>1</td>\n",
       "    </tr>\n",
       "    <tr>\n",
       "      <th>3</th>\n",
       "      <td>MATH 226 - Calculus I\\n4 Units\\n\\nGraphs. Diff...</td>\n",
       "      <td>MATH 141 - Calculus I\\n4 Units\\nGE Area B1\\nPr...</td>\n",
       "      <td>{\"name\": \"MATH 226 - Calculus I\", \"discipline\"...</td>\n",
       "      <td>{\"name\": \"MATH 141 - Calculus I\", \"discipline\"...</td>\n",
       "      <td>1</td>\n",
       "    </tr>\n",
       "    <tr>\n",
       "      <th>4</th>\n",
       "      <td>MATH 226 - Calculus I\\n4 Units\\n\\nGraphs. Diff...</td>\n",
       "      <td>MATH 150 - Calculus I\\n4 Units\\nFour hours lec...</td>\n",
       "      <td>{\"name\": \"MATH 226 - Calculus I\", \"discipline\"...</td>\n",
       "      <td>```\\n{\\n  \"name\": \"MATH 150 - Calculus I\",\\n  ...</td>\n",
       "      <td>1</td>\n",
       "    </tr>\n",
       "    <tr>\n",
       "      <th>...</th>\n",
       "      <td>...</td>\n",
       "      <td>...</td>\n",
       "      <td>...</td>\n",
       "      <td>...</td>\n",
       "      <td>...</td>\n",
       "    </tr>\n",
       "    <tr>\n",
       "      <th>8514</th>\n",
       "      <td>CS 51  (C-ID COMP 142)         3 units  \\nIntr...</td>\n",
       "      <td>CSCI 190  Discrete Mathematics Applied to Comp...</td>\n",
       "      <td>```\\n{\\n  \"name\": \"CS 51\",\\n  \"discipline\": \"C...</td>\n",
       "      <td>```\\n{\\n  \"name\": \"CSCI 190  Discrete Mathemat...</td>\n",
       "      <td>0</td>\n",
       "    </tr>\n",
       "    <tr>\n",
       "      <th>8515</th>\n",
       "      <td>CIS020:\\n\\n3.0 Units\\nPrint\\nDescription:\\n\\nA...</td>\n",
       "      <td>COMP 256 - Discrete Structures for Computer Sc...</td>\n",
       "      <td>{\"name\": \"CIS020\", \"discipline\": \"Computer Sci...</td>\n",
       "      <td>```\\n{\\n  \"name\": \"COMP 256 - Discrete Structu...</td>\n",
       "      <td>0</td>\n",
       "    </tr>\n",
       "    <tr>\n",
       "      <th>8516</th>\n",
       "      <td>CIS020:\\n\\n3.0 Units\\nPrint\\nDescription:\\n\\nA...</td>\n",
       "      <td>MATH 170A - Mathematical Structures I\\n3 Units...</td>\n",
       "      <td>{\"name\": \"CIS020\", \"discipline\": \"Computer Sci...</td>\n",
       "      <td>{\"name\": \"MATH 170A - Mathematical Structures ...</td>\n",
       "      <td>0</td>\n",
       "    </tr>\n",
       "    <tr>\n",
       "      <th>8517</th>\n",
       "      <td>COMSC-2 3 UNITS\\nComputer Assembly Language\\nT...</td>\n",
       "      <td>MATH 1410 - Calculus I\\n4 Units\\n\\nInequalitie...</td>\n",
       "      <td>```\\n{\\n  \"name\": \"Computer Assembly Language\"...</td>\n",
       "      <td>{\"name\": \"MATH 1410 - Calculus I\", \"discipline...</td>\n",
       "      <td>0</td>\n",
       "    </tr>\n",
       "    <tr>\n",
       "      <th>8518</th>\n",
       "      <td>Introduction to Assembly Language Programming\\...</td>\n",
       "      <td>MATH 1A - CALCULUS\\n5 Units\\n\\nPrerequisite:  ...</td>\n",
       "      <td>```\\n{\\n  \"name\": \"Introduction to Assembly La...</td>\n",
       "      <td>{\"name\": \"MATH 1A - CALCULUS\", \"discipline\": \"...</td>\n",
       "      <td>0</td>\n",
       "    </tr>\n",
       "  </tbody>\n",
       "</table>\n",
       "<p>8519 rows × 5 columns</p>\n",
       "</div>"
      ],
      "text/plain": [
       "                                             target_raw  \\\n",
       "0     MATH 226 - Calculus I\\n4 Units\\n\\nGraphs. Diff...   \n",
       "1     MATH 226 - Calculus I\\n4 Units\\n\\nGraphs. Diff...   \n",
       "2     MATH 226 - Calculus I\\n4 Units\\n\\nGraphs. Diff...   \n",
       "3     MATH 226 - Calculus I\\n4 Units\\n\\nGraphs. Diff...   \n",
       "4     MATH 226 - Calculus I\\n4 Units\\n\\nGraphs. Diff...   \n",
       "...                                                 ...   \n",
       "8514  CS 51  (C-ID COMP 142)         3 units  \\nIntr...   \n",
       "8515  CIS020:\\n\\n3.0 Units\\nPrint\\nDescription:\\n\\nA...   \n",
       "8516  CIS020:\\n\\n3.0 Units\\nPrint\\nDescription:\\n\\nA...   \n",
       "8517  COMSC-2 3 UNITS\\nComputer Assembly Language\\nT...   \n",
       "8518  Introduction to Assembly Language Programming\\...   \n",
       "\n",
       "                                             source_raw  \\\n",
       "0     MATH 3A - Calculus I\\n5 Units, 5 lecture hours...   \n",
       "1     MATH 109 - Calculus I\\n4 Units, 4 Lecture hour...   \n",
       "2     MAT 1140 - Calculus I\\n4 Units\\nPrerequisites:...   \n",
       "3     MATH 141 - Calculus I\\n4 Units\\nGE Area B1\\nPr...   \n",
       "4     MATH 150 - Calculus I\\n4 Units\\nFour hours lec...   \n",
       "...                                                 ...   \n",
       "8514  CSCI 190  Discrete Mathematics Applied to Comp...   \n",
       "8515  COMP 256 - Discrete Structures for Computer Sc...   \n",
       "8516  MATH 170A - Mathematical Structures I\\n3 Units...   \n",
       "8517  MATH 1410 - Calculus I\\n4 Units\\n\\nInequalitie...   \n",
       "8518  MATH 1A - CALCULUS\\n5 Units\\n\\nPrerequisite:  ...   \n",
       "\n",
       "                                          target_topics  \\\n",
       "0     {\"name\": \"MATH 226 - Calculus I\", \"discipline\"...   \n",
       "1     {\"name\": \"MATH 226 - Calculus I\", \"discipline\"...   \n",
       "2     {\"name\": \"MATH 226 - Calculus I\", \"discipline\"...   \n",
       "3     {\"name\": \"MATH 226 - Calculus I\", \"discipline\"...   \n",
       "4     {\"name\": \"MATH 226 - Calculus I\", \"discipline\"...   \n",
       "...                                                 ...   \n",
       "8514  ```\\n{\\n  \"name\": \"CS 51\",\\n  \"discipline\": \"C...   \n",
       "8515  {\"name\": \"CIS020\", \"discipline\": \"Computer Sci...   \n",
       "8516  {\"name\": \"CIS020\", \"discipline\": \"Computer Sci...   \n",
       "8517  ```\\n{\\n  \"name\": \"Computer Assembly Language\"...   \n",
       "8518  ```\\n{\\n  \"name\": \"Introduction to Assembly La...   \n",
       "\n",
       "                                          source_topics  label  \n",
       "0     ```\\n{\\n  \"name\": \"MATH 3A - Calculus I\",\\n  \"...      1  \n",
       "1     ```\\n{\\n  \"name\": \"MATH 109 - Calculus I\",\\n  ...      1  \n",
       "2     ```\\n{\\n  \"name\": \"MAT 1140 - Calculus I\",\\n  ...      1  \n",
       "3     {\"name\": \"MATH 141 - Calculus I\", \"discipline\"...      1  \n",
       "4     ```\\n{\\n  \"name\": \"MATH 150 - Calculus I\",\\n  ...      1  \n",
       "...                                                 ...    ...  \n",
       "8514  ```\\n{\\n  \"name\": \"CSCI 190  Discrete Mathemat...      0  \n",
       "8515  ```\\n{\\n  \"name\": \"COMP 256 - Discrete Structu...      0  \n",
       "8516  {\"name\": \"MATH 170A - Mathematical Structures ...      0  \n",
       "8517  {\"name\": \"MATH 1410 - Calculus I\", \"discipline...      0  \n",
       "8518  {\"name\": \"MATH 1A - CALCULUS\", \"discipline\": \"...      0  \n",
       "\n",
       "[8519 rows x 5 columns]"
      ]
     },
     "execution_count": 147,
     "metadata": {},
     "output_type": "execute_result"
    }
   ],
   "source": [
    "df_eval"
   ]
  },
  {
   "cell_type": "code",
   "execution_count": 145,
   "metadata": {},
   "outputs": [
    {
     "data": {
      "text/plain": [
       "8514    CS 51  (C-ID COMP 142)         3 units  \\nIntr...\n",
       "8515    CIS020:\\n\\n3.0 Units\\nPrint\\nDescription:\\n\\nA...\n",
       "8516    CIS020:\\n\\n3.0 Units\\nPrint\\nDescription:\\n\\nA...\n",
       "8517    COMSC-2 3 UNITS\\nComputer Assembly Language\\nT...\n",
       "8518    Introduction to Assembly Language Programming\\...\n",
       "Name: target_raw, dtype: object"
      ]
     },
     "execution_count": 145,
     "metadata": {},
     "output_type": "execute_result"
    }
   ],
   "source": [
    "df_eval.iloc[-5:,0]"
   ]
  },
  {
   "cell_type": "code",
   "execution_count": 146,
   "metadata": {},
   "outputs": [
    {
     "data": {
      "text/plain": [
       "8514    CSCI 190  Discrete Mathematics Applied to Comp...\n",
       "8515    COMP 256 - Discrete Structures for Computer Sc...\n",
       "8516    MATH 170A - Mathematical Structures I\\n3 Units...\n",
       "8517    MATH 1410 - Calculus I\\n4 Units\\n\\nInequalitie...\n",
       "8518    MATH 1A - CALCULUS\\n5 Units\\n\\nPrerequisite:  ...\n",
       "Name: source_raw, dtype: object"
      ]
     },
     "execution_count": 146,
     "metadata": {},
     "output_type": "execute_result"
    }
   ],
   "source": [
    "df_eval.iloc[-5:,1]"
   ]
  },
  {
   "cell_type": "code",
   "execution_count": null,
   "metadata": {},
   "outputs": [],
   "source": [
    "with open('../data/df_eval.pkl', 'wb') as f:\n",
    "    dill.dump(df_eval, f)\n",
    "\n",
    "# with open('../data/df_eval.pkl', 'rb') as f:\n",
    "#     df_eval = dill.load(f)"
   ]
  },
  {
   "cell_type": "markdown",
   "metadata": {},
   "source": [
    "# Baseline Equivalency\n",
    "\n",
    "Equivalency assessed from raw course description text"
   ]
  },
  {
   "cell_type": "markdown",
   "metadata": {},
   "source": [
    "## Single pair of courses assessment"
   ]
  },
  {
   "cell_type": "code",
   "execution_count": 164,
   "metadata": {},
   "outputs": [],
   "source": [
    "# Prompt Template for Course Equivalency prediction\n",
    "\n",
    "equiv_prompt_template = \"\"\"\n",
    "Determine whether the two \\\n",
    "following courses are equivalent. For course equivalency, respond with 'true' \\\n",
    "or 'false'.\\n\n",
    "{format_instructions}\\n\n",
    "Course 1:\\n```{course1_desc}```\\n\n",
    "Course 2:\\n```{course2_desc}```\n",
    "\"\"\""
   ]
  },
  {
   "cell_type": "code",
   "execution_count": 165,
   "metadata": {},
   "outputs": [],
   "source": [
    "from typing import Literal\n",
    "\n",
    "class Equivalency(BaseModel):\n",
    "    # courses: list[str] = Field(description=\"subject of the two courses to be evaluated\")\n",
    "    isEquiv: bool = Field(description=\"equivalency prediction\")\n",
    "\n",
    "equiv_parser = PydanticOutputParser(pydantic_object=Equivalency)\n",
    "\n",
    "equiv_prompt = PromptTemplate(\n",
    "    template=equiv_prompt_template,\n",
    "    input_variables=[\"course1_desc\", \"course2_desc\"],\n",
    "    partial_variables={\"format_instructions\": equiv_parser.get_format_instructions()}\n",
    ")"
   ]
  },
  {
   "cell_type": "code",
   "execution_count": 191,
   "metadata": {},
   "outputs": [
    {
     "data": {
      "text/plain": [
       "'MATH 226 - Calculus I\\n4 Units\\n\\nGraphs. Differentiation: theory, techniques, and applications. Integration: Fundamental Theorem of Calculus and applications. Transcendental functions.'"
      ]
     },
     "execution_count": 191,
     "metadata": {},
     "output_type": "execute_result"
    }
   ],
   "source": [
    "df.iloc[0,0]"
   ]
  },
  {
   "cell_type": "code",
   "execution_count": 192,
   "metadata": {},
   "outputs": [
    {
     "name": "stdout",
     "output_type": "stream",
     "text": [
      "CSC 230 - Discrete Mathematical Structures for Computer Science\n",
      "3 Units\n",
      "\n",
      "Review of set algebra, relations and functions, permutations, propositional logic, proof techniques, introduction to graph theory, and infinite sets, and their applications to computer science. \n",
      "\n",
      " MATH 253 - Discrete Mathematics\n",
      "3 Units, 3 Lecture Hours\n",
      "Prerequisites: MATH 101T (C), or MATH 102 and CS 111\n",
      "\n",
      "Sets, functions, relations, algorithms, induction, recursion, combinatorics, graphs, trees, and propositional logic. \n",
      "\n",
      " MATH 253 - Discrete Mathematics\n",
      "3 Units, 3 Lecture Hours\n",
      "\n",
      "Sets, functions, relations, algorithms, induction, differentiation, integration, and transcentental functions.\n"
     ]
    }
   ],
   "source": [
    "course1_desc = df.iloc[0,4]\n",
    "course2_desc = df.iloc[2,4]\n",
    "course3_desc = \"\\n\".join(course2_desc.split(\"\\n\")[0:2]) + \"\"\"\\\n",
    "\\n\\nSets, functions, relations, algorithms, induction, \\\n",
    "differentiation, integration, and transcentental functions.\"\"\"\n",
    "# + \"\\n\\nSets, relations, induction, algorithms, differentiation, and limits.\"\n",
    "print(course1_desc, \"\\n\\n\", course2_desc, \"\\n\\n\", course3_desc)"
   ]
  },
  {
   "cell_type": "code",
   "execution_count": 195,
   "metadata": {},
   "outputs": [
    {
     "name": "stdout",
     "output_type": "stream",
     "text": [
      "\n",
      "Determine whether the two following courses are equivalent. For course equivalency, respond with 'true' or 'false'.\n",
      "\n",
      "The output should be formatted as a JSON instance that conforms to the JSON schema below.\n",
      "\n",
      "As an example, for the schema {\"properties\": {\"foo\": {\"title\": \"Foo\", \"description\": \"a list of strings\", \"type\": \"array\", \"items\": {\"type\": \"string\"}}}, \"required\": [\"foo\"]}\n",
      "the object {\"foo\": [\"bar\", \"baz\"]} is a well-formatted instance of the schema. The object {\"properties\": {\"foo\": [\"bar\", \"baz\"]}} is not well-formatted.\n",
      "\n",
      "Here is the output schema:\n",
      "```\n",
      "{\"properties\": {\"isEquiv\": {\"title\": \"Isequiv\", \"description\": \"equivalency prediction\", \"type\": \"boolean\"}}, \"required\": [\"isEquiv\"]}\n",
      "```\n",
      "\n",
      "Course 1:\n",
      "```CSC 230 - Discrete Mathematical Structures for Computer Science\n",
      "3 Units\n",
      "\n",
      "Review of set algebra, relations and functions, permutations, propositional logic, proof techniques, introduction to graph theory, and infinite sets, and their applications to computer science.```\n",
      "\n",
      "Course 2:\n",
      "```MATH 253 - Discrete Mathematics\n",
      "3 Units, 3 Lecture Hours\n",
      "Prerequisites: MATH 101T (C), or MATH 102 and CS 111\n",
      "\n",
      "Sets, functions, relations, algorithms, induction, recursion, combinatorics, graphs, trees, and propositional logic.```\n",
      "\n"
     ]
    }
   ],
   "source": [
    "_input = equiv_prompt.format_prompt(course1_desc=course1_desc, course2_desc=course2_desc)\n",
    "print(_input.to_string())"
   ]
  },
  {
   "cell_type": "code",
   "execution_count": 196,
   "metadata": {},
   "outputs": [
    {
     "data": {
      "text/plain": [
       "'{\"isEquiv\": true}'"
      ]
     },
     "execution_count": 196,
     "metadata": {},
     "output_type": "execute_result"
    }
   ],
   "source": [
    "equiv_output_palm = palm(_input.to_string())\n",
    "equiv_output_palm"
   ]
  },
  {
   "cell_type": "code",
   "execution_count": 197,
   "metadata": {},
   "outputs": [
    {
     "data": {
      "text/plain": [
       "Equivalency(isEquiv=True)"
      ]
     },
     "execution_count": 197,
     "metadata": {},
     "output_type": "execute_result"
    }
   ],
   "source": [
    "equiv_data_palm = equiv_parser.parse(equiv_output_palm)\n",
    "equiv_data_palm"
   ]
  },
  {
   "cell_type": "markdown",
   "metadata": {},
   "source": [
    "## Pairwise Equivalency Assessment using Raw Text (FULL DATASET)"
   ]
  },
  {
   "cell_type": "code",
   "execution_count": 12,
   "metadata": {},
   "outputs": [],
   "source": [
    "with open(\"../data/prediction_df.pkl\", \"rb\") as f:\n",
    "    df_eval = dill.load(f)"
   ]
  },
  {
   "cell_type": "code",
   "execution_count": 27,
   "metadata": {},
   "outputs": [
    {
     "data": {
      "text/html": [
       "<div>\n",
       "<style scoped>\n",
       "    .dataframe tbody tr th:only-of-type {\n",
       "        vertical-align: middle;\n",
       "    }\n",
       "\n",
       "    .dataframe tbody tr th {\n",
       "        vertical-align: top;\n",
       "    }\n",
       "\n",
       "    .dataframe thead th {\n",
       "        text-align: right;\n",
       "    }\n",
       "</style>\n",
       "<table border=\"1\" class=\"dataframe\">\n",
       "  <thead>\n",
       "    <tr style=\"text-align: right;\">\n",
       "      <th></th>\n",
       "      <th>MATH226 eqv</th>\n",
       "      <th>MATH226 mult eqv</th>\n",
       "      <th>MATH226 alt eqv</th>\n",
       "      <th>MATH226 alt mult eqv</th>\n",
       "      <th>CSC230 eqv</th>\n",
       "      <th>CSC230 alt eqv</th>\n",
       "      <th>CSC256 eqv</th>\n",
       "      <th>CSC256 multipleEqv</th>\n",
       "      <th>MATH226 eqv data</th>\n",
       "      <th>MATH226 mult eqv data</th>\n",
       "      <th>MATH226 alt eqv data</th>\n",
       "      <th>MATH226 alt mult eqv data</th>\n",
       "      <th>CSC230 eqv data</th>\n",
       "      <th>CSC230 alt eqv data</th>\n",
       "      <th>CSC256 eqv data</th>\n",
       "      <th>CSC256 multipleEqv data</th>\n",
       "    </tr>\n",
       "    <tr>\n",
       "      <th>School</th>\n",
       "      <th></th>\n",
       "      <th></th>\n",
       "      <th></th>\n",
       "      <th></th>\n",
       "      <th></th>\n",
       "      <th></th>\n",
       "      <th></th>\n",
       "      <th></th>\n",
       "      <th></th>\n",
       "      <th></th>\n",
       "      <th></th>\n",
       "      <th></th>\n",
       "      <th></th>\n",
       "      <th></th>\n",
       "      <th></th>\n",
       "      <th></th>\n",
       "    </tr>\n",
       "  </thead>\n",
       "  <tbody>\n",
       "    <tr>\n",
       "      <th>SFSU</th>\n",
       "      <td>MATH 226 - Calculus I\\n4 Units\\n\\nGraphs. Diff...</td>\n",
       "      <td>NaN</td>\n",
       "      <td>NaN</td>\n",
       "      <td>NaN</td>\n",
       "      <td>CSC 230 - Discrete Mathematical Structures for...</td>\n",
       "      <td>NaN</td>\n",
       "      <td>CSC 256 - Machine Structures\\n3 Units\\n\\nDigit...</td>\n",
       "      <td>NaN</td>\n",
       "      <td>{\"name\": \"MATH 226 - Calculus I\", \"discipline\"...</td>\n",
       "      <td>NaN</td>\n",
       "      <td>NaN</td>\n",
       "      <td>NaN</td>\n",
       "      <td>{\"name\": \"CSC 230 - Discrete Mathematical Stru...</td>\n",
       "      <td>NaN</td>\n",
       "      <td>```\\n{\\n  \"name\": \"CSC 256 - Machine Structure...</td>\n",
       "      <td>NaN</td>\n",
       "    </tr>\n",
       "    <tr>\n",
       "      <th>Berkeley City College</th>\n",
       "      <td>MATH 3A - Calculus I\\n5 Units, 5 lecture hours...</td>\n",
       "      <td>NaN</td>\n",
       "      <td>NaN</td>\n",
       "      <td>NaN</td>\n",
       "      <td>MATH 11 - Discrete Mathematics\\n4 units\\n\\nN/A</td>\n",
       "      <td>NaN</td>\n",
       "      <td>CIS 20: Microcomputer Assembly Language\\n4 Uni...</td>\n",
       "      <td>NaN</td>\n",
       "      <td>```\\n{\\n  \"name\": \"MATH 3A - Calculus I\",\\n  \"...</td>\n",
       "      <td>NaN</td>\n",
       "      <td>NaN</td>\n",
       "      <td>NaN</td>\n",
       "      <td>{\"name\": \"MATH 11 - Discrete Mathematics\", \"di...</td>\n",
       "      <td>NaN</td>\n",
       "      <td>```\\n{\\n  \"name\": \"CIS 20: Microcomputer Assem...</td>\n",
       "      <td>NaN</td>\n",
       "    </tr>\n",
       "    <tr>\n",
       "      <th>California Polytechnic State University, Humboldt</th>\n",
       "      <td>MATH 109 - Calculus I\\n4 Units, 4 Lecture hour...</td>\n",
       "      <td>NaN</td>\n",
       "      <td>NaN</td>\n",
       "      <td>NaN</td>\n",
       "      <td>MATH 253 - Discrete Mathematics\\n3 Units, 3 Le...</td>\n",
       "      <td>NaN</td>\n",
       "      <td>NaN</td>\n",
       "      <td>NaN</td>\n",
       "      <td>```\\n{\\n  \"name\": \"MATH 109 - Calculus I\",\\n  ...</td>\n",
       "      <td>NaN</td>\n",
       "      <td>NaN</td>\n",
       "      <td>NaN</td>\n",
       "      <td>```\\n{\\n  \"name\": \"MATH 253 - Discrete Mathema...</td>\n",
       "      <td>NaN</td>\n",
       "      <td>NaN</td>\n",
       "      <td>NaN</td>\n",
       "    </tr>\n",
       "    <tr>\n",
       "      <th>California Polytechnic State University, Pomona</th>\n",
       "      <td>MAT 1140 - Calculus I\\n4 Units\\nPrerequisites:...</td>\n",
       "      <td>NaN</td>\n",
       "      <td>NaN</td>\n",
       "      <td>NaN</td>\n",
       "      <td>CS 1300 - Discrete Structures\\n4 Units\\nPrereq...</td>\n",
       "      <td>NaN</td>\n",
       "      <td>CS 2640 - Computer Organization and Assembly P...</td>\n",
       "      <td>NaN</td>\n",
       "      <td>```\\n{\\n  \"name\": \"MAT 1140 - Calculus I\",\\n  ...</td>\n",
       "      <td>NaN</td>\n",
       "      <td>NaN</td>\n",
       "      <td>NaN</td>\n",
       "      <td>```\\n{\\n  \"name\": \"CS 1300 - Discrete Structur...</td>\n",
       "      <td>NaN</td>\n",
       "      <td>```\\n{\\n  \"name\": \"CS 2640 - Computer Organiza...</td>\n",
       "      <td>NaN</td>\n",
       "    </tr>\n",
       "    <tr>\n",
       "      <th>California Polytechnic State University, San Luis Obispo</th>\n",
       "      <td>MATH 141 - Calculus I\\n4 Units\\nGE Area B1\\nPr...</td>\n",
       "      <td>MATH 142 - Calculus II\\n4 units\\nGE Area B1\\nP...</td>\n",
       "      <td>HNRS 141 - Calculus I \\n4 Units \\nPrerequisite...</td>\n",
       "      <td>HNRS 142 - Calculus II \\n4 units\\nPrerequisite...</td>\n",
       "      <td>NaN</td>\n",
       "      <td>NaN</td>\n",
       "      <td>NaN</td>\n",
       "      <td>NaN</td>\n",
       "      <td>{\"name\": \"MATH 141 - Calculus I\", \"discipline\"...</td>\n",
       "      <td>```\\n{\\n  \"name\": \"MATH 142 - Calculus II\",\\n ...</td>\n",
       "      <td>```\\n{\\n  \"name\": \"HNRS 141 - Calculus I\",\\n  ...</td>\n",
       "      <td>```\\n{\\n  \"name\": \"HNRS 142 - Calculus II\",\\n ...</td>\n",
       "      <td>NaN</td>\n",
       "      <td>NaN</td>\n",
       "      <td>NaN</td>\n",
       "      <td>NaN</td>\n",
       "    </tr>\n",
       "  </tbody>\n",
       "</table>\n",
       "</div>"
      ],
      "text/plain": [
       "                                                                                          MATH226 eqv  \\\n",
       "School                                                                                                  \n",
       "SFSU                                                MATH 226 - Calculus I\\n4 Units\\n\\nGraphs. Diff...   \n",
       "Berkeley City College                               MATH 3A - Calculus I\\n5 Units, 5 lecture hours...   \n",
       "California Polytechnic State University, Humboldt   MATH 109 - Calculus I\\n4 Units, 4 Lecture hour...   \n",
       "California Polytechnic State University, Pomona     MAT 1140 - Calculus I\\n4 Units\\nPrerequisites:...   \n",
       "California Polytechnic State University, San Lu...  MATH 141 - Calculus I\\n4 Units\\nGE Area B1\\nPr...   \n",
       "\n",
       "                                                                                     MATH226 mult eqv  \\\n",
       "School                                                                                                  \n",
       "SFSU                                                                                              NaN   \n",
       "Berkeley City College                                                                             NaN   \n",
       "California Polytechnic State University, Humboldt                                                 NaN   \n",
       "California Polytechnic State University, Pomona                                                   NaN   \n",
       "California Polytechnic State University, San Lu...  MATH 142 - Calculus II\\n4 units\\nGE Area B1\\nP...   \n",
       "\n",
       "                                                                                      MATH226 alt eqv  \\\n",
       "School                                                                                                  \n",
       "SFSU                                                                                              NaN   \n",
       "Berkeley City College                                                                             NaN   \n",
       "California Polytechnic State University, Humboldt                                                 NaN   \n",
       "California Polytechnic State University, Pomona                                                   NaN   \n",
       "California Polytechnic State University, San Lu...  HNRS 141 - Calculus I \\n4 Units \\nPrerequisite...   \n",
       "\n",
       "                                                                                 MATH226 alt mult eqv  \\\n",
       "School                                                                                                  \n",
       "SFSU                                                                                              NaN   \n",
       "Berkeley City College                                                                             NaN   \n",
       "California Polytechnic State University, Humboldt                                                 NaN   \n",
       "California Polytechnic State University, Pomona                                                   NaN   \n",
       "California Polytechnic State University, San Lu...  HNRS 142 - Calculus II \\n4 units\\nPrerequisite...   \n",
       "\n",
       "                                                                                           CSC230 eqv  \\\n",
       "School                                                                                                  \n",
       "SFSU                                                CSC 230 - Discrete Mathematical Structures for...   \n",
       "Berkeley City College                                  MATH 11 - Discrete Mathematics\\n4 units\\n\\nN/A   \n",
       "California Polytechnic State University, Humboldt   MATH 253 - Discrete Mathematics\\n3 Units, 3 Le...   \n",
       "California Polytechnic State University, Pomona     CS 1300 - Discrete Structures\\n4 Units\\nPrereq...   \n",
       "California Polytechnic State University, San Lu...                                                NaN   \n",
       "\n",
       "                                                   CSC230 alt eqv  \\\n",
       "School                                                              \n",
       "SFSU                                                          NaN   \n",
       "Berkeley City College                                         NaN   \n",
       "California Polytechnic State University, Humboldt             NaN   \n",
       "California Polytechnic State University, Pomona               NaN   \n",
       "California Polytechnic State University, San Lu...            NaN   \n",
       "\n",
       "                                                                                           CSC256 eqv  \\\n",
       "School                                                                                                  \n",
       "SFSU                                                CSC 256 - Machine Structures\\n3 Units\\n\\nDigit...   \n",
       "Berkeley City College                               CIS 20: Microcomputer Assembly Language\\n4 Uni...   \n",
       "California Polytechnic State University, Humboldt                                                 NaN   \n",
       "California Polytechnic State University, Pomona     CS 2640 - Computer Organization and Assembly P...   \n",
       "California Polytechnic State University, San Lu...                                                NaN   \n",
       "\n",
       "                                                   CSC256 multipleEqv  \\\n",
       "School                                                                  \n",
       "SFSU                                                              NaN   \n",
       "Berkeley City College                                             NaN   \n",
       "California Polytechnic State University, Humboldt                 NaN   \n",
       "California Polytechnic State University, Pomona                   NaN   \n",
       "California Polytechnic State University, San Lu...                NaN   \n",
       "\n",
       "                                                                                     MATH226 eqv data  \\\n",
       "School                                                                                                  \n",
       "SFSU                                                {\"name\": \"MATH 226 - Calculus I\", \"discipline\"...   \n",
       "Berkeley City College                               ```\\n{\\n  \"name\": \"MATH 3A - Calculus I\",\\n  \"...   \n",
       "California Polytechnic State University, Humboldt   ```\\n{\\n  \"name\": \"MATH 109 - Calculus I\",\\n  ...   \n",
       "California Polytechnic State University, Pomona     ```\\n{\\n  \"name\": \"MAT 1140 - Calculus I\",\\n  ...   \n",
       "California Polytechnic State University, San Lu...  {\"name\": \"MATH 141 - Calculus I\", \"discipline\"...   \n",
       "\n",
       "                                                                                MATH226 mult eqv data  \\\n",
       "School                                                                                                  \n",
       "SFSU                                                                                              NaN   \n",
       "Berkeley City College                                                                             NaN   \n",
       "California Polytechnic State University, Humboldt                                                 NaN   \n",
       "California Polytechnic State University, Pomona                                                   NaN   \n",
       "California Polytechnic State University, San Lu...  ```\\n{\\n  \"name\": \"MATH 142 - Calculus II\",\\n ...   \n",
       "\n",
       "                                                                                 MATH226 alt eqv data  \\\n",
       "School                                                                                                  \n",
       "SFSU                                                                                              NaN   \n",
       "Berkeley City College                                                                             NaN   \n",
       "California Polytechnic State University, Humboldt                                                 NaN   \n",
       "California Polytechnic State University, Pomona                                                   NaN   \n",
       "California Polytechnic State University, San Lu...  ```\\n{\\n  \"name\": \"HNRS 141 - Calculus I\",\\n  ...   \n",
       "\n",
       "                                                                            MATH226 alt mult eqv data  \\\n",
       "School                                                                                                  \n",
       "SFSU                                                                                              NaN   \n",
       "Berkeley City College                                                                             NaN   \n",
       "California Polytechnic State University, Humboldt                                                 NaN   \n",
       "California Polytechnic State University, Pomona                                                   NaN   \n",
       "California Polytechnic State University, San Lu...  ```\\n{\\n  \"name\": \"HNRS 142 - Calculus II\",\\n ...   \n",
       "\n",
       "                                                                                      CSC230 eqv data  \\\n",
       "School                                                                                                  \n",
       "SFSU                                                {\"name\": \"CSC 230 - Discrete Mathematical Stru...   \n",
       "Berkeley City College                               {\"name\": \"MATH 11 - Discrete Mathematics\", \"di...   \n",
       "California Polytechnic State University, Humboldt   ```\\n{\\n  \"name\": \"MATH 253 - Discrete Mathema...   \n",
       "California Polytechnic State University, Pomona     ```\\n{\\n  \"name\": \"CS 1300 - Discrete Structur...   \n",
       "California Polytechnic State University, San Lu...                                                NaN   \n",
       "\n",
       "                                                   CSC230 alt eqv data  \\\n",
       "School                                                                   \n",
       "SFSU                                                               NaN   \n",
       "Berkeley City College                                              NaN   \n",
       "California Polytechnic State University, Humboldt                  NaN   \n",
       "California Polytechnic State University, Pomona                    NaN   \n",
       "California Polytechnic State University, San Lu...                 NaN   \n",
       "\n",
       "                                                                                      CSC256 eqv data  \\\n",
       "School                                                                                                  \n",
       "SFSU                                                ```\\n{\\n  \"name\": \"CSC 256 - Machine Structure...   \n",
       "Berkeley City College                               ```\\n{\\n  \"name\": \"CIS 20: Microcomputer Assem...   \n",
       "California Polytechnic State University, Humboldt                                                 NaN   \n",
       "California Polytechnic State University, Pomona     ```\\n{\\n  \"name\": \"CS 2640 - Computer Organiza...   \n",
       "California Polytechnic State University, San Lu...                                                NaN   \n",
       "\n",
       "                                                   CSC256 multipleEqv data  \n",
       "School                                                                      \n",
       "SFSU                                                                   NaN  \n",
       "Berkeley City College                                                  NaN  \n",
       "California Polytechnic State University, Humboldt                      NaN  \n",
       "California Polytechnic State University, Pomona                        NaN  \n",
       "California Polytechnic State University, San Lu...                     NaN  "
      ]
     },
     "execution_count": 27,
     "metadata": {},
     "output_type": "execute_result"
    }
   ],
   "source": [
    "df2.head()"
   ]
  },
  {
   "cell_type": "code",
   "execution_count": 30,
   "metadata": {},
   "outputs": [
    {
     "name": "stdout",
     "output_type": "stream",
     "text": [
      "MATH 60\n",
      "MATH 3A\n",
      "MATH-120\n",
      "MATH 071\n",
      "MATH 7\n",
      "MATH020\n",
      "MATH-1A\n",
      "Total: 62\n",
      "Short: 7\n"
     ]
    }
   ],
   "source": [
    "short = 0\n",
    "tot = 0\n",
    "for e in df2[\"MATH226 eqv data\"]:\n",
    "    if type(e) != float:\n",
    "        a = course_parser.parse(e).name\n",
    "        tot += 1\n",
    "        if len(a) < 10:\n",
    "            print(a)\n",
    "            short += 1\n",
    "print(f\"Total: {tot}\")\n",
    "print(f\"Short: {short}\")"
   ]
  },
  {
   "cell_type": "code",
   "execution_count": 13,
   "metadata": {},
   "outputs": [
    {
     "data": {
      "text/plain": [
       "8519"
      ]
     },
     "execution_count": 13,
     "metadata": {},
     "output_type": "execute_result"
    }
   ],
   "source": [
    "len(df_eval)"
   ]
  },
  {
   "cell_type": "code",
   "execution_count": 151,
   "metadata": {},
   "outputs": [],
   "source": [
    "def isEquivRaw(target, source):\n",
    "    _input = equiv_prompt.format_prompt(course1_desc=target, course2_desc=source)\n",
    "    # print(_input.to_string())\n",
    "    res = palm(_input.to_string())\n",
    "    # print(f\"Response: {res}\")\n",
    "    res = equiv_parser.parse(res)\n",
    "    # print(f\"Parsed Response: {res.isEquiv}\")\n",
    "    if res.isEquiv == True:\n",
    "        return 1\n",
    "    else:\n",
    "        return 0"
   ]
  },
  {
   "cell_type": "code",
   "execution_count": 172,
   "metadata": {},
   "outputs": [],
   "source": [
    "def process_raw(df_eval: pd.DataFrame, preds: list):\n",
    "    import time\n",
    "    if preds:\n",
    "        start = len(preds)\n",
    "    else:\n",
    "        start = 0\n",
    "    step = int(len(df_eval)/50)\n",
    "    for i in tqdm(range(start,len(df_eval), step), desc=\"Total Progress\", position=0):\n",
    "        if i + step < len(df_eval):\n",
    "            preds.extend(list(map(isEquivRaw, tqdm(df_eval.iloc[i:i+step,0], desc=f\"Batch Progress: {int((i-start+step)/170)}\", position=1, leave=True), df_eval.iloc[i:i+step,1])))\n",
    "            # print(f\"Saving Progress: {i+step}\")\n",
    "            with open(f\"../data/chunks/raw_text/preds_raw_0-{i+step}.pkl\", \"wb\") as f:\n",
    "                dill.dump(preds, f)\n",
    "            time.sleep(30)\n",
    "        else:\n",
    "            preds.extend(list(map(isEquivRaw, tqdm(df_eval.iloc[i:,0], desc=f\"Batch Progress: {int((len(df_eval)-start)/170)+1}\", position=1, leave=True), df_eval.iloc[i:,1])))\n",
    "            with open(f\"../data/chunks/raw_text/preds_raw_final.pkl\", \"wb\") as f:\n",
    "                dill.dump(preds, f)\n",
    "            print(\"Finished\")"
   ]
  },
  {
   "cell_type": "code",
   "execution_count": 13,
   "metadata": {},
   "outputs": [
    {
     "data": {
      "text/html": [
       "<div>\n",
       "<style scoped>\n",
       "    .dataframe tbody tr th:only-of-type {\n",
       "        vertical-align: middle;\n",
       "    }\n",
       "\n",
       "    .dataframe tbody tr th {\n",
       "        vertical-align: top;\n",
       "    }\n",
       "\n",
       "    .dataframe thead th {\n",
       "        text-align: right;\n",
       "    }\n",
       "</style>\n",
       "<table border=\"1\" class=\"dataframe\">\n",
       "  <thead>\n",
       "    <tr style=\"text-align: right;\">\n",
       "      <th></th>\n",
       "      <th>target_raw</th>\n",
       "      <th>source_raw</th>\n",
       "      <th>target_topics</th>\n",
       "      <th>source_topics</th>\n",
       "      <th>label</th>\n",
       "      <th>preds_raw</th>\n",
       "      <th>pred_topics</th>\n",
       "    </tr>\n",
       "  </thead>\n",
       "  <tbody>\n",
       "    <tr>\n",
       "      <th>0</th>\n",
       "      <td>MATH 226 - Calculus I\\n4 Units\\n\\nGraphs. Diff...</td>\n",
       "      <td>MATH 3A - Calculus I\\n5 Units, 5 lecture hours...</td>\n",
       "      <td>{\"name\": \"MATH 226 - Calculus I\", \"discipline\"...</td>\n",
       "      <td>```\\n{\\n  \"name\": \"MATH 3A - Calculus I\",\\n  \"...</td>\n",
       "      <td>1</td>\n",
       "      <td>1</td>\n",
       "      <td>0</td>\n",
       "    </tr>\n",
       "    <tr>\n",
       "      <th>1</th>\n",
       "      <td>MATH 226 - Calculus I\\n4 Units\\n\\nGraphs. Diff...</td>\n",
       "      <td>MATH 109 - Calculus I\\n4 Units, 4 Lecture hour...</td>\n",
       "      <td>{\"name\": \"MATH 226 - Calculus I\", \"discipline\"...</td>\n",
       "      <td>```\\n{\\n  \"name\": \"MATH 109 - Calculus I\",\\n  ...</td>\n",
       "      <td>1</td>\n",
       "      <td>1</td>\n",
       "      <td>1</td>\n",
       "    </tr>\n",
       "    <tr>\n",
       "      <th>2</th>\n",
       "      <td>MATH 226 - Calculus I\\n4 Units\\n\\nGraphs. Diff...</td>\n",
       "      <td>MAT 1140 - Calculus I\\n4 Units\\nPrerequisites:...</td>\n",
       "      <td>{\"name\": \"MATH 226 - Calculus I\", \"discipline\"...</td>\n",
       "      <td>```\\n{\\n  \"name\": \"MAT 1140 - Calculus I\",\\n  ...</td>\n",
       "      <td>1</td>\n",
       "      <td>1</td>\n",
       "      <td>0</td>\n",
       "    </tr>\n",
       "    <tr>\n",
       "      <th>3</th>\n",
       "      <td>MATH 226 - Calculus I\\n4 Units\\n\\nGraphs. Diff...</td>\n",
       "      <td>MATH 141 - Calculus I\\n4 Units\\nGE Area B1\\nPr...</td>\n",
       "      <td>{\"name\": \"MATH 226 - Calculus I\", \"discipline\"...</td>\n",
       "      <td>{\"name\": \"MATH 141 - Calculus I\", \"discipline\"...</td>\n",
       "      <td>1</td>\n",
       "      <td>1</td>\n",
       "      <td>1</td>\n",
       "    </tr>\n",
       "    <tr>\n",
       "      <th>4</th>\n",
       "      <td>MATH 226 - Calculus I\\n4 Units\\n\\nGraphs. Diff...</td>\n",
       "      <td>MATH 150 - Calculus I\\n4 Units\\nFour hours lec...</td>\n",
       "      <td>{\"name\": \"MATH 226 - Calculus I\", \"discipline\"...</td>\n",
       "      <td>```\\n{\\n  \"name\": \"MATH 150 - Calculus I\",\\n  ...</td>\n",
       "      <td>1</td>\n",
       "      <td>1</td>\n",
       "      <td>1</td>\n",
       "    </tr>\n",
       "  </tbody>\n",
       "</table>\n",
       "</div>"
      ],
      "text/plain": [
       "                                          target_raw  \\\n",
       "0  MATH 226 - Calculus I\\n4 Units\\n\\nGraphs. Diff...   \n",
       "1  MATH 226 - Calculus I\\n4 Units\\n\\nGraphs. Diff...   \n",
       "2  MATH 226 - Calculus I\\n4 Units\\n\\nGraphs. Diff...   \n",
       "3  MATH 226 - Calculus I\\n4 Units\\n\\nGraphs. Diff...   \n",
       "4  MATH 226 - Calculus I\\n4 Units\\n\\nGraphs. Diff...   \n",
       "\n",
       "                                          source_raw  \\\n",
       "0  MATH 3A - Calculus I\\n5 Units, 5 lecture hours...   \n",
       "1  MATH 109 - Calculus I\\n4 Units, 4 Lecture hour...   \n",
       "2  MAT 1140 - Calculus I\\n4 Units\\nPrerequisites:...   \n",
       "3  MATH 141 - Calculus I\\n4 Units\\nGE Area B1\\nPr...   \n",
       "4  MATH 150 - Calculus I\\n4 Units\\nFour hours lec...   \n",
       "\n",
       "                                       target_topics  \\\n",
       "0  {\"name\": \"MATH 226 - Calculus I\", \"discipline\"...   \n",
       "1  {\"name\": \"MATH 226 - Calculus I\", \"discipline\"...   \n",
       "2  {\"name\": \"MATH 226 - Calculus I\", \"discipline\"...   \n",
       "3  {\"name\": \"MATH 226 - Calculus I\", \"discipline\"...   \n",
       "4  {\"name\": \"MATH 226 - Calculus I\", \"discipline\"...   \n",
       "\n",
       "                                       source_topics  label  preds_raw  \\\n",
       "0  ```\\n{\\n  \"name\": \"MATH 3A - Calculus I\",\\n  \"...      1          1   \n",
       "1  ```\\n{\\n  \"name\": \"MATH 109 - Calculus I\",\\n  ...      1          1   \n",
       "2  ```\\n{\\n  \"name\": \"MAT 1140 - Calculus I\",\\n  ...      1          1   \n",
       "3  {\"name\": \"MATH 141 - Calculus I\", \"discipline\"...      1          1   \n",
       "4  ```\\n{\\n  \"name\": \"MATH 150 - Calculus I\",\\n  ...      1          1   \n",
       "\n",
       "   pred_topics  \n",
       "0            0  \n",
       "1            1  \n",
       "2            0  \n",
       "3            1  \n",
       "4            1  "
      ]
     },
     "execution_count": 13,
     "metadata": {},
     "output_type": "execute_result"
    }
   ],
   "source": [
    "df_eval.head()"
   ]
  },
  {
   "cell_type": "code",
   "execution_count": 173,
   "metadata": {},
   "outputs": [
    {
     "data": {
      "text/plain": [
       "7820"
      ]
     },
     "execution_count": 173,
     "metadata": {},
     "output_type": "execute_result"
    }
   ],
   "source": [
    "len(preds_raw)"
   ]
  },
  {
   "cell_type": "code",
   "execution_count": 174,
   "metadata": {},
   "outputs": [
    {
     "data": {
      "application/vnd.jupyter.widget-view+json": {
       "model_id": "16ca7a886ce746afa750d052415c3e09",
       "version_major": 2,
       "version_minor": 0
      },
      "text/plain": [
       "Total Progress:   0%|          | 0/5 [00:00<?, ?it/s]"
      ]
     },
     "metadata": {},
     "output_type": "display_data"
    },
    {
     "data": {
      "application/vnd.jupyter.widget-view+json": {
       "model_id": "833e312c9e7e4b9d8a824036be49e148",
       "version_major": 2,
       "version_minor": 0
      },
      "text/plain": [
       "Batch Progress: 1:   0%|          | 0/170 [00:00<?, ?it/s]"
      ]
     },
     "metadata": {},
     "output_type": "display_data"
    },
    {
     "data": {
      "application/vnd.jupyter.widget-view+json": {
       "model_id": "c96772cfc6af422eb4c564c01adf364f",
       "version_major": 2,
       "version_minor": 0
      },
      "text/plain": [
       "Batch Progress: 2:   0%|          | 0/170 [00:00<?, ?it/s]"
      ]
     },
     "metadata": {},
     "output_type": "display_data"
    },
    {
     "data": {
      "application/vnd.jupyter.widget-view+json": {
       "model_id": "fac3620dff4d4b19b83a24488442c429",
       "version_major": 2,
       "version_minor": 0
      },
      "text/plain": [
       "Batch Progress: 3:   0%|          | 0/170 [00:00<?, ?it/s]"
      ]
     },
     "metadata": {},
     "output_type": "display_data"
    },
    {
     "data": {
      "application/vnd.jupyter.widget-view+json": {
       "model_id": "7cf47ffb70d14a62b98f5790a9990a67",
       "version_major": 2,
       "version_minor": 0
      },
      "text/plain": [
       "Batch Progress: 4:   0%|          | 0/170 [00:00<?, ?it/s]"
      ]
     },
     "metadata": {},
     "output_type": "display_data"
    },
    {
     "data": {
      "application/vnd.jupyter.widget-view+json": {
       "model_id": "5e0ae6f41585497882de9afb8ed9a625",
       "version_major": 2,
       "version_minor": 0
      },
      "text/plain": [
       "Batch Progress: 5:   0%|          | 0/19 [00:00<?, ?it/s]"
      ]
     },
     "metadata": {},
     "output_type": "display_data"
    },
    {
     "name": "stdout",
     "output_type": "stream",
     "text": [
      "Finished\n"
     ]
    }
   ],
   "source": [
    "process_raw(df_eval, preds_raw)\n",
    "df_eval[\"preds_raw\"] = preds_raw"
   ]
  },
  {
   "cell_type": "code",
   "execution_count": 213,
   "metadata": {},
   "outputs": [
    {
     "data": {
      "text/plain": [
       "label\n",
       "0    4260\n",
       "1    4259\n",
       "Name: count, dtype: int64"
      ]
     },
     "execution_count": 213,
     "metadata": {},
     "output_type": "execute_result"
    }
   ],
   "source": [
    "df_eval.loc[:,\"label\"].value_counts()"
   ]
  },
  {
   "cell_type": "code",
   "execution_count": 214,
   "metadata": {},
   "outputs": [
    {
     "data": {
      "text/plain": [
       "preds_raw\n",
       "0    7281\n",
       "1    1238\n",
       "Name: count, dtype: int64"
      ]
     },
     "execution_count": 214,
     "metadata": {},
     "output_type": "execute_result"
    }
   ],
   "source": [
    "df_eval.loc[:,\"preds_raw\"].value_counts()"
   ]
  },
  {
   "cell_type": "markdown",
   "metadata": {},
   "source": [
    "# Topic Equivalency\n",
    "\n"
   ]
  },
  {
   "cell_type": "code",
   "execution_count": 175,
   "metadata": {},
   "outputs": [],
   "source": [
    "# Prompt Template for Course Equivalency prediction\n",
    "\n",
    "topicequiv_prompt_template = \"\"\"\n",
    "Given the discipline and list of topics for the two courses below, determine whether the two \\\n",
    "are equivalent. For course equivalency, respond with 'true' or 'false'.\\n\n",
    "{format_instructions}\\n\n",
    "Course 1 Discipline: ```{course1_disc}```\\nCourse 1 Topics: ```{course1_topics}```\\n\n",
    "Course 2 Discipline: ```{course2_disc}```\\nCourse 2 Topics: ```{course2_topics}``````\n",
    "\"\"\""
   ]
  },
  {
   "cell_type": "code",
   "execution_count": 176,
   "metadata": {},
   "outputs": [],
   "source": [
    "class TopicEquivalency(BaseModel):\n",
    "    isEquiv: bool = Field(description=\"equivalency prediction\")\n",
    "\n",
    "topicequiv_parser = PydanticOutputParser(pydantic_object=TopicEquivalency)\n",
    "\n",
    "topicequiv_prompt = PromptTemplate(\n",
    "    template=topicequiv_prompt_template,\n",
    "    input_variables=[\"course1_disc\", \"course1_topics\", \"course2_disc\", \"course2_topics\"],\n",
    "    partial_variables={\"format_instructions\": topicequiv_parser.get_format_instructions()}\n",
    ")"
   ]
  },
  {
   "cell_type": "code",
   "execution_count": 32,
   "metadata": {},
   "outputs": [
    {
     "data": {
      "text/plain": [
       "'{\"name\": \"MATH 226 - Calculus I\", \"discipline\": \"Mathematics\", \"topics\": [\"Calculus\", \"Differentiation\", \"Integration\", \"Transcendental functions\"]}'"
      ]
     },
     "execution_count": 32,
     "metadata": {},
     "output_type": "execute_result"
    }
   ],
   "source": [
    "df2.iloc[0,8]"
   ]
  },
  {
   "cell_type": "code",
   "execution_count": 40,
   "metadata": {},
   "outputs": [
    {
     "name": "stdout",
     "output_type": "stream",
     "text": [
      "Calculus, Differentiation, Integration, Transcendental functions \n",
      "\n",
      " Limits, Continuity, Derivatives, Integrals \n",
      "\n",
      " Sets, functions, relations, algorithms, induction, differentiation, integration, transcentental, functions\n"
     ]
    }
   ],
   "source": [
    "course1_data = course_parser.parse(df2.iloc[0,8])\n",
    "course2_data = course_parser.parse(df2.iloc[2,8])\n",
    "course3_data = course_parser.parse(df2.iloc[0,8])\n",
    "course3_data.topics = [ \"Sets\", \"functions\", \"relations\", \"algorithms\", \"induction\",\n",
    "                        \"differentiation\", \"integration\", \"transcentental\", \"functions\" ]\n",
    "print(\", \".join(course1_data.topics), \"\\n\\n\", \", \".join(course2_data.topics), \"\\n\\n\", \", \".join(course3_data.topics))"
   ]
  },
  {
   "cell_type": "code",
   "execution_count": 42,
   "metadata": {},
   "outputs": [
    {
     "name": "stdout",
     "output_type": "stream",
     "text": [
      "\n",
      "Given the discipline and list of topics for the two courses below, determine whether the two are equivalent. For course equivalency, respond with 'true' or 'false'.\n",
      "\n",
      "The output should be formatted as a JSON instance that conforms to the JSON schema below.\n",
      "\n",
      "As an example, for the schema {\"properties\": {\"foo\": {\"title\": \"Foo\", \"description\": \"a list of strings\", \"type\": \"array\", \"items\": {\"type\": \"string\"}}}, \"required\": [\"foo\"]}\n",
      "the object {\"foo\": [\"bar\", \"baz\"]} is a well-formatted instance of the schema. The object {\"properties\": {\"foo\": [\"bar\", \"baz\"]}} is not well-formatted.\n",
      "\n",
      "Here is the output schema:\n",
      "```\n",
      "{\"properties\": {\"isEquiv\": {\"title\": \"Isequiv\", \"description\": \"equivalency prediction\", \"type\": \"boolean\"}}, \"required\": [\"isEquiv\"]}\n",
      "```\n",
      "\n",
      "Course 1 Discipline: ```Mathematics```\n",
      "Course 1 Topics: ```['Calculus', 'Differentiation', 'Integration', 'Transcendental functions']```\n",
      "\n",
      "Course 2 Discipline: ```Mathematics```\n",
      "Course 2 Topics: ```['Sets', 'functions', 'relations', 'algorithms', 'induction', 'differentiation', 'integration', 'transcentental', 'functions']``````\n",
      "\n"
     ]
    }
   ],
   "source": [
    "_input = topicequiv_prompt.format_prompt(\n",
    "    course1_disc=course1_data.discipline, \n",
    "    course1_topics=course1_data.topics,\n",
    "    course2_disc=course3_data.discipline, \n",
    "    course2_topics=course3_data.topics\n",
    ")\n",
    "print(_input.to_string())"
   ]
  },
  {
   "cell_type": "code",
   "execution_count": 43,
   "metadata": {},
   "outputs": [
    {
     "data": {
      "text/plain": [
       "'{\"isEquiv\": false}'"
      ]
     },
     "execution_count": 43,
     "metadata": {},
     "output_type": "execute_result"
    }
   ],
   "source": [
    "topicequiv_output_palm = palm(_input.to_string())\n",
    "topicequiv_output_palm"
   ]
  },
  {
   "cell_type": "code",
   "execution_count": 44,
   "metadata": {},
   "outputs": [
    {
     "data": {
      "text/plain": [
       "TopicEquivalency(isEquiv=False)"
      ]
     },
     "execution_count": 44,
     "metadata": {},
     "output_type": "execute_result"
    }
   ],
   "source": [
    "topicequiv_data_palm = topicequiv_parser.parse(topicequiv_output_palm)\n",
    "topicequiv_data_palm"
   ]
  },
  {
   "cell_type": "markdown",
   "metadata": {},
   "source": [
    "## Pairwise Equivalency Assessment using Topics and Discipline (FULL DATASET)"
   ]
  },
  {
   "cell_type": "code",
   "execution_count": 177,
   "metadata": {},
   "outputs": [],
   "source": [
    "def isEquivTopics(target, source):\n",
    "    target = course_parser.parse(target)\n",
    "    source = course_parser.parse(source)\n",
    "    _input = topicequiv_prompt.format_prompt(\n",
    "        course1_disc=target.discipline, \n",
    "        course1_topics=target.topics,\n",
    "        course2_disc=source.discipline, \n",
    "        course2_topics=source.topics\n",
    "    )\n",
    "    # print(_input.to_string())\n",
    "    res = palm(_input.to_string())\n",
    "    # print(f\"Response: {res}\")\n",
    "    res = topicequiv_parser.parse(res)\n",
    "    # print(f\"Parsed Response: {res.isEquiv}\")\n",
    "    if res.isEquiv == True:\n",
    "        return 1\n",
    "    else:\n",
    "        return 0"
   ]
  },
  {
   "cell_type": "code",
   "execution_count": 343,
   "metadata": {},
   "outputs": [
    {
     "data": {
      "text/plain": [
       "'{\"name\": \"MATH 226 - Calculus I\", \"discipline\": \"Mathematics\", \"topics\": [\"Calculus\", \"Differentiation\", \"Integration\", \"Transcendental functions\"]}'"
      ]
     },
     "execution_count": 343,
     "metadata": {},
     "output_type": "execute_result"
    }
   ],
   "source": [
    "df_eval.iloc[10,0]"
   ]
  },
  {
   "cell_type": "code",
   "execution_count": 344,
   "metadata": {},
   "outputs": [
    {
     "data": {
      "text/plain": [
       "'{\"name\": \"MATH 130 - Calculus I\", \"discipline\": \"Mathematics\", \"topics\": [\"Calculus\", \"Limits\", \"Derivatives\", \"Optimization\", \"Antiderivatives\", \"Integration\", \"Fundamental Theorem of Calculus\"]}'"
      ]
     },
     "execution_count": 344,
     "metadata": {},
     "output_type": "execute_result"
    }
   ],
   "source": [
    "df_eval.iloc[10,1]"
   ]
  },
  {
   "cell_type": "code",
   "execution_count": 345,
   "metadata": {},
   "outputs": [
    {
     "data": {
      "text/plain": [
       "1"
      ]
     },
     "execution_count": 345,
     "metadata": {},
     "output_type": "execute_result"
    }
   ],
   "source": [
    "df_eval.iloc[10,2]"
   ]
  },
  {
   "cell_type": "code",
   "execution_count": 342,
   "metadata": {},
   "outputs": [
    {
     "data": {
      "text/plain": [
       "1"
      ]
     },
     "execution_count": 342,
     "metadata": {},
     "output_type": "execute_result"
    }
   ],
   "source": [
    "isEquivTopics(df_eval.iloc[10,0], df_eval.iloc[10,1])"
   ]
  },
  {
   "cell_type": "code",
   "execution_count": 181,
   "metadata": {},
   "outputs": [],
   "source": [
    "import time\n",
    "\n",
    "def process_topics(df_eval: pd.DataFrame, preds: list):\n",
    "    if preds:\n",
    "        start = len(preds)\n",
    "    else:\n",
    "        start = 0\n",
    "    step = int(len(df_eval)/50)\n",
    "    for i in tqdm(range(start,len(df_eval), step), desc=\"Total Progress\", position=0):\n",
    "        if i + step < len(df_eval):\n",
    "            preds.extend(list(map(isEquivTopics, tqdm(df_eval.iloc[i:i+step,2], desc=f\"Batch Progress: {int((i-start+step)/170)}\", position=1, leave=True), df_eval.iloc[i:i+step,3])))\n",
    "            # print(f\"Saving Progress: {i+step}\")\n",
    "            with open(f\"../data/chunks/topics/topic_preds_0-{i+step}.pkl\", \"wb\") as f:\n",
    "                dill.dump(preds, f)\n",
    "            time.sleep(30)\n",
    "        else:\n",
    "            preds.extend(list(map(isEquivTopics, tqdm(df_eval.iloc[i:,2], desc=f\"Batch Progress: {int((len(df_eval)-start)/170)+1}\", position=1, leave=True), df_eval.iloc[i:,3])))\n",
    "            with open(f\"../data/chunks/topics/topic_preds_final.pkl\", \"wb\") as f:\n",
    "                dill.dump(preds, f)\n",
    "            print(\"Finished\")"
   ]
  },
  {
   "cell_type": "code",
   "execution_count": 211,
   "metadata": {},
   "outputs": [
    {
     "data": {
      "text/html": [
       "<div>\n",
       "<style scoped>\n",
       "    .dataframe tbody tr th:only-of-type {\n",
       "        vertical-align: middle;\n",
       "    }\n",
       "\n",
       "    .dataframe tbody tr th {\n",
       "        vertical-align: top;\n",
       "    }\n",
       "\n",
       "    .dataframe thead th {\n",
       "        text-align: right;\n",
       "    }\n",
       "</style>\n",
       "<table border=\"1\" class=\"dataframe\">\n",
       "  <thead>\n",
       "    <tr style=\"text-align: right;\">\n",
       "      <th></th>\n",
       "      <th>target_raw</th>\n",
       "      <th>source_raw</th>\n",
       "      <th>target_topics</th>\n",
       "      <th>source_topics</th>\n",
       "      <th>label</th>\n",
       "      <th>preds_raw</th>\n",
       "      <th>pred_topics</th>\n",
       "    </tr>\n",
       "  </thead>\n",
       "  <tbody>\n",
       "    <tr>\n",
       "      <th>0</th>\n",
       "      <td>MATH 226 - Calculus I\\n4 Units\\n\\nGraphs. Diff...</td>\n",
       "      <td>MATH 3A - Calculus I\\n5 Units, 5 lecture hours...</td>\n",
       "      <td>{\"name\": \"MATH 226 - Calculus I\", \"discipline\"...</td>\n",
       "      <td>```\\n{\\n  \"name\": \"MATH 3A - Calculus I\",\\n  \"...</td>\n",
       "      <td>1</td>\n",
       "      <td>1</td>\n",
       "      <td>0</td>\n",
       "    </tr>\n",
       "    <tr>\n",
       "      <th>1</th>\n",
       "      <td>MATH 226 - Calculus I\\n4 Units\\n\\nGraphs. Diff...</td>\n",
       "      <td>MATH 109 - Calculus I\\n4 Units, 4 Lecture hour...</td>\n",
       "      <td>{\"name\": \"MATH 226 - Calculus I\", \"discipline\"...</td>\n",
       "      <td>```\\n{\\n  \"name\": \"MATH 109 - Calculus I\",\\n  ...</td>\n",
       "      <td>1</td>\n",
       "      <td>1</td>\n",
       "      <td>1</td>\n",
       "    </tr>\n",
       "    <tr>\n",
       "      <th>2</th>\n",
       "      <td>MATH 226 - Calculus I\\n4 Units\\n\\nGraphs. Diff...</td>\n",
       "      <td>MAT 1140 - Calculus I\\n4 Units\\nPrerequisites:...</td>\n",
       "      <td>{\"name\": \"MATH 226 - Calculus I\", \"discipline\"...</td>\n",
       "      <td>```\\n{\\n  \"name\": \"MAT 1140 - Calculus I\",\\n  ...</td>\n",
       "      <td>1</td>\n",
       "      <td>1</td>\n",
       "      <td>0</td>\n",
       "    </tr>\n",
       "    <tr>\n",
       "      <th>3</th>\n",
       "      <td>MATH 226 - Calculus I\\n4 Units\\n\\nGraphs. Diff...</td>\n",
       "      <td>MATH 141 - Calculus I\\n4 Units\\nGE Area B1\\nPr...</td>\n",
       "      <td>{\"name\": \"MATH 226 - Calculus I\", \"discipline\"...</td>\n",
       "      <td>{\"name\": \"MATH 141 - Calculus I\", \"discipline\"...</td>\n",
       "      <td>1</td>\n",
       "      <td>1</td>\n",
       "      <td>1</td>\n",
       "    </tr>\n",
       "    <tr>\n",
       "      <th>4</th>\n",
       "      <td>MATH 226 - Calculus I\\n4 Units\\n\\nGraphs. Diff...</td>\n",
       "      <td>MATH 150 - Calculus I\\n4 Units\\nFour hours lec...</td>\n",
       "      <td>{\"name\": \"MATH 226 - Calculus I\", \"discipline\"...</td>\n",
       "      <td>```\\n{\\n  \"name\": \"MATH 150 - Calculus I\",\\n  ...</td>\n",
       "      <td>1</td>\n",
       "      <td>1</td>\n",
       "      <td>1</td>\n",
       "    </tr>\n",
       "  </tbody>\n",
       "</table>\n",
       "</div>"
      ],
      "text/plain": [
       "                                          target_raw  \\\n",
       "0  MATH 226 - Calculus I\\n4 Units\\n\\nGraphs. Diff...   \n",
       "1  MATH 226 - Calculus I\\n4 Units\\n\\nGraphs. Diff...   \n",
       "2  MATH 226 - Calculus I\\n4 Units\\n\\nGraphs. Diff...   \n",
       "3  MATH 226 - Calculus I\\n4 Units\\n\\nGraphs. Diff...   \n",
       "4  MATH 226 - Calculus I\\n4 Units\\n\\nGraphs. Diff...   \n",
       "\n",
       "                                          source_raw  \\\n",
       "0  MATH 3A - Calculus I\\n5 Units, 5 lecture hours...   \n",
       "1  MATH 109 - Calculus I\\n4 Units, 4 Lecture hour...   \n",
       "2  MAT 1140 - Calculus I\\n4 Units\\nPrerequisites:...   \n",
       "3  MATH 141 - Calculus I\\n4 Units\\nGE Area B1\\nPr...   \n",
       "4  MATH 150 - Calculus I\\n4 Units\\nFour hours lec...   \n",
       "\n",
       "                                       target_topics  \\\n",
       "0  {\"name\": \"MATH 226 - Calculus I\", \"discipline\"...   \n",
       "1  {\"name\": \"MATH 226 - Calculus I\", \"discipline\"...   \n",
       "2  {\"name\": \"MATH 226 - Calculus I\", \"discipline\"...   \n",
       "3  {\"name\": \"MATH 226 - Calculus I\", \"discipline\"...   \n",
       "4  {\"name\": \"MATH 226 - Calculus I\", \"discipline\"...   \n",
       "\n",
       "                                       source_topics  label  preds_raw  \\\n",
       "0  ```\\n{\\n  \"name\": \"MATH 3A - Calculus I\",\\n  \"...      1          1   \n",
       "1  ```\\n{\\n  \"name\": \"MATH 109 - Calculus I\",\\n  ...      1          1   \n",
       "2  ```\\n{\\n  \"name\": \"MAT 1140 - Calculus I\",\\n  ...      1          1   \n",
       "3  {\"name\": \"MATH 141 - Calculus I\", \"discipline\"...      1          1   \n",
       "4  ```\\n{\\n  \"name\": \"MATH 150 - Calculus I\",\\n  ...      1          1   \n",
       "\n",
       "   pred_topics  \n",
       "0            0  \n",
       "1            1  \n",
       "2            0  \n",
       "3            1  \n",
       "4            1  "
      ]
     },
     "execution_count": 211,
     "metadata": {},
     "output_type": "execute_result"
    }
   ],
   "source": [
    "df_eval.head()"
   ]
  },
  {
   "cell_type": "code",
   "execution_count": 182,
   "metadata": {},
   "outputs": [
    {
     "data": {
      "application/vnd.jupyter.widget-view+json": {
       "model_id": "8fa247c63da7499ebc7c53a8932dc9b5",
       "version_major": 2,
       "version_minor": 0
      },
      "text/plain": [
       "Total Progress:   0%|          | 0/49 [00:00<?, ?it/s]"
      ]
     },
     "metadata": {},
     "output_type": "display_data"
    },
    {
     "data": {
      "application/vnd.jupyter.widget-view+json": {
       "model_id": "60a4858abdf045869c129394077eb329",
       "version_major": 2,
       "version_minor": 0
      },
      "text/plain": [
       "Batch Progress: 1:   0%|          | 0/170 [00:00<?, ?it/s]"
      ]
     },
     "metadata": {},
     "output_type": "display_data"
    },
    {
     "name": "stderr",
     "output_type": "stream",
     "text": [
      "Retrying langchain.llms.google_palm.generate_with_retry.<locals>._generate_with_retry in 2.0 seconds as it raised ServiceUnavailable: 503 The service is currently unavailable..\n",
      "Retrying langchain.llms.google_palm.generate_with_retry.<locals>._generate_with_retry in 2.0 seconds as it raised ServiceUnavailable: 503 The service is currently unavailable..\n",
      "Retrying langchain.llms.google_palm.generate_with_retry.<locals>._generate_with_retry in 2.0 seconds as it raised ServiceUnavailable: 503 The service is currently unavailable..\n"
     ]
    },
    {
     "data": {
      "application/vnd.jupyter.widget-view+json": {
       "model_id": "2bc47b21aba7426fbc870a9ddf15facd",
       "version_major": 2,
       "version_minor": 0
      },
      "text/plain": [
       "Batch Progress: 2:   0%|          | 0/170 [00:00<?, ?it/s]"
      ]
     },
     "metadata": {},
     "output_type": "display_data"
    },
    {
     "data": {
      "application/vnd.jupyter.widget-view+json": {
       "model_id": "c260e701d8114394a25380f01cb94b8c",
       "version_major": 2,
       "version_minor": 0
      },
      "text/plain": [
       "Batch Progress: 3:   0%|          | 0/170 [00:00<?, ?it/s]"
      ]
     },
     "metadata": {},
     "output_type": "display_data"
    },
    {
     "name": "stderr",
     "output_type": "stream",
     "text": [
      "Retrying langchain.llms.google_palm.generate_with_retry.<locals>._generate_with_retry in 2.0 seconds as it raised ServiceUnavailable: 503 The service is currently unavailable..\n"
     ]
    },
    {
     "data": {
      "application/vnd.jupyter.widget-view+json": {
       "model_id": "33086aee263949c19ecc36cd286c6bd9",
       "version_major": 2,
       "version_minor": 0
      },
      "text/plain": [
       "Batch Progress: 4:   0%|          | 0/170 [00:00<?, ?it/s]"
      ]
     },
     "metadata": {},
     "output_type": "display_data"
    },
    {
     "data": {
      "application/vnd.jupyter.widget-view+json": {
       "model_id": "d3be98d4ced54e4aa3790f969d1f99c2",
       "version_major": 2,
       "version_minor": 0
      },
      "text/plain": [
       "Batch Progress: 5:   0%|          | 0/170 [00:00<?, ?it/s]"
      ]
     },
     "metadata": {},
     "output_type": "display_data"
    },
    {
     "name": "stderr",
     "output_type": "stream",
     "text": [
      "Retrying langchain.llms.google_palm.generate_with_retry.<locals>._generate_with_retry in 2.0 seconds as it raised ServiceUnavailable: 503 The service is currently unavailable..\n"
     ]
    },
    {
     "data": {
      "application/vnd.jupyter.widget-view+json": {
       "model_id": "823584d8c97744fea069245b977aa965",
       "version_major": 2,
       "version_minor": 0
      },
      "text/plain": [
       "Batch Progress: 6:   0%|          | 0/170 [00:00<?, ?it/s]"
      ]
     },
     "metadata": {},
     "output_type": "display_data"
    },
    {
     "name": "stderr",
     "output_type": "stream",
     "text": [
      "Retrying langchain.llms.google_palm.generate_with_retry.<locals>._generate_with_retry in 2.0 seconds as it raised ServiceUnavailable: 503 The service is currently unavailable..\n",
      "Retrying langchain.llms.google_palm.generate_with_retry.<locals>._generate_with_retry in 2.0 seconds as it raised ServiceUnavailable: 503 The service is currently unavailable..\n"
     ]
    },
    {
     "data": {
      "application/vnd.jupyter.widget-view+json": {
       "model_id": "ac8b72cdd0f94314b84a731955a8d59e",
       "version_major": 2,
       "version_minor": 0
      },
      "text/plain": [
       "Batch Progress: 7:   0%|          | 0/170 [00:00<?, ?it/s]"
      ]
     },
     "metadata": {},
     "output_type": "display_data"
    },
    {
     "data": {
      "application/vnd.jupyter.widget-view+json": {
       "model_id": "ac6d80fc87754844b991f412d5543512",
       "version_major": 2,
       "version_minor": 0
      },
      "text/plain": [
       "Batch Progress: 8:   0%|          | 0/170 [00:00<?, ?it/s]"
      ]
     },
     "metadata": {},
     "output_type": "display_data"
    },
    {
     "data": {
      "application/vnd.jupyter.widget-view+json": {
       "model_id": "d4d6e8716a4a49499f45303cec0292a3",
       "version_major": 2,
       "version_minor": 0
      },
      "text/plain": [
       "Batch Progress: 9:   0%|          | 0/170 [00:00<?, ?it/s]"
      ]
     },
     "metadata": {},
     "output_type": "display_data"
    },
    {
     "data": {
      "application/vnd.jupyter.widget-view+json": {
       "model_id": "6b05ecac26f24d5c9269c7e1a453ed07",
       "version_major": 2,
       "version_minor": 0
      },
      "text/plain": [
       "Batch Progress: 10:   0%|          | 0/170 [00:00<?, ?it/s]"
      ]
     },
     "metadata": {},
     "output_type": "display_data"
    },
    {
     "data": {
      "application/vnd.jupyter.widget-view+json": {
       "model_id": "d1ac4ce6be024005be950fb40d492b8e",
       "version_major": 2,
       "version_minor": 0
      },
      "text/plain": [
       "Batch Progress: 11:   0%|          | 0/170 [00:00<?, ?it/s]"
      ]
     },
     "metadata": {},
     "output_type": "display_data"
    },
    {
     "data": {
      "application/vnd.jupyter.widget-view+json": {
       "model_id": "2064b2ed8e9f4bf3a573faccc6de8283",
       "version_major": 2,
       "version_minor": 0
      },
      "text/plain": [
       "Batch Progress: 12:   0%|          | 0/170 [00:00<?, ?it/s]"
      ]
     },
     "metadata": {},
     "output_type": "display_data"
    },
    {
     "data": {
      "application/vnd.jupyter.widget-view+json": {
       "model_id": "b1261a8279e649349317eb16d59ae3f3",
       "version_major": 2,
       "version_minor": 0
      },
      "text/plain": [
       "Batch Progress: 13:   0%|          | 0/170 [00:00<?, ?it/s]"
      ]
     },
     "metadata": {},
     "output_type": "display_data"
    },
    {
     "data": {
      "application/vnd.jupyter.widget-view+json": {
       "model_id": "218850ab2e2046d18b0e348033b1fa94",
       "version_major": 2,
       "version_minor": 0
      },
      "text/plain": [
       "Batch Progress: 14:   0%|          | 0/170 [00:00<?, ?it/s]"
      ]
     },
     "metadata": {},
     "output_type": "display_data"
    },
    {
     "data": {
      "application/vnd.jupyter.widget-view+json": {
       "model_id": "d97cf1e2fcb14934983a5f1f1d580619",
       "version_major": 2,
       "version_minor": 0
      },
      "text/plain": [
       "Batch Progress: 15:   0%|          | 0/170 [00:00<?, ?it/s]"
      ]
     },
     "metadata": {},
     "output_type": "display_data"
    },
    {
     "data": {
      "application/vnd.jupyter.widget-view+json": {
       "model_id": "6c941f820c4a4ec7868b4d5a4ba19f7a",
       "version_major": 2,
       "version_minor": 0
      },
      "text/plain": [
       "Batch Progress: 16:   0%|          | 0/170 [00:00<?, ?it/s]"
      ]
     },
     "metadata": {},
     "output_type": "display_data"
    },
    {
     "data": {
      "application/vnd.jupyter.widget-view+json": {
       "model_id": "cb78403a9c47471c9365bb4ecab1e2f9",
       "version_major": 2,
       "version_minor": 0
      },
      "text/plain": [
       "Batch Progress: 17:   0%|          | 0/170 [00:00<?, ?it/s]"
      ]
     },
     "metadata": {},
     "output_type": "display_data"
    },
    {
     "data": {
      "application/vnd.jupyter.widget-view+json": {
       "model_id": "0cb016314a604a499f37efcd157cadf8",
       "version_major": 2,
       "version_minor": 0
      },
      "text/plain": [
       "Batch Progress: 18:   0%|          | 0/170 [00:00<?, ?it/s]"
      ]
     },
     "metadata": {},
     "output_type": "display_data"
    },
    {
     "data": {
      "application/vnd.jupyter.widget-view+json": {
       "model_id": "09eb5d36228b48b7998d6f2e40ed2889",
       "version_major": 2,
       "version_minor": 0
      },
      "text/plain": [
       "Batch Progress: 19:   0%|          | 0/170 [00:00<?, ?it/s]"
      ]
     },
     "metadata": {},
     "output_type": "display_data"
    },
    {
     "data": {
      "application/vnd.jupyter.widget-view+json": {
       "model_id": "da05864d70434fec9cd8d3c36a21a504",
       "version_major": 2,
       "version_minor": 0
      },
      "text/plain": [
       "Batch Progress: 20:   0%|          | 0/170 [00:00<?, ?it/s]"
      ]
     },
     "metadata": {},
     "output_type": "display_data"
    },
    {
     "data": {
      "application/vnd.jupyter.widget-view+json": {
       "model_id": "032c5dd7f0d141b0a31ae175182a76c4",
       "version_major": 2,
       "version_minor": 0
      },
      "text/plain": [
       "Batch Progress: 21:   0%|          | 0/170 [00:00<?, ?it/s]"
      ]
     },
     "metadata": {},
     "output_type": "display_data"
    },
    {
     "data": {
      "application/vnd.jupyter.widget-view+json": {
       "model_id": "b53485414cb44dcaad0a351283052a1f",
       "version_major": 2,
       "version_minor": 0
      },
      "text/plain": [
       "Batch Progress: 22:   0%|          | 0/170 [00:00<?, ?it/s]"
      ]
     },
     "metadata": {},
     "output_type": "display_data"
    },
    {
     "data": {
      "application/vnd.jupyter.widget-view+json": {
       "model_id": "87ed891cac8b4e91a9f62ba1e88abfd5",
       "version_major": 2,
       "version_minor": 0
      },
      "text/plain": [
       "Batch Progress: 23:   0%|          | 0/170 [00:00<?, ?it/s]"
      ]
     },
     "metadata": {},
     "output_type": "display_data"
    },
    {
     "data": {
      "application/vnd.jupyter.widget-view+json": {
       "model_id": "80bc281d47d94e72be4a06b540656670",
       "version_major": 2,
       "version_minor": 0
      },
      "text/plain": [
       "Batch Progress: 24:   0%|          | 0/170 [00:00<?, ?it/s]"
      ]
     },
     "metadata": {},
     "output_type": "display_data"
    },
    {
     "data": {
      "application/vnd.jupyter.widget-view+json": {
       "model_id": "45008b0f58994baeb1b6466a4887e3b4",
       "version_major": 2,
       "version_minor": 0
      },
      "text/plain": [
       "Batch Progress: 25:   0%|          | 0/170 [00:00<?, ?it/s]"
      ]
     },
     "metadata": {},
     "output_type": "display_data"
    },
    {
     "data": {
      "application/vnd.jupyter.widget-view+json": {
       "model_id": "f0ad13186eaa41bcaa39597c2d594759",
       "version_major": 2,
       "version_minor": 0
      },
      "text/plain": [
       "Batch Progress: 26:   0%|          | 0/170 [00:00<?, ?it/s]"
      ]
     },
     "metadata": {},
     "output_type": "display_data"
    },
    {
     "data": {
      "application/vnd.jupyter.widget-view+json": {
       "model_id": "81fc09e3d3fb479dbeb6d24955e210b8",
       "version_major": 2,
       "version_minor": 0
      },
      "text/plain": [
       "Batch Progress: 27:   0%|          | 0/170 [00:00<?, ?it/s]"
      ]
     },
     "metadata": {},
     "output_type": "display_data"
    },
    {
     "data": {
      "application/vnd.jupyter.widget-view+json": {
       "model_id": "ed31ba7987c24409b9ae896436b6c5d3",
       "version_major": 2,
       "version_minor": 0
      },
      "text/plain": [
       "Batch Progress: 28:   0%|          | 0/170 [00:00<?, ?it/s]"
      ]
     },
     "metadata": {},
     "output_type": "display_data"
    },
    {
     "data": {
      "application/vnd.jupyter.widget-view+json": {
       "model_id": "f7322ca22f274f97b322d4912fa643cf",
       "version_major": 2,
       "version_minor": 0
      },
      "text/plain": [
       "Batch Progress: 29:   0%|          | 0/170 [00:00<?, ?it/s]"
      ]
     },
     "metadata": {},
     "output_type": "display_data"
    },
    {
     "data": {
      "application/vnd.jupyter.widget-view+json": {
       "model_id": "c1e55adf584a47c0b8c9a09eab3ed3d1",
       "version_major": 2,
       "version_minor": 0
      },
      "text/plain": [
       "Batch Progress: 30:   0%|          | 0/170 [00:00<?, ?it/s]"
      ]
     },
     "metadata": {},
     "output_type": "display_data"
    },
    {
     "data": {
      "application/vnd.jupyter.widget-view+json": {
       "model_id": "949206bda05d4f25b97764655f7f9101",
       "version_major": 2,
       "version_minor": 0
      },
      "text/plain": [
       "Batch Progress: 31:   0%|          | 0/170 [00:00<?, ?it/s]"
      ]
     },
     "metadata": {},
     "output_type": "display_data"
    },
    {
     "data": {
      "application/vnd.jupyter.widget-view+json": {
       "model_id": "25bbcb022c8942e7b22f71b56511dc63",
       "version_major": 2,
       "version_minor": 0
      },
      "text/plain": [
       "Batch Progress: 32:   0%|          | 0/170 [00:00<?, ?it/s]"
      ]
     },
     "metadata": {},
     "output_type": "display_data"
    },
    {
     "data": {
      "application/vnd.jupyter.widget-view+json": {
       "model_id": "1d61568da1c544d2b515ced129b453cd",
       "version_major": 2,
       "version_minor": 0
      },
      "text/plain": [
       "Batch Progress: 33:   0%|          | 0/170 [00:00<?, ?it/s]"
      ]
     },
     "metadata": {},
     "output_type": "display_data"
    },
    {
     "data": {
      "application/vnd.jupyter.widget-view+json": {
       "model_id": "01ddbcc5bd744136a86195d72f6212e6",
       "version_major": 2,
       "version_minor": 0
      },
      "text/plain": [
       "Batch Progress: 34:   0%|          | 0/170 [00:00<?, ?it/s]"
      ]
     },
     "metadata": {},
     "output_type": "display_data"
    },
    {
     "data": {
      "application/vnd.jupyter.widget-view+json": {
       "model_id": "b9ae3e6218aa49d295f35ca306376754",
       "version_major": 2,
       "version_minor": 0
      },
      "text/plain": [
       "Batch Progress: 35:   0%|          | 0/170 [00:00<?, ?it/s]"
      ]
     },
     "metadata": {},
     "output_type": "display_data"
    },
    {
     "data": {
      "application/vnd.jupyter.widget-view+json": {
       "model_id": "d148967d3f614fb4b0c7349375cd20af",
       "version_major": 2,
       "version_minor": 0
      },
      "text/plain": [
       "Batch Progress: 36:   0%|          | 0/170 [00:00<?, ?it/s]"
      ]
     },
     "metadata": {},
     "output_type": "display_data"
    },
    {
     "data": {
      "application/vnd.jupyter.widget-view+json": {
       "model_id": "667daa49b19a47ba8e6a260dc17b34a3",
       "version_major": 2,
       "version_minor": 0
      },
      "text/plain": [
       "Batch Progress: 37:   0%|          | 0/170 [00:00<?, ?it/s]"
      ]
     },
     "metadata": {},
     "output_type": "display_data"
    },
    {
     "data": {
      "application/vnd.jupyter.widget-view+json": {
       "model_id": "c213fc1f14f04feb9343b3f8561e5895",
       "version_major": 2,
       "version_minor": 0
      },
      "text/plain": [
       "Batch Progress: 38:   0%|          | 0/170 [00:00<?, ?it/s]"
      ]
     },
     "metadata": {},
     "output_type": "display_data"
    },
    {
     "data": {
      "application/vnd.jupyter.widget-view+json": {
       "model_id": "1b29d038b0b54b35964ca44fd4513be0",
       "version_major": 2,
       "version_minor": 0
      },
      "text/plain": [
       "Batch Progress: 39:   0%|          | 0/170 [00:00<?, ?it/s]"
      ]
     },
     "metadata": {},
     "output_type": "display_data"
    },
    {
     "data": {
      "application/vnd.jupyter.widget-view+json": {
       "model_id": "d77734b6bbca480481b5703d88caf0a0",
       "version_major": 2,
       "version_minor": 0
      },
      "text/plain": [
       "Batch Progress: 40:   0%|          | 0/170 [00:00<?, ?it/s]"
      ]
     },
     "metadata": {},
     "output_type": "display_data"
    },
    {
     "data": {
      "application/vnd.jupyter.widget-view+json": {
       "model_id": "8af480daac9a429ba4cfa01aef77a8e3",
       "version_major": 2,
       "version_minor": 0
      },
      "text/plain": [
       "Batch Progress: 41:   0%|          | 0/170 [00:00<?, ?it/s]"
      ]
     },
     "metadata": {},
     "output_type": "display_data"
    },
    {
     "data": {
      "application/vnd.jupyter.widget-view+json": {
       "model_id": "120ff03f71984df2b09f7091e0723e7a",
       "version_major": 2,
       "version_minor": 0
      },
      "text/plain": [
       "Batch Progress: 42:   0%|          | 0/170 [00:00<?, ?it/s]"
      ]
     },
     "metadata": {},
     "output_type": "display_data"
    },
    {
     "data": {
      "application/vnd.jupyter.widget-view+json": {
       "model_id": "9f6eb178736a4a2fbcf1588b16f15316",
       "version_major": 2,
       "version_minor": 0
      },
      "text/plain": [
       "Batch Progress: 43:   0%|          | 0/170 [00:00<?, ?it/s]"
      ]
     },
     "metadata": {},
     "output_type": "display_data"
    },
    {
     "data": {
      "application/vnd.jupyter.widget-view+json": {
       "model_id": "1502083a2088498ca45d90b66d0cb58b",
       "version_major": 2,
       "version_minor": 0
      },
      "text/plain": [
       "Batch Progress: 44:   0%|          | 0/170 [00:00<?, ?it/s]"
      ]
     },
     "metadata": {},
     "output_type": "display_data"
    },
    {
     "data": {
      "application/vnd.jupyter.widget-view+json": {
       "model_id": "6fdaee43a95b42d99f86489b9f6e2565",
       "version_major": 2,
       "version_minor": 0
      },
      "text/plain": [
       "Batch Progress: 45:   0%|          | 0/170 [00:00<?, ?it/s]"
      ]
     },
     "metadata": {},
     "output_type": "display_data"
    },
    {
     "data": {
      "application/vnd.jupyter.widget-view+json": {
       "model_id": "6ecf94b4cd784b5e86de40a54daf67a1",
       "version_major": 2,
       "version_minor": 0
      },
      "text/plain": [
       "Batch Progress: 46:   0%|          | 0/170 [00:00<?, ?it/s]"
      ]
     },
     "metadata": {},
     "output_type": "display_data"
    },
    {
     "data": {
      "application/vnd.jupyter.widget-view+json": {
       "model_id": "96991924167141488f2c36995e375c00",
       "version_major": 2,
       "version_minor": 0
      },
      "text/plain": [
       "Batch Progress: 47:   0%|          | 0/170 [00:00<?, ?it/s]"
      ]
     },
     "metadata": {},
     "output_type": "display_data"
    },
    {
     "data": {
      "application/vnd.jupyter.widget-view+json": {
       "model_id": "1628b8e73ee745d8a74e56122120ceb4",
       "version_major": 2,
       "version_minor": 0
      },
      "text/plain": [
       "Batch Progress: 48:   0%|          | 0/170 [00:00<?, ?it/s]"
      ]
     },
     "metadata": {},
     "output_type": "display_data"
    },
    {
     "data": {
      "application/vnd.jupyter.widget-view+json": {
       "model_id": "38c2d16af83f426995a362d2c2518dc1",
       "version_major": 2,
       "version_minor": 0
      },
      "text/plain": [
       "Batch Progress: 49:   0%|          | 0/19 [00:00<?, ?it/s]"
      ]
     },
     "metadata": {},
     "output_type": "display_data"
    },
    {
     "name": "stdout",
     "output_type": "stream",
     "text": [
      "Finished\n"
     ]
    }
   ],
   "source": [
    "# preds_topics = []\n",
    "process_topics (df_eval, preds_topics)\n",
    "df_eval[\"pred_topics\"] = preds_topics"
   ]
  },
  {
   "cell_type": "code",
   "execution_count": 209,
   "metadata": {},
   "outputs": [
    {
     "data": {
      "text/plain": [
       "label\n",
       "0    4260\n",
       "1    4259\n",
       "Name: count, dtype: int64"
      ]
     },
     "execution_count": 209,
     "metadata": {},
     "output_type": "execute_result"
    }
   ],
   "source": [
    "df_eval.loc[:,\"label\"].value_counts()"
   ]
  },
  {
   "cell_type": "code",
   "execution_count": 212,
   "metadata": {},
   "outputs": [
    {
     "data": {
      "text/plain": [
       "pred_topics\n",
       "0    7178\n",
       "1    1341\n",
       "Name: count, dtype: int64"
      ]
     },
     "execution_count": 212,
     "metadata": {},
     "output_type": "execute_result"
    }
   ],
   "source": [
    "df_eval.loc[:,\"pred_topics\"].value_counts()"
   ]
  },
  {
   "cell_type": "code",
   "execution_count": 183,
   "metadata": {},
   "outputs": [
    {
     "data": {
      "text/html": [
       "<div>\n",
       "<style scoped>\n",
       "    .dataframe tbody tr th:only-of-type {\n",
       "        vertical-align: middle;\n",
       "    }\n",
       "\n",
       "    .dataframe tbody tr th {\n",
       "        vertical-align: top;\n",
       "    }\n",
       "\n",
       "    .dataframe thead th {\n",
       "        text-align: right;\n",
       "    }\n",
       "</style>\n",
       "<table border=\"1\" class=\"dataframe\">\n",
       "  <thead>\n",
       "    <tr style=\"text-align: right;\">\n",
       "      <th></th>\n",
       "      <th>target_raw</th>\n",
       "      <th>source_raw</th>\n",
       "      <th>target_topics</th>\n",
       "      <th>source_topics</th>\n",
       "      <th>label</th>\n",
       "      <th>preds_raw</th>\n",
       "      <th>pred_topics</th>\n",
       "    </tr>\n",
       "  </thead>\n",
       "  <tbody>\n",
       "    <tr>\n",
       "      <th>0</th>\n",
       "      <td>MATH 226 - Calculus I\\n4 Units\\n\\nGraphs. Diff...</td>\n",
       "      <td>MATH 3A - Calculus I\\n5 Units, 5 lecture hours...</td>\n",
       "      <td>{\"name\": \"MATH 226 - Calculus I\", \"discipline\"...</td>\n",
       "      <td>```\\n{\\n  \"name\": \"MATH 3A - Calculus I\",\\n  \"...</td>\n",
       "      <td>1</td>\n",
       "      <td>1</td>\n",
       "      <td>0</td>\n",
       "    </tr>\n",
       "    <tr>\n",
       "      <th>1</th>\n",
       "      <td>MATH 226 - Calculus I\\n4 Units\\n\\nGraphs. Diff...</td>\n",
       "      <td>MATH 109 - Calculus I\\n4 Units, 4 Lecture hour...</td>\n",
       "      <td>{\"name\": \"MATH 226 - Calculus I\", \"discipline\"...</td>\n",
       "      <td>```\\n{\\n  \"name\": \"MATH 109 - Calculus I\",\\n  ...</td>\n",
       "      <td>1</td>\n",
       "      <td>1</td>\n",
       "      <td>1</td>\n",
       "    </tr>\n",
       "    <tr>\n",
       "      <th>2</th>\n",
       "      <td>MATH 226 - Calculus I\\n4 Units\\n\\nGraphs. Diff...</td>\n",
       "      <td>MAT 1140 - Calculus I\\n4 Units\\nPrerequisites:...</td>\n",
       "      <td>{\"name\": \"MATH 226 - Calculus I\", \"discipline\"...</td>\n",
       "      <td>```\\n{\\n  \"name\": \"MAT 1140 - Calculus I\",\\n  ...</td>\n",
       "      <td>1</td>\n",
       "      <td>1</td>\n",
       "      <td>0</td>\n",
       "    </tr>\n",
       "    <tr>\n",
       "      <th>3</th>\n",
       "      <td>MATH 226 - Calculus I\\n4 Units\\n\\nGraphs. Diff...</td>\n",
       "      <td>MATH 141 - Calculus I\\n4 Units\\nGE Area B1\\nPr...</td>\n",
       "      <td>{\"name\": \"MATH 226 - Calculus I\", \"discipline\"...</td>\n",
       "      <td>{\"name\": \"MATH 141 - Calculus I\", \"discipline\"...</td>\n",
       "      <td>1</td>\n",
       "      <td>1</td>\n",
       "      <td>1</td>\n",
       "    </tr>\n",
       "    <tr>\n",
       "      <th>4</th>\n",
       "      <td>MATH 226 - Calculus I\\n4 Units\\n\\nGraphs. Diff...</td>\n",
       "      <td>MATH 150 - Calculus I\\n4 Units\\nFour hours lec...</td>\n",
       "      <td>{\"name\": \"MATH 226 - Calculus I\", \"discipline\"...</td>\n",
       "      <td>```\\n{\\n  \"name\": \"MATH 150 - Calculus I\",\\n  ...</td>\n",
       "      <td>1</td>\n",
       "      <td>1</td>\n",
       "      <td>1</td>\n",
       "    </tr>\n",
       "    <tr>\n",
       "      <th>...</th>\n",
       "      <td>...</td>\n",
       "      <td>...</td>\n",
       "      <td>...</td>\n",
       "      <td>...</td>\n",
       "      <td>...</td>\n",
       "      <td>...</td>\n",
       "      <td>...</td>\n",
       "    </tr>\n",
       "    <tr>\n",
       "      <th>8514</th>\n",
       "      <td>CS 51  (C-ID COMP 142)         3 units  \\nIntr...</td>\n",
       "      <td>CSCI 190  Discrete Mathematics Applied to Comp...</td>\n",
       "      <td>```\\n{\\n  \"name\": \"CS 51\",\\n  \"discipline\": \"C...</td>\n",
       "      <td>```\\n{\\n  \"name\": \"CSCI 190  Discrete Mathemat...</td>\n",
       "      <td>0</td>\n",
       "      <td>0</td>\n",
       "      <td>0</td>\n",
       "    </tr>\n",
       "    <tr>\n",
       "      <th>8515</th>\n",
       "      <td>CIS020:\\n\\n3.0 Units\\nPrint\\nDescription:\\n\\nA...</td>\n",
       "      <td>COMP 256 - Discrete Structures for Computer Sc...</td>\n",
       "      <td>{\"name\": \"CIS020\", \"discipline\": \"Computer Sci...</td>\n",
       "      <td>```\\n{\\n  \"name\": \"COMP 256 - Discrete Structu...</td>\n",
       "      <td>0</td>\n",
       "      <td>0</td>\n",
       "      <td>0</td>\n",
       "    </tr>\n",
       "    <tr>\n",
       "      <th>8516</th>\n",
       "      <td>CIS020:\\n\\n3.0 Units\\nPrint\\nDescription:\\n\\nA...</td>\n",
       "      <td>MATH 170A - Mathematical Structures I\\n3 Units...</td>\n",
       "      <td>{\"name\": \"CIS020\", \"discipline\": \"Computer Sci...</td>\n",
       "      <td>{\"name\": \"MATH 170A - Mathematical Structures ...</td>\n",
       "      <td>0</td>\n",
       "      <td>0</td>\n",
       "      <td>0</td>\n",
       "    </tr>\n",
       "    <tr>\n",
       "      <th>8517</th>\n",
       "      <td>COMSC-2 3 UNITS\\nComputer Assembly Language\\nT...</td>\n",
       "      <td>MATH 1410 - Calculus I\\n4 Units\\n\\nInequalitie...</td>\n",
       "      <td>```\\n{\\n  \"name\": \"Computer Assembly Language\"...</td>\n",
       "      <td>{\"name\": \"MATH 1410 - Calculus I\", \"discipline...</td>\n",
       "      <td>0</td>\n",
       "      <td>0</td>\n",
       "      <td>0</td>\n",
       "    </tr>\n",
       "    <tr>\n",
       "      <th>8518</th>\n",
       "      <td>Introduction to Assembly Language Programming\\...</td>\n",
       "      <td>MATH 1A - CALCULUS\\n5 Units\\n\\nPrerequisite:  ...</td>\n",
       "      <td>```\\n{\\n  \"name\": \"Introduction to Assembly La...</td>\n",
       "      <td>{\"name\": \"MATH 1A - CALCULUS\", \"discipline\": \"...</td>\n",
       "      <td>0</td>\n",
       "      <td>0</td>\n",
       "      <td>0</td>\n",
       "    </tr>\n",
       "  </tbody>\n",
       "</table>\n",
       "<p>8519 rows × 7 columns</p>\n",
       "</div>"
      ],
      "text/plain": [
       "                                             target_raw  \\\n",
       "0     MATH 226 - Calculus I\\n4 Units\\n\\nGraphs. Diff...   \n",
       "1     MATH 226 - Calculus I\\n4 Units\\n\\nGraphs. Diff...   \n",
       "2     MATH 226 - Calculus I\\n4 Units\\n\\nGraphs. Diff...   \n",
       "3     MATH 226 - Calculus I\\n4 Units\\n\\nGraphs. Diff...   \n",
       "4     MATH 226 - Calculus I\\n4 Units\\n\\nGraphs. Diff...   \n",
       "...                                                 ...   \n",
       "8514  CS 51  (C-ID COMP 142)         3 units  \\nIntr...   \n",
       "8515  CIS020:\\n\\n3.0 Units\\nPrint\\nDescription:\\n\\nA...   \n",
       "8516  CIS020:\\n\\n3.0 Units\\nPrint\\nDescription:\\n\\nA...   \n",
       "8517  COMSC-2 3 UNITS\\nComputer Assembly Language\\nT...   \n",
       "8518  Introduction to Assembly Language Programming\\...   \n",
       "\n",
       "                                             source_raw  \\\n",
       "0     MATH 3A - Calculus I\\n5 Units, 5 lecture hours...   \n",
       "1     MATH 109 - Calculus I\\n4 Units, 4 Lecture hour...   \n",
       "2     MAT 1140 - Calculus I\\n4 Units\\nPrerequisites:...   \n",
       "3     MATH 141 - Calculus I\\n4 Units\\nGE Area B1\\nPr...   \n",
       "4     MATH 150 - Calculus I\\n4 Units\\nFour hours lec...   \n",
       "...                                                 ...   \n",
       "8514  CSCI 190  Discrete Mathematics Applied to Comp...   \n",
       "8515  COMP 256 - Discrete Structures for Computer Sc...   \n",
       "8516  MATH 170A - Mathematical Structures I\\n3 Units...   \n",
       "8517  MATH 1410 - Calculus I\\n4 Units\\n\\nInequalitie...   \n",
       "8518  MATH 1A - CALCULUS\\n5 Units\\n\\nPrerequisite:  ...   \n",
       "\n",
       "                                          target_topics  \\\n",
       "0     {\"name\": \"MATH 226 - Calculus I\", \"discipline\"...   \n",
       "1     {\"name\": \"MATH 226 - Calculus I\", \"discipline\"...   \n",
       "2     {\"name\": \"MATH 226 - Calculus I\", \"discipline\"...   \n",
       "3     {\"name\": \"MATH 226 - Calculus I\", \"discipline\"...   \n",
       "4     {\"name\": \"MATH 226 - Calculus I\", \"discipline\"...   \n",
       "...                                                 ...   \n",
       "8514  ```\\n{\\n  \"name\": \"CS 51\",\\n  \"discipline\": \"C...   \n",
       "8515  {\"name\": \"CIS020\", \"discipline\": \"Computer Sci...   \n",
       "8516  {\"name\": \"CIS020\", \"discipline\": \"Computer Sci...   \n",
       "8517  ```\\n{\\n  \"name\": \"Computer Assembly Language\"...   \n",
       "8518  ```\\n{\\n  \"name\": \"Introduction to Assembly La...   \n",
       "\n",
       "                                          source_topics  label  preds_raw  \\\n",
       "0     ```\\n{\\n  \"name\": \"MATH 3A - Calculus I\",\\n  \"...      1          1   \n",
       "1     ```\\n{\\n  \"name\": \"MATH 109 - Calculus I\",\\n  ...      1          1   \n",
       "2     ```\\n{\\n  \"name\": \"MAT 1140 - Calculus I\",\\n  ...      1          1   \n",
       "3     {\"name\": \"MATH 141 - Calculus I\", \"discipline\"...      1          1   \n",
       "4     ```\\n{\\n  \"name\": \"MATH 150 - Calculus I\",\\n  ...      1          1   \n",
       "...                                                 ...    ...        ...   \n",
       "8514  ```\\n{\\n  \"name\": \"CSCI 190  Discrete Mathemat...      0          0   \n",
       "8515  ```\\n{\\n  \"name\": \"COMP 256 - Discrete Structu...      0          0   \n",
       "8516  {\"name\": \"MATH 170A - Mathematical Structures ...      0          0   \n",
       "8517  {\"name\": \"MATH 1410 - Calculus I\", \"discipline...      0          0   \n",
       "8518  {\"name\": \"MATH 1A - CALCULUS\", \"discipline\": \"...      0          0   \n",
       "\n",
       "      pred_topics  \n",
       "0               0  \n",
       "1               1  \n",
       "2               0  \n",
       "3               1  \n",
       "4               1  \n",
       "...           ...  \n",
       "8514            0  \n",
       "8515            0  \n",
       "8516            0  \n",
       "8517            0  \n",
       "8518            0  \n",
       "\n",
       "[8519 rows x 7 columns]"
      ]
     },
     "execution_count": 183,
     "metadata": {},
     "output_type": "execute_result"
    }
   ],
   "source": [
    "df_eval"
   ]
  },
  {
   "cell_type": "code",
   "execution_count": 184,
   "metadata": {},
   "outputs": [],
   "source": [
    "with open(\"../data/prediction_df.pkl\", \"wb\") as f:\n",
    "    dill.dump(df_eval, f)"
   ]
  },
  {
   "cell_type": "markdown",
   "metadata": {},
   "source": [
    "# Evaluation of Equivalency Predictions"
   ]
  },
  {
   "cell_type": "code",
   "execution_count": 186,
   "metadata": {},
   "outputs": [],
   "source": [
    "from sklearn.metrics import classification_report, confusion_matrix, ConfusionMatrixDisplay"
   ]
  },
  {
   "cell_type": "markdown",
   "metadata": {},
   "source": [
    "## Raw Text Evaluation"
   ]
  },
  {
   "cell_type": "code",
   "execution_count": 187,
   "metadata": {},
   "outputs": [
    {
     "name": "stdout",
     "output_type": "stream",
     "text": [
      "Classification Report for Raw Text Evaluation\n",
      "              precision    recall  f1-score   support\n",
      "\n",
      "           0     0.5825    0.9955    0.7349      4260\n",
      "           1     0.9847    0.2862    0.4435      4259\n",
      "\n",
      "    accuracy                         0.6409      8519\n",
      "   macro avg     0.7836    0.6409    0.5892      8519\n",
      "weighted avg     0.7835    0.6409    0.5892      8519\n",
      "\n"
     ]
    }
   ],
   "source": [
    "print(\"Classification Report for Raw Text Evaluation\")\n",
    "print(classification_report(df_eval.iloc[:, 4], df_eval.iloc[:, 5],digits=4))"
   ]
  },
  {
   "cell_type": "code",
   "execution_count": 189,
   "metadata": {},
   "outputs": [
    {
     "data": {
      "text/plain": [
       "Text(0.5, 1.0, 'Raw Text Evaluation Confusion Matrix')"
      ]
     },
     "execution_count": 189,
     "metadata": {},
     "output_type": "execute_result"
    },
    {
     "data": {
      "image/png": "[encoded data removed]",
      "text/plain": [
       "<Figure size 640x480 with 2 Axes>"
      ]
     },
     "metadata": {},
     "output_type": "display_data"
    }
   ],
   "source": [
    "disp = ConfusionMatrixDisplay(confusion_matrix(df_eval[\"label\"], df_eval[\"preds_raw\"]))\n",
    "disp.plot()\n",
    "disp.ax_.set_title(\"Raw Text Evaluation Confusion Matrix\")"
   ]
  },
  {
   "cell_type": "markdown",
   "metadata": {},
   "source": [
    "## Discipline & Topic Evaluation"
   ]
  },
  {
   "cell_type": "code",
   "execution_count": 190,
   "metadata": {},
   "outputs": [
    {
     "name": "stdout",
     "output_type": "stream",
     "text": [
      "Classification Report for Discipline and Topic Evaluation\n",
      "              precision    recall  f1-score   support\n",
      "\n",
      "           0     0.5935    1.0000    0.7449      4260\n",
      "           1     1.0000    0.3149    0.4789      4259\n",
      "\n",
      "    accuracy                         0.6575      8519\n",
      "   macro avg     0.7967    0.6574    0.6119      8519\n",
      "weighted avg     0.7967    0.6575    0.6119      8519\n",
      "\n"
     ]
    }
   ],
   "source": [
    "print(\"Classification Report for Discipline and Topic Evaluation\")\n",
    "print(classification_report(df_eval.iloc[:, 4], df_eval.iloc[:, 6],digits=4))"
   ]
  },
  {
   "cell_type": "code",
   "execution_count": 193,
   "metadata": {},
   "outputs": [
    {
     "data": {
      "text/plain": [
       "Text(0.5, 1.0, 'Discipline/Topic Evaluation Confusion Matrix')"
      ]
     },
     "execution_count": 193,
     "metadata": {},
     "output_type": "execute_result"
    },
    {
     "data": {
      "image/png": "[encoded data removed]",
      "text/plain": [
       "<Figure size 640x480 with 2 Axes>"
      ]
     },
     "metadata": {},
     "output_type": "display_data"
    }
   ],
   "source": [
    "disp2 = ConfusionMatrixDisplay(confusion_matrix(df_eval[\"label\"], df_eval[\"pred_topics\"]))\n",
    "disp2.plot()\n",
    "disp2.ax_.set_title(\"Discipline/Topic Evaluation Confusion Matrix\")"
   ]
  },
  {
   "cell_type": "markdown",
   "metadata": {},
   "source": [
    "# DEPRECATED PROCESSES"
   ]
  },
  {
   "cell_type": "markdown",
   "metadata": {},
   "source": [
    "#### Section: [Process Entire Dataframe](#process-entire-dataframe)\n",
    "\n",
    "I was going to convert the dataframe into a Python dictionary to process the\n",
    "data before realizing that I can just process the data directly from the dataframe."
   ]
  },
  {
   "cell_type": "code",
   "execution_count": null,
   "metadata": {},
   "outputs": [],
   "source": [
    "# school_courses_desc_dict = df.to_dict(orient='index')\n",
    "# school_courses_desc_dict = {school:{course:(desc if type(desc) is str else None) for course,desc in courses.items()} for school,courses in school_courses_desc_dict.items()}"
   ]
  },
  {
   "cell_type": "code",
   "execution_count": null,
   "metadata": {},
   "outputs": [],
   "source": [
    "# school_courses_desc_dict['SFSU']"
   ]
  },
  {
   "cell_type": "code",
   "execution_count": null,
   "metadata": {},
   "outputs": [],
   "source": []
  }
 ],
 "metadata": {
  "kernelspec": {
   "display_name": "Python 3 (ipykernel)",
   "language": "python",
   "name": "python3"
  },
  "language_info": {
   "codemirror_mode": {
    "name": "ipython",
    "version": 3
   },
   "file_extension": ".py",
   "mimetype": "text/x-python",
   "name": "python",
   "nbconvert_exporter": "python",
   "pygments_lexer": "ipython3",
   "version": "3.11.6"
  }
 },
 "nbformat": 4,
 "nbformat_minor": 4
}
