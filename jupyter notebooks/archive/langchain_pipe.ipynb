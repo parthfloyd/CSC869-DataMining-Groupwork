{
 "cells": [
  {
   "cell_type": "code",
   "execution_count": 157,
   "metadata": {},
   "outputs": [],
   "source": [
    "import dill\n",
    "import pandas as pd\n",
    "import numpy as np\n",
    "from langchain.llms import Cohere, OpenAI, GooglePalm, Anthropic\n",
    "from langchain.prompts import PromptTemplate\n",
    "from langchain.output_parsers import PydanticOutputParser\n",
    "from langchain.pydantic_v1 import BaseModel, Field, validator\n",
    "from typing import List\n",
    "from pypdf import PdfReader\n",
    "\n",
    "# from langchain.chat_models import ChatCohere\n",
    "# from langchain.prompts import ChatPromptTemplate, PromptTemplate\n",
    "# from langchain.chains import ConversationChain\n",
    "# from langchain.memory import ConversationBufferMemory\n",
    "# from langchain.output_parsers import ResponseSchema, StructuredOutputParser, CommaSeparatedListOutputParser, PydanticOutputParser\n",
    "# import cohere\n",
    "\n",
    "from dotenv import load_dotenv, find_dotenv\n",
    "\n",
    "_ = load_dotenv(find_dotenv())\n",
    "\n",
    "# co = cohere.Client(os.environ['COHERE_API_KEY'])"
   ]
  },
  {
   "cell_type": "markdown",
   "metadata": {},
   "source": [
    "# Load Data\n",
    "\n",
    "Load data gathered in an excel spreadsheet"
   ]
  },
  {
   "cell_type": "code",
   "execution_count": 164,
   "metadata": {},
   "outputs": [],
   "source": [
    "df = pd.read_excel(\n",
    "    '../data/CSC869 Term Project Dataset.xlsx', \n",
    "    sheet_name='Course Descriptions', \n",
    "    skiprows=3, \n",
    "    names=['School', 'MATH226 eqv', 'MATH226 mult eqv', 'MATH226 alt eqv', 'MATH226 alt mult eqv', 'CSC230 eqv', 'CSC230 alt eqv', 'CSC256 eqv', 'CSC256 multipleEqv'],\n",
    "    index_col=None\n",
    ")\n",
    "df = df.dropna(how='all').set_index(\"School\")"
   ]
  },
  {
   "cell_type": "code",
   "execution_count": 165,
   "metadata": {},
   "outputs": [
    {
     "name": "stdout",
     "output_type": "stream",
     "text": [
      "MATH 226 - Calculus I\n",
      "4 Units\n",
      "\n",
      "Graphs. Differentiation: theory, techniques, and applications. Integration: Fundamental Theorem of Calculus and applications. Transcendental functions. \n",
      "\n",
      "\n",
      "CSC 230 - Discrete Mathematical Structures for Computer Science\n",
      "3 Units\n",
      "\n",
      "Review of set algebra, relations and functions, permutations, propositional logic, proof techniques, introduction to graph theory, and infinite sets, and their applications to computer science. \n",
      "\n",
      "\n",
      "CSC 256 - Machine Structures\n",
      "3 Units\n",
      "\n",
      "Digital logic circuits, data representation, assembly language programming, subroutine linkage, machine language encoding, interrupt and exception handling, memory system concepts, and CPU organization and performance.\n"
     ]
    }
   ],
   "source": [
    "math226_desc = df.iloc[0,0]\n",
    "csc230_desc = df.iloc[0,4]\n",
    "csc256_desc = df.iloc[0,6]\n",
    "print(math226_desc, \"\\n\\n\")\n",
    "print(csc230_desc, \"\\n\\n\")\n",
    "print(csc256_desc)"
   ]
  },
  {
   "cell_type": "code",
   "execution_count": 166,
   "metadata": {},
   "outputs": [
    {
     "data": {
      "text/html": [
       "<div>\n",
       "<style scoped>\n",
       "    .dataframe tbody tr th:only-of-type {\n",
       "        vertical-align: middle;\n",
       "    }\n",
       "\n",
       "    .dataframe tbody tr th {\n",
       "        vertical-align: top;\n",
       "    }\n",
       "\n",
       "    .dataframe thead th {\n",
       "        text-align: right;\n",
       "    }\n",
       "</style>\n",
       "<table border=\"1\" class=\"dataframe\">\n",
       "  <thead>\n",
       "    <tr style=\"text-align: right;\">\n",
       "      <th></th>\n",
       "      <th>MATH226 eqv</th>\n",
       "      <th>MATH226 mult eqv</th>\n",
       "      <th>MATH226 alt eqv</th>\n",
       "      <th>MATH226 alt mult eqv</th>\n",
       "      <th>CSC230 eqv</th>\n",
       "      <th>CSC230 alt eqv</th>\n",
       "      <th>CSC256 eqv</th>\n",
       "      <th>CSC256 multipleEqv</th>\n",
       "    </tr>\n",
       "    <tr>\n",
       "      <th>School</th>\n",
       "      <th></th>\n",
       "      <th></th>\n",
       "      <th></th>\n",
       "      <th></th>\n",
       "      <th></th>\n",
       "      <th></th>\n",
       "      <th></th>\n",
       "      <th></th>\n",
       "    </tr>\n",
       "  </thead>\n",
       "  <tbody>\n",
       "    <tr>\n",
       "      <th>SFSU</th>\n",
       "      <td>MATH 226 - Calculus I\\n4 Units\\n\\nGraphs. Diff...</td>\n",
       "      <td>NaN</td>\n",
       "      <td>NaN</td>\n",
       "      <td>NaN</td>\n",
       "      <td>CSC 230 - Discrete Mathematical Structures for...</td>\n",
       "      <td>NaN</td>\n",
       "      <td>CSC 256 - Machine Structures\\n3 Units\\n\\nDigit...</td>\n",
       "      <td>NaN</td>\n",
       "    </tr>\n",
       "    <tr>\n",
       "      <th>Berkeley City College</th>\n",
       "      <td>MATH 3A - Calculus I\\n5 Units, 5 lecture hours...</td>\n",
       "      <td>NaN</td>\n",
       "      <td>NaN</td>\n",
       "      <td>NaN</td>\n",
       "      <td>MATH 11 - Discrete Mathematics\\n4 units\\n\\nN/A</td>\n",
       "      <td>NaN</td>\n",
       "      <td>CIS 20: Microcomputer Assembly Language\\n4 Uni...</td>\n",
       "      <td>NaN</td>\n",
       "    </tr>\n",
       "    <tr>\n",
       "      <th>California Polytechnic State University, Humboldt</th>\n",
       "      <td>MATH 109 - Calculus I\\n4 Units, 4 Lecture hour...</td>\n",
       "      <td>NaN</td>\n",
       "      <td>NaN</td>\n",
       "      <td>NaN</td>\n",
       "      <td>MATH 253 - Discrete Mathematics\\n3 Units, 3 Le...</td>\n",
       "      <td>NaN</td>\n",
       "      <td>NaN</td>\n",
       "      <td>NaN</td>\n",
       "    </tr>\n",
       "    <tr>\n",
       "      <th>California Polytechnic State University, Pomona</th>\n",
       "      <td>MAT 1140 - Calculus I\\n4 Units\\nPrerequisites:...</td>\n",
       "      <td>NaN</td>\n",
       "      <td>NaN</td>\n",
       "      <td>NaN</td>\n",
       "      <td>CS 1300 - Discrete Structures\\n4 Units\\nPrereq...</td>\n",
       "      <td>NaN</td>\n",
       "      <td>CS 2640 - Computer Organization and Assembly P...</td>\n",
       "      <td>NaN</td>\n",
       "    </tr>\n",
       "    <tr>\n",
       "      <th>California Polytechnic State University, San Luis Obispo</th>\n",
       "      <td>MATH 141 - Calculus I\\n4 Units\\nGE Area B1\\nPr...</td>\n",
       "      <td>MATH 142 - Calculus II\\n4 units\\nGE Area B1\\nP...</td>\n",
       "      <td>HNRS 141 - Calculus I \\n4 Units \\nPrerequisite...</td>\n",
       "      <td>HNRS 142 - Calculus II \\n4 units\\nPrerequisite...</td>\n",
       "      <td>NaN</td>\n",
       "      <td>NaN</td>\n",
       "      <td>NaN</td>\n",
       "      <td>NaN</td>\n",
       "    </tr>\n",
       "    <tr>\n",
       "      <th>...</th>\n",
       "      <td>...</td>\n",
       "      <td>...</td>\n",
       "      <td>...</td>\n",
       "      <td>...</td>\n",
       "      <td>...</td>\n",
       "      <td>...</td>\n",
       "      <td>...</td>\n",
       "      <td>...</td>\n",
       "    </tr>\n",
       "    <tr>\n",
       "      <th>Solano Community College</th>\n",
       "      <td>MATH020:\\n\\n4.0 Units\\nPrint\\nDescription:\\n\\n...</td>\n",
       "      <td>NaN</td>\n",
       "      <td>NaN</td>\n",
       "      <td>NaN</td>\n",
       "      <td>CIS021:\\n\\n3.0 Units\\nPrint\\nDescription:\\n\\nA...</td>\n",
       "      <td>NaN</td>\n",
       "      <td>CIS020:\\n\\n3.0 Units\\nPrint\\nDescription:\\n\\nA...</td>\n",
       "      <td>NaN</td>\n",
       "    </tr>\n",
       "    <tr>\n",
       "      <th>Sonoma State University</th>\n",
       "      <td>MATH 161 - Differential and Integral Calculus ...</td>\n",
       "      <td>NaN</td>\n",
       "      <td>NaN</td>\n",
       "      <td>NaN</td>\n",
       "      <td>NaN</td>\n",
       "      <td>NaN</td>\n",
       "      <td>NaN</td>\n",
       "      <td>NaN</td>\n",
       "    </tr>\n",
       "    <tr>\n",
       "      <th>Ventura College</th>\n",
       "      <td>MATH V21A Calculus with Analytic Geometry I 5 ...</td>\n",
       "      <td>NaN</td>\n",
       "      <td>NaN</td>\n",
       "      <td>NaN</td>\n",
       "      <td>MATH V52 Discrete Structures 3 Units\\nSame-As:...</td>\n",
       "      <td>CS V17 Discrete Structures 3 Units\\nSame-As: M...</td>\n",
       "      <td>NaN</td>\n",
       "      <td>NaN</td>\n",
       "    </tr>\n",
       "    <tr>\n",
       "      <th>West Valley College</th>\n",
       "      <td>MATH 003A: Calculus and Analytical Geometry\\nC...</td>\n",
       "      <td>NaN</td>\n",
       "      <td>NaN</td>\n",
       "      <td>NaN</td>\n",
       "      <td>MATH 019: Discrete Mathematics\\nCourse Descrip...</td>\n",
       "      <td>NaN</td>\n",
       "      <td>NaN</td>\n",
       "      <td>NaN</td>\n",
       "    </tr>\n",
       "    <tr>\n",
       "      <th>Yuba College</th>\n",
       "      <td>MATH-1A 4 UNITS\\nSingle Variable Calculus I - ...</td>\n",
       "      <td>NaN</td>\n",
       "      <td>NaN</td>\n",
       "      <td>NaN</td>\n",
       "      <td>COMSC-15 3 UNITS\\nDiscrete Structures for Comp...</td>\n",
       "      <td>NaN</td>\n",
       "      <td>COMSC-2 3 UNITS\\nComputer Assembly Language\\nT...</td>\n",
       "      <td>NaN</td>\n",
       "    </tr>\n",
       "  </tbody>\n",
       "</table>\n",
       "<p>63 rows × 8 columns</p>\n",
       "</div>"
      ],
      "text/plain": [
       "                                                                                          MATH226 eqv  \\\n",
       "School                                                                                                  \n",
       "SFSU                                                MATH 226 - Calculus I\\n4 Units\\n\\nGraphs. Diff...   \n",
       "Berkeley City College                               MATH 3A - Calculus I\\n5 Units, 5 lecture hours...   \n",
       "California Polytechnic State University, Humboldt   MATH 109 - Calculus I\\n4 Units, 4 Lecture hour...   \n",
       "California Polytechnic State University, Pomona     MAT 1140 - Calculus I\\n4 Units\\nPrerequisites:...   \n",
       "California Polytechnic State University, San Lu...  MATH 141 - Calculus I\\n4 Units\\nGE Area B1\\nPr...   \n",
       "...                                                                                               ...   \n",
       "Solano Community College                            MATH020:\\n\\n4.0 Units\\nPrint\\nDescription:\\n\\n...   \n",
       "Sonoma State University                             MATH 161 - Differential and Integral Calculus ...   \n",
       "Ventura College                                     MATH V21A Calculus with Analytic Geometry I 5 ...   \n",
       "West Valley College                                 MATH 003A: Calculus and Analytical Geometry\\nC...   \n",
       "Yuba College                                        MATH-1A 4 UNITS\\nSingle Variable Calculus I - ...   \n",
       "\n",
       "                                                                                     MATH226 mult eqv  \\\n",
       "School                                                                                                  \n",
       "SFSU                                                                                              NaN   \n",
       "Berkeley City College                                                                             NaN   \n",
       "California Polytechnic State University, Humboldt                                                 NaN   \n",
       "California Polytechnic State University, Pomona                                                   NaN   \n",
       "California Polytechnic State University, San Lu...  MATH 142 - Calculus II\\n4 units\\nGE Area B1\\nP...   \n",
       "...                                                                                               ...   \n",
       "Solano Community College                                                                          NaN   \n",
       "Sonoma State University                                                                           NaN   \n",
       "Ventura College                                                                                   NaN   \n",
       "West Valley College                                                                               NaN   \n",
       "Yuba College                                                                                      NaN   \n",
       "\n",
       "                                                                                      MATH226 alt eqv  \\\n",
       "School                                                                                                  \n",
       "SFSU                                                                                              NaN   \n",
       "Berkeley City College                                                                             NaN   \n",
       "California Polytechnic State University, Humboldt                                                 NaN   \n",
       "California Polytechnic State University, Pomona                                                   NaN   \n",
       "California Polytechnic State University, San Lu...  HNRS 141 - Calculus I \\n4 Units \\nPrerequisite...   \n",
       "...                                                                                               ...   \n",
       "Solano Community College                                                                          NaN   \n",
       "Sonoma State University                                                                           NaN   \n",
       "Ventura College                                                                                   NaN   \n",
       "West Valley College                                                                               NaN   \n",
       "Yuba College                                                                                      NaN   \n",
       "\n",
       "                                                                                 MATH226 alt mult eqv  \\\n",
       "School                                                                                                  \n",
       "SFSU                                                                                              NaN   \n",
       "Berkeley City College                                                                             NaN   \n",
       "California Polytechnic State University, Humboldt                                                 NaN   \n",
       "California Polytechnic State University, Pomona                                                   NaN   \n",
       "California Polytechnic State University, San Lu...  HNRS 142 - Calculus II \\n4 units\\nPrerequisite...   \n",
       "...                                                                                               ...   \n",
       "Solano Community College                                                                          NaN   \n",
       "Sonoma State University                                                                           NaN   \n",
       "Ventura College                                                                                   NaN   \n",
       "West Valley College                                                                               NaN   \n",
       "Yuba College                                                                                      NaN   \n",
       "\n",
       "                                                                                           CSC230 eqv  \\\n",
       "School                                                                                                  \n",
       "SFSU                                                CSC 230 - Discrete Mathematical Structures for...   \n",
       "Berkeley City College                                  MATH 11 - Discrete Mathematics\\n4 units\\n\\nN/A   \n",
       "California Polytechnic State University, Humboldt   MATH 253 - Discrete Mathematics\\n3 Units, 3 Le...   \n",
       "California Polytechnic State University, Pomona     CS 1300 - Discrete Structures\\n4 Units\\nPrereq...   \n",
       "California Polytechnic State University, San Lu...                                                NaN   \n",
       "...                                                                                               ...   \n",
       "Solano Community College                            CIS021:\\n\\n3.0 Units\\nPrint\\nDescription:\\n\\nA...   \n",
       "Sonoma State University                                                                           NaN   \n",
       "Ventura College                                     MATH V52 Discrete Structures 3 Units\\nSame-As:...   \n",
       "West Valley College                                 MATH 019: Discrete Mathematics\\nCourse Descrip...   \n",
       "Yuba College                                        COMSC-15 3 UNITS\\nDiscrete Structures for Comp...   \n",
       "\n",
       "                                                                                       CSC230 alt eqv  \\\n",
       "School                                                                                                  \n",
       "SFSU                                                                                              NaN   \n",
       "Berkeley City College                                                                             NaN   \n",
       "California Polytechnic State University, Humboldt                                                 NaN   \n",
       "California Polytechnic State University, Pomona                                                   NaN   \n",
       "California Polytechnic State University, San Lu...                                                NaN   \n",
       "...                                                                                               ...   \n",
       "Solano Community College                                                                          NaN   \n",
       "Sonoma State University                                                                           NaN   \n",
       "Ventura College                                     CS V17 Discrete Structures 3 Units\\nSame-As: M...   \n",
       "West Valley College                                                                               NaN   \n",
       "Yuba College                                                                                      NaN   \n",
       "\n",
       "                                                                                           CSC256 eqv  \\\n",
       "School                                                                                                  \n",
       "SFSU                                                CSC 256 - Machine Structures\\n3 Units\\n\\nDigit...   \n",
       "Berkeley City College                               CIS 20: Microcomputer Assembly Language\\n4 Uni...   \n",
       "California Polytechnic State University, Humboldt                                                 NaN   \n",
       "California Polytechnic State University, Pomona     CS 2640 - Computer Organization and Assembly P...   \n",
       "California Polytechnic State University, San Lu...                                                NaN   \n",
       "...                                                                                               ...   \n",
       "Solano Community College                            CIS020:\\n\\n3.0 Units\\nPrint\\nDescription:\\n\\nA...   \n",
       "Sonoma State University                                                                           NaN   \n",
       "Ventura College                                                                                   NaN   \n",
       "West Valley College                                                                               NaN   \n",
       "Yuba College                                        COMSC-2 3 UNITS\\nComputer Assembly Language\\nT...   \n",
       "\n",
       "                                                   CSC256 multipleEqv  \n",
       "School                                                                 \n",
       "SFSU                                                              NaN  \n",
       "Berkeley City College                                             NaN  \n",
       "California Polytechnic State University, Humboldt                 NaN  \n",
       "California Polytechnic State University, Pomona                   NaN  \n",
       "California Polytechnic State University, San Lu...                NaN  \n",
       "...                                                               ...  \n",
       "Solano Community College                                          NaN  \n",
       "Sonoma State University                                           NaN  \n",
       "Ventura College                                                   NaN  \n",
       "West Valley College                                               NaN  \n",
       "Yuba College                                                      NaN  \n",
       "\n",
       "[63 rows x 8 columns]"
      ]
     },
     "execution_count": 166,
     "metadata": {},
     "output_type": "execute_result"
    }
   ],
   "source": [
    "df"
   ]
  },
  {
   "cell_type": "markdown",
   "metadata": {},
   "source": [
    "# Extract Topics\n",
    "\n",
    "Exploration and testing of topic (and general data) extraction."
   ]
  },
  {
   "cell_type": "markdown",
   "metadata": {},
   "source": [
    "## Initialize LLM"
   ]
  },
  {
   "cell_type": "code",
   "execution_count": 167,
   "metadata": {},
   "outputs": [],
   "source": [
    "# llm_cohere = ChatCohere(temperature=0)\n",
    "# cgpt = OpenAI(model_name=\"text-davinci-003\", temperature=0)\n",
    "# cohere = Cohere(model=\"command\", temperature=0)\n",
    "palm = GooglePalm(model_name=\"models/text-bison-001\", temperature=0)"
   ]
  },
  {
   "cell_type": "markdown",
   "metadata": {},
   "source": [
    "## Create Course Class for Output Parsing"
   ]
  },
  {
   "cell_type": "code",
   "execution_count": 168,
   "metadata": {},
   "outputs": [],
   "source": [
    "class Course(BaseModel):\n",
    "    name: str = Field(description=\"name of the course\")\n",
    "    discipline: str = Field(description=\"academic discipline of the course\")\n",
    "    # add college name?\n",
    "    topics: List[str] = Field(description=\"list of topics that the course covers\")\n",
    "\n",
    "course_parser = PydanticOutputParser(pydantic_object=Course)"
   ]
  },
  {
   "cell_type": "markdown",
   "metadata": {},
   "source": [
    "## Create Prompt from Template"
   ]
  },
  {
   "cell_type": "markdown",
   "metadata": {},
   "source": [
    "### Prompt Template for Prompt Generation"
   ]
  },
  {
   "cell_type": "code",
   "execution_count": 169,
   "metadata": {},
   "outputs": [],
   "source": [
    "# Prompt Template to extract only course information\n",
    "# course_query = \"\"\"\\\n",
    "# For the course description, extract the course information.\\n\\\n",
    "# {format_instructions}\\n\\n\\\n",
    "# This is the course description to be analyzed:\\n```{course_desc}```\\n\n",
    "# \"\"\"\n",
    "\n",
    "course_prompt_template = \"\"\"\n",
    "For the course description, extract the course information.  Categorize the \\\n",
    "academic discipline that the course belongs to.\\n\n",
    "{format_instructions}\\n\\n\n",
    "This is the course description to be analyzed:\\n{course_desc}\\n\n",
    "\"\"\"\n",
    "\n",
    "course_desc = df.iloc[2,4]"
   ]
  },
  {
   "cell_type": "code",
   "execution_count": 170,
   "metadata": {},
   "outputs": [
    {
     "data": {
      "text/plain": [
       "'MATH 253 - Discrete Mathematics\\n3 Units, 3 Lecture Hours\\nPrerequisites: MATH 101T (C), or MATH 102 and CS 111\\n\\nSets, functions, relations, algorithms, induction, recursion, combinatorics, graphs, trees, and propositional logic.'"
      ]
     },
     "execution_count": 170,
     "metadata": {},
     "output_type": "execute_result"
    }
   ],
   "source": [
    "course_desc"
   ]
  },
  {
   "cell_type": "code",
   "execution_count": 171,
   "metadata": {},
   "outputs": [],
   "source": [
    "course_prompt = PromptTemplate(\n",
    "    template=course_prompt_template,\n",
    "    input_variables=[\"course_desc\"],\n",
    "    partial_variables={\"format_instructions\": course_parser.get_format_instructions()}\n",
    ")"
   ]
  },
  {
   "cell_type": "code",
   "execution_count": 172,
   "metadata": {},
   "outputs": [],
   "source": [
    "_input = course_prompt.format_prompt(course_desc=course_desc)"
   ]
  },
  {
   "cell_type": "code",
   "execution_count": 173,
   "metadata": {},
   "outputs": [
    {
     "name": "stdout",
     "output_type": "stream",
     "text": [
      "\n",
      "For the course description, extract the course information.  Categorize the academic discipline that the course belongs to.\n",
      "\n",
      "The output should be formatted as a JSON instance that conforms to the JSON schema below.\n",
      "\n",
      "As an example, for the schema {\"properties\": {\"foo\": {\"title\": \"Foo\", \"description\": \"a list of strings\", \"type\": \"array\", \"items\": {\"type\": \"string\"}}}, \"required\": [\"foo\"]}\n",
      "the object {\"foo\": [\"bar\", \"baz\"]} is a well-formatted instance of the schema. The object {\"properties\": {\"foo\": [\"bar\", \"baz\"]}} is not well-formatted.\n",
      "\n",
      "Here is the output schema:\n",
      "```\n",
      "{\"properties\": {\"name\": {\"title\": \"Name\", \"description\": \"name of the course\", \"type\": \"string\"}, \"discipline\": {\"title\": \"Discipline\", \"description\": \"academic discipline of the course\", \"type\": \"string\"}, \"topics\": {\"title\": \"Topics\", \"description\": \"list of topics that the course covers\", \"type\": \"array\", \"items\": {\"type\": \"string\"}}}, \"required\": [\"name\", \"discipline\", \"topics\"]}\n",
      "```\n",
      "\n",
      "\n",
      "This is the course description to be analyzed:\n",
      "MATH 253 - Discrete Mathematics\n",
      "3 Units, 3 Lecture Hours\n",
      "Prerequisites: MATH 101T (C), or MATH 102 and CS 111\n",
      "\n",
      "Sets, functions, relations, algorithms, induction, recursion, combinatorics, graphs, trees, and propositional logic.\n",
      "\n",
      "\n"
     ]
    }
   ],
   "source": [
    "print(_input.to_string())"
   ]
  },
  {
   "cell_type": "code",
   "execution_count": 174,
   "metadata": {},
   "outputs": [],
   "source": [
    "# output_cohere = cohere(_input.to_string())\n",
    "# output_cgpt = cgpt(_input.to_string())"
   ]
  },
  {
   "cell_type": "code",
   "execution_count": 175,
   "metadata": {},
   "outputs": [],
   "source": [
    "course_output_palm = palm(_input.to_string())"
   ]
  },
  {
   "cell_type": "code",
   "execution_count": 176,
   "metadata": {},
   "outputs": [
    {
     "data": {
      "text/plain": [
       "'```\\n{\\n  \"name\": \"MATH 253 - Discrete Mathematics\",\\n  \"discipline\": \"Mathematics\",\\n  \"topics\": [\"Sets\", \"Functions\", \"Relations\", \"Algorithms\", \"Induction\", \"Recursion\", \"Combinatorics\", \"Graphs\", \"Trees\", \"Propositional Logic\"]\\n}\\n```'"
      ]
     },
     "execution_count": 176,
     "metadata": {},
     "output_type": "execute_result"
    }
   ],
   "source": [
    "course_output_palm"
   ]
  },
  {
   "cell_type": "code",
   "execution_count": 177,
   "metadata": {},
   "outputs": [],
   "source": [
    "course_data_palm = course_parser.parse(course_output_palm)"
   ]
  },
  {
   "cell_type": "code",
   "execution_count": 178,
   "metadata": {},
   "outputs": [
    {
     "data": {
      "text/plain": [
       "'Mathematics'"
      ]
     },
     "execution_count": 178,
     "metadata": {},
     "output_type": "execute_result"
    }
   ],
   "source": [
    "course_data_palm.discipline"
   ]
  },
  {
   "cell_type": "markdown",
   "metadata": {},
   "source": [
    "# Process Entire DataFrame\n",
    "\n",
    "Here, I take the exploration that was completed above to develop functions that\n",
    "allow for our entire dataframe to be processed."
   ]
  },
  {
   "cell_type": "code",
   "execution_count": 251,
   "metadata": {},
   "outputs": [],
   "source": [
    "from tqdm.auto import tqdm\n",
    "\n",
    "def process_course(course_desc: str):\n",
    "    if course_desc is np.NaN:\n",
    "        return np.NaN\n",
    "    _input = prompt.format_prompt(course_desc=course_desc)\n",
    "    result = palm(_input.to_string())\n",
    "    return result\n",
    "\n",
    "def process_all_courses(df: pd.DataFrame):\n",
    "    for col in tqdm(df.columns, desc=\"Total Progress\", position=0):\n",
    "        df[f\"{col} data\"] = list(map(process_course, tqdm(df.loc[:, col], desc=f\"{col}\", position=1)))\n",
    "    return df"
   ]
  },
  {
   "cell_type": "code",
   "execution_count": 252,
   "metadata": {},
   "outputs": [
    {
     "data": {
      "text/html": [
       "<div>\n",
       "<style scoped>\n",
       "    .dataframe tbody tr th:only-of-type {\n",
       "        vertical-align: middle;\n",
       "    }\n",
       "\n",
       "    .dataframe tbody tr th {\n",
       "        vertical-align: top;\n",
       "    }\n",
       "\n",
       "    .dataframe thead th {\n",
       "        text-align: right;\n",
       "    }\n",
       "</style>\n",
       "<table border=\"1\" class=\"dataframe\">\n",
       "  <thead>\n",
       "    <tr style=\"text-align: right;\">\n",
       "      <th></th>\n",
       "      <th>MATH226 eqv</th>\n",
       "      <th>MATH226 mult eqv</th>\n",
       "      <th>MATH226 alt eqv</th>\n",
       "      <th>MATH226 alt mult eqv</th>\n",
       "      <th>CSC230 eqv</th>\n",
       "      <th>CSC230 alt eqv</th>\n",
       "      <th>CSC256 eqv</th>\n",
       "      <th>CSC256 multipleEqv</th>\n",
       "      <th>MATH226 eqv data</th>\n",
       "      <th>MATH226 mult eqv data</th>\n",
       "      <th>MATH226 alt eqv data</th>\n",
       "      <th>MATH226 alt mult eqv data</th>\n",
       "      <th>CSC230 eqv data</th>\n",
       "      <th>CSC230 alt eqv data</th>\n",
       "      <th>CSC256 eqv data</th>\n",
       "      <th>CSC256 multipleEqv data</th>\n",
       "    </tr>\n",
       "    <tr>\n",
       "      <th>School</th>\n",
       "      <th></th>\n",
       "      <th></th>\n",
       "      <th></th>\n",
       "      <th></th>\n",
       "      <th></th>\n",
       "      <th></th>\n",
       "      <th></th>\n",
       "      <th></th>\n",
       "      <th></th>\n",
       "      <th></th>\n",
       "      <th></th>\n",
       "      <th></th>\n",
       "      <th></th>\n",
       "      <th></th>\n",
       "      <th></th>\n",
       "      <th></th>\n",
       "    </tr>\n",
       "  </thead>\n",
       "  <tbody>\n",
       "    <tr>\n",
       "      <th>California Polytechnic State University, Humboldt</th>\n",
       "      <td>MATH 109 - Calculus I\\n4 Units, 4 Lecture hour...</td>\n",
       "      <td>NaN</td>\n",
       "      <td>NaN</td>\n",
       "      <td>NaN</td>\n",
       "      <td>MATH 253 - Discrete Mathematics\\n3 Units, 3 Le...</td>\n",
       "      <td>NaN</td>\n",
       "      <td>NaN</td>\n",
       "      <td>NaN</td>\n",
       "      <td>```\\n{\\n  \"name\": \"MATH 109 - Calculus I\",\\n  ...</td>\n",
       "      <td>NaN</td>\n",
       "      <td>NaN</td>\n",
       "      <td>NaN</td>\n",
       "      <td>```\\n{\\n  \"name\": \"MATH 253 - Discrete Mathema...</td>\n",
       "      <td>NaN</td>\n",
       "      <td>NaN</td>\n",
       "      <td>NaN</td>\n",
       "    </tr>\n",
       "    <tr>\n",
       "      <th>California Polytechnic State University, Pomona</th>\n",
       "      <td>MAT 1140 - Calculus I\\n4 Units\\nPrerequisites:...</td>\n",
       "      <td>NaN</td>\n",
       "      <td>NaN</td>\n",
       "      <td>NaN</td>\n",
       "      <td>CS 1300 - Discrete Structures\\n4 Units\\nPrereq...</td>\n",
       "      <td>NaN</td>\n",
       "      <td>CS 2640 - Computer Organization and Assembly P...</td>\n",
       "      <td>NaN</td>\n",
       "      <td>```\\n{\\n  \"name\": \"MAT 1140 - Calculus I\",\\n  ...</td>\n",
       "      <td>NaN</td>\n",
       "      <td>NaN</td>\n",
       "      <td>NaN</td>\n",
       "      <td>```\\n{\\n  \"name\": \"CS 1300 - Discrete Structur...</td>\n",
       "      <td>NaN</td>\n",
       "      <td>```\\n{\\n  \"name\": \"CS 2640 - Computer Organiza...</td>\n",
       "      <td>NaN</td>\n",
       "    </tr>\n",
       "    <tr>\n",
       "      <th>California Polytechnic State University, San Luis Obispo</th>\n",
       "      <td>MATH 141 - Calculus I\\n4 Units\\nGE Area B1\\nPr...</td>\n",
       "      <td>MATH 142 - Calculus II\\n4 units\\nGE Area B1\\nP...</td>\n",
       "      <td>HNRS 141 - Calculus I \\n4 Units \\nPrerequisite...</td>\n",
       "      <td>HNRS 142 - Calculus II \\n4 units\\nPrerequisite...</td>\n",
       "      <td>NaN</td>\n",
       "      <td>NaN</td>\n",
       "      <td>NaN</td>\n",
       "      <td>NaN</td>\n",
       "      <td>{\"name\": \"MATH 141 - Calculus I\", \"discipline\"...</td>\n",
       "      <td>```\\n{\\n  \"name\": \"MATH 142 - Calculus II\",\\n ...</td>\n",
       "      <td>```\\n{\\n  \"name\": \"HNRS 141 - Calculus I\",\\n  ...</td>\n",
       "      <td>```\\n{\\n  \"name\": \"HNRS 142 - Calculus II\",\\n ...</td>\n",
       "      <td>NaN</td>\n",
       "      <td>NaN</td>\n",
       "      <td>NaN</td>\n",
       "      <td>NaN</td>\n",
       "    </tr>\n",
       "  </tbody>\n",
       "</table>\n",
       "</div>"
      ],
      "text/plain": [
       "                                                                                          MATH226 eqv  \\\n",
       "School                                                                                                  \n",
       "California Polytechnic State University, Humboldt   MATH 109 - Calculus I\\n4 Units, 4 Lecture hour...   \n",
       "California Polytechnic State University, Pomona     MAT 1140 - Calculus I\\n4 Units\\nPrerequisites:...   \n",
       "California Polytechnic State University, San Lu...  MATH 141 - Calculus I\\n4 Units\\nGE Area B1\\nPr...   \n",
       "\n",
       "                                                                                     MATH226 mult eqv  \\\n",
       "School                                                                                                  \n",
       "California Polytechnic State University, Humboldt                                                 NaN   \n",
       "California Polytechnic State University, Pomona                                                   NaN   \n",
       "California Polytechnic State University, San Lu...  MATH 142 - Calculus II\\n4 units\\nGE Area B1\\nP...   \n",
       "\n",
       "                                                                                      MATH226 alt eqv  \\\n",
       "School                                                                                                  \n",
       "California Polytechnic State University, Humboldt                                                 NaN   \n",
       "California Polytechnic State University, Pomona                                                   NaN   \n",
       "California Polytechnic State University, San Lu...  HNRS 141 - Calculus I \\n4 Units \\nPrerequisite...   \n",
       "\n",
       "                                                                                 MATH226 alt mult eqv  \\\n",
       "School                                                                                                  \n",
       "California Polytechnic State University, Humboldt                                                 NaN   \n",
       "California Polytechnic State University, Pomona                                                   NaN   \n",
       "California Polytechnic State University, San Lu...  HNRS 142 - Calculus II \\n4 units\\nPrerequisite...   \n",
       "\n",
       "                                                                                           CSC230 eqv  \\\n",
       "School                                                                                                  \n",
       "California Polytechnic State University, Humboldt   MATH 253 - Discrete Mathematics\\n3 Units, 3 Le...   \n",
       "California Polytechnic State University, Pomona     CS 1300 - Discrete Structures\\n4 Units\\nPrereq...   \n",
       "California Polytechnic State University, San Lu...                                                NaN   \n",
       "\n",
       "                                                   CSC230 alt eqv  \\\n",
       "School                                                              \n",
       "California Polytechnic State University, Humboldt             NaN   \n",
       "California Polytechnic State University, Pomona               NaN   \n",
       "California Polytechnic State University, San Lu...            NaN   \n",
       "\n",
       "                                                                                           CSC256 eqv  \\\n",
       "School                                                                                                  \n",
       "California Polytechnic State University, Humboldt                                                 NaN   \n",
       "California Polytechnic State University, Pomona     CS 2640 - Computer Organization and Assembly P...   \n",
       "California Polytechnic State University, San Lu...                                                NaN   \n",
       "\n",
       "                                                   CSC256 multipleEqv  \\\n",
       "School                                                                  \n",
       "California Polytechnic State University, Humboldt                 NaN   \n",
       "California Polytechnic State University, Pomona                   NaN   \n",
       "California Polytechnic State University, San Lu...                NaN   \n",
       "\n",
       "                                                                                     MATH226 eqv data  \\\n",
       "School                                                                                                  \n",
       "California Polytechnic State University, Humboldt   ```\\n{\\n  \"name\": \"MATH 109 - Calculus I\",\\n  ...   \n",
       "California Polytechnic State University, Pomona     ```\\n{\\n  \"name\": \"MAT 1140 - Calculus I\",\\n  ...   \n",
       "California Polytechnic State University, San Lu...  {\"name\": \"MATH 141 - Calculus I\", \"discipline\"...   \n",
       "\n",
       "                                                                                MATH226 mult eqv data  \\\n",
       "School                                                                                                  \n",
       "California Polytechnic State University, Humboldt                                                 NaN   \n",
       "California Polytechnic State University, Pomona                                                   NaN   \n",
       "California Polytechnic State University, San Lu...  ```\\n{\\n  \"name\": \"MATH 142 - Calculus II\",\\n ...   \n",
       "\n",
       "                                                                                 MATH226 alt eqv data  \\\n",
       "School                                                                                                  \n",
       "California Polytechnic State University, Humboldt                                                 NaN   \n",
       "California Polytechnic State University, Pomona                                                   NaN   \n",
       "California Polytechnic State University, San Lu...  ```\\n{\\n  \"name\": \"HNRS 141 - Calculus I\",\\n  ...   \n",
       "\n",
       "                                                                            MATH226 alt mult eqv data  \\\n",
       "School                                                                                                  \n",
       "California Polytechnic State University, Humboldt                                                 NaN   \n",
       "California Polytechnic State University, Pomona                                                   NaN   \n",
       "California Polytechnic State University, San Lu...  ```\\n{\\n  \"name\": \"HNRS 142 - Calculus II\",\\n ...   \n",
       "\n",
       "                                                                                      CSC230 eqv data  \\\n",
       "School                                                                                                  \n",
       "California Polytechnic State University, Humboldt   ```\\n{\\n  \"name\": \"MATH 253 - Discrete Mathema...   \n",
       "California Polytechnic State University, Pomona     ```\\n{\\n  \"name\": \"CS 1300 - Discrete Structur...   \n",
       "California Polytechnic State University, San Lu...                                                NaN   \n",
       "\n",
       "                                                   CSC230 alt eqv data  \\\n",
       "School                                                                   \n",
       "California Polytechnic State University, Humboldt                  NaN   \n",
       "California Polytechnic State University, Pomona                    NaN   \n",
       "California Polytechnic State University, San Lu...                 NaN   \n",
       "\n",
       "                                                                                      CSC256 eqv data  \\\n",
       "School                                                                                                  \n",
       "California Polytechnic State University, Humboldt                                                 NaN   \n",
       "California Polytechnic State University, Pomona     ```\\n{\\n  \"name\": \"CS 2640 - Computer Organiza...   \n",
       "California Polytechnic State University, San Lu...                                                NaN   \n",
       "\n",
       "                                                   CSC256 multipleEqv data  \n",
       "School                                                                      \n",
       "California Polytechnic State University, Humboldt                      NaN  \n",
       "California Polytechnic State University, Pomona                        NaN  \n",
       "California Polytechnic State University, San Lu...                     NaN  "
      ]
     },
     "execution_count": 252,
     "metadata": {},
     "output_type": "execute_result"
    }
   ],
   "source": [
    "toy_df = df.iloc[2:5].copy()\n",
    "toy_df"
   ]
  },
  {
   "cell_type": "code",
   "execution_count": 250,
   "metadata": {},
   "outputs": [
    {
     "data": {
      "application/vnd.jupyter.widget-view+json": {
       "model_id": "4d4bb53f5e504bc6b991428d999fac1d",
       "version_major": 2,
       "version_minor": 0
      },
      "text/plain": [
       "Total Progress:   0%|          | 0/16 [00:00<?, ?it/s]"
      ]
     },
     "metadata": {},
     "output_type": "display_data"
    },
    {
     "data": {
      "application/vnd.jupyter.widget-view+json": {
       "model_id": "58cd36e52c7b4e1fbe7e7f4229a554d9",
       "version_major": 2,
       "version_minor": 0
      },
      "text/plain": [
       "Column: MATH226 eqv:   0%|          | 0/3 [00:00<?, ?it/s]"
      ]
     },
     "metadata": {},
     "output_type": "display_data"
    },
    {
     "data": {
      "application/vnd.jupyter.widget-view+json": {
       "model_id": "6f50a18b4f9f460bb56d583e3d8e9708",
       "version_major": 2,
       "version_minor": 0
      },
      "text/plain": [
       "Column: MATH226 mult eqv:   0%|          | 0/3 [00:00<?, ?it/s]"
      ]
     },
     "metadata": {},
     "output_type": "display_data"
    },
    {
     "data": {
      "application/vnd.jupyter.widget-view+json": {
       "model_id": "0f82082137cf44048fccf159a24886ef",
       "version_major": 2,
       "version_minor": 0
      },
      "text/plain": [
       "Column: MATH226 alt eqv:   0%|          | 0/3 [00:00<?, ?it/s]"
      ]
     },
     "metadata": {},
     "output_type": "display_data"
    },
    {
     "data": {
      "application/vnd.jupyter.widget-view+json": {
       "model_id": "41d2b18ed61a41b1ae0cf8b02e24d1ce",
       "version_major": 2,
       "version_minor": 0
      },
      "text/plain": [
       "Column: MATH226 alt mult eqv:   0%|          | 0/3 [00:00<?, ?it/s]"
      ]
     },
     "metadata": {},
     "output_type": "display_data"
    },
    {
     "data": {
      "application/vnd.jupyter.widget-view+json": {
       "model_id": "d0ed806042c840eeaa314bb81a2ed5c7",
       "version_major": 2,
       "version_minor": 0
      },
      "text/plain": [
       "Column: CSC230 eqv:   0%|          | 0/3 [00:00<?, ?it/s]"
      ]
     },
     "metadata": {},
     "output_type": "display_data"
    },
    {
     "data": {
      "application/vnd.jupyter.widget-view+json": {
       "model_id": "756b38b004e04780a52867613d3fbca1",
       "version_major": 2,
       "version_minor": 0
      },
      "text/plain": [
       "Column: CSC230 alt eqv:   0%|          | 0/3 [00:00<?, ?it/s]"
      ]
     },
     "metadata": {},
     "output_type": "display_data"
    },
    {
     "data": {
      "application/vnd.jupyter.widget-view+json": {
       "model_id": "2af31b45c543491f92b1961f5b299905",
       "version_major": 2,
       "version_minor": 0
      },
      "text/plain": [
       "Column: CSC256 eqv:   0%|          | 0/3 [00:00<?, ?it/s]"
      ]
     },
     "metadata": {},
     "output_type": "display_data"
    },
    {
     "data": {
      "application/vnd.jupyter.widget-view+json": {
       "model_id": "f21067469fcc418d94d77ea801e19a44",
       "version_major": 2,
       "version_minor": 0
      },
      "text/plain": [
       "Column: CSC256 multipleEqv:   0%|          | 0/3 [00:00<?, ?it/s]"
      ]
     },
     "metadata": {},
     "output_type": "display_data"
    },
    {
     "data": {
      "application/vnd.jupyter.widget-view+json": {
       "model_id": "a447060ff1414d13b5005eb2a6b4fb8e",
       "version_major": 2,
       "version_minor": 0
      },
      "text/plain": [
       "Column: MATH226 eqv data:   0%|          | 0/3 [00:00<?, ?it/s]"
      ]
     },
     "metadata": {},
     "output_type": "display_data"
    },
    {
     "data": {
      "application/vnd.jupyter.widget-view+json": {
       "model_id": "a8e78d2408a844998146e9df215e8a1b",
       "version_major": 2,
       "version_minor": 0
      },
      "text/plain": [
       "Column: MATH226 mult eqv data:   0%|          | 0/3 [00:00<?, ?it/s]"
      ]
     },
     "metadata": {},
     "output_type": "display_data"
    },
    {
     "data": {
      "application/vnd.jupyter.widget-view+json": {
       "model_id": "9bff1683be3f47b88553a69ab3601e59",
       "version_major": 2,
       "version_minor": 0
      },
      "text/plain": [
       "Column: MATH226 alt eqv data:   0%|          | 0/3 [00:00<?, ?it/s]"
      ]
     },
     "metadata": {},
     "output_type": "display_data"
    },
    {
     "data": {
      "application/vnd.jupyter.widget-view+json": {
       "model_id": "55f2d168d05941dcb1d48dd1c0882e75",
       "version_major": 2,
       "version_minor": 0
      },
      "text/plain": [
       "Column: MATH226 alt mult eqv data:   0%|          | 0/3 [00:00<?, ?it/s]"
      ]
     },
     "metadata": {},
     "output_type": "display_data"
    },
    {
     "data": {
      "application/vnd.jupyter.widget-view+json": {
       "model_id": "ae788741912e4e3698422103a794edd7",
       "version_major": 2,
       "version_minor": 0
      },
      "text/plain": [
       "Column: CSC230 eqv data:   0%|          | 0/3 [00:00<?, ?it/s]"
      ]
     },
     "metadata": {},
     "output_type": "display_data"
    },
    {
     "data": {
      "application/vnd.jupyter.widget-view+json": {
       "model_id": "dd3e8cca315d4676a9b70f2fd73214fb",
       "version_major": 2,
       "version_minor": 0
      },
      "text/plain": [
       "Column: CSC230 alt eqv data:   0%|          | 0/3 [00:00<?, ?it/s]"
      ]
     },
     "metadata": {},
     "output_type": "display_data"
    },
    {
     "data": {
      "application/vnd.jupyter.widget-view+json": {
       "model_id": "07f8841f677b4aaca4ded6965e743034",
       "version_major": 2,
       "version_minor": 0
      },
      "text/plain": [
       "Column: CSC256 eqv data:   0%|          | 0/3 [00:00<?, ?it/s]"
      ]
     },
     "metadata": {},
     "output_type": "display_data"
    },
    {
     "data": {
      "application/vnd.jupyter.widget-view+json": {
       "model_id": "a1c50bbf987149e2a40210eff124774a",
       "version_major": 2,
       "version_minor": 0
      },
      "text/plain": [
       "Column: CSC256 multipleEqv data:   0%|          | 0/3 [00:00<?, ?it/s]"
      ]
     },
     "metadata": {},
     "output_type": "display_data"
    },
    {
     "data": {
      "text/html": [
       "<div>\n",
       "<style scoped>\n",
       "    .dataframe tbody tr th:only-of-type {\n",
       "        vertical-align: middle;\n",
       "    }\n",
       "\n",
       "    .dataframe tbody tr th {\n",
       "        vertical-align: top;\n",
       "    }\n",
       "\n",
       "    .dataframe thead th {\n",
       "        text-align: right;\n",
       "    }\n",
       "</style>\n",
       "<table border=\"1\" class=\"dataframe\">\n",
       "  <thead>\n",
       "    <tr style=\"text-align: right;\">\n",
       "      <th></th>\n",
       "      <th>MATH226 eqv</th>\n",
       "      <th>MATH226 mult eqv</th>\n",
       "      <th>MATH226 alt eqv</th>\n",
       "      <th>MATH226 alt mult eqv</th>\n",
       "      <th>CSC230 eqv</th>\n",
       "      <th>CSC230 alt eqv</th>\n",
       "      <th>CSC256 eqv</th>\n",
       "      <th>CSC256 multipleEqv</th>\n",
       "      <th>MATH226 eqv data</th>\n",
       "      <th>MATH226 mult eqv data</th>\n",
       "      <th>...</th>\n",
       "      <th>CSC256 eqv data</th>\n",
       "      <th>CSC256 multipleEqv data</th>\n",
       "      <th>MATH226 eqv data data</th>\n",
       "      <th>MATH226 mult eqv data data</th>\n",
       "      <th>MATH226 alt eqv data data</th>\n",
       "      <th>MATH226 alt mult eqv data data</th>\n",
       "      <th>CSC230 eqv data data</th>\n",
       "      <th>CSC230 alt eqv data data</th>\n",
       "      <th>CSC256 eqv data data</th>\n",
       "      <th>CSC256 multipleEqv data data</th>\n",
       "    </tr>\n",
       "    <tr>\n",
       "      <th>School</th>\n",
       "      <th></th>\n",
       "      <th></th>\n",
       "      <th></th>\n",
       "      <th></th>\n",
       "      <th></th>\n",
       "      <th></th>\n",
       "      <th></th>\n",
       "      <th></th>\n",
       "      <th></th>\n",
       "      <th></th>\n",
       "      <th></th>\n",
       "      <th></th>\n",
       "      <th></th>\n",
       "      <th></th>\n",
       "      <th></th>\n",
       "      <th></th>\n",
       "      <th></th>\n",
       "      <th></th>\n",
       "      <th></th>\n",
       "      <th></th>\n",
       "      <th></th>\n",
       "    </tr>\n",
       "  </thead>\n",
       "  <tbody>\n",
       "    <tr>\n",
       "      <th>California Polytechnic State University, Humboldt</th>\n",
       "      <td>MATH 109 - Calculus I\\n4 Units, 4 Lecture hour...</td>\n",
       "      <td>NaN</td>\n",
       "      <td>NaN</td>\n",
       "      <td>NaN</td>\n",
       "      <td>MATH 253 - Discrete Mathematics\\n3 Units, 3 Le...</td>\n",
       "      <td>NaN</td>\n",
       "      <td>NaN</td>\n",
       "      <td>NaN</td>\n",
       "      <td>```\\n{\\n  \"name\": \"MATH 109 - Calculus I\",\\n  ...</td>\n",
       "      <td>NaN</td>\n",
       "      <td>...</td>\n",
       "      <td>NaN</td>\n",
       "      <td>NaN</td>\n",
       "      <td>```\\n{\\n  \"name\": \"MATH 109 - Calculus I\",\\n  ...</td>\n",
       "      <td>NaN</td>\n",
       "      <td>NaN</td>\n",
       "      <td>NaN</td>\n",
       "      <td>```\\n{\\n  \"name\": \"MATH 253 - Discrete Mathema...</td>\n",
       "      <td>{\"name\": \"nan\", \"discipline\": \"nan\", \"topics\":...</td>\n",
       "      <td>NaN</td>\n",
       "      <td>{\"name\": \"nan\", \"discipline\": \"nan\", \"topics\":...</td>\n",
       "    </tr>\n",
       "    <tr>\n",
       "      <th>California Polytechnic State University, Pomona</th>\n",
       "      <td>MAT 1140 - Calculus I\\n4 Units\\nPrerequisites:...</td>\n",
       "      <td>NaN</td>\n",
       "      <td>NaN</td>\n",
       "      <td>NaN</td>\n",
       "      <td>CS 1300 - Discrete Structures\\n4 Units\\nPrereq...</td>\n",
       "      <td>NaN</td>\n",
       "      <td>CS 2640 - Computer Organization and Assembly P...</td>\n",
       "      <td>NaN</td>\n",
       "      <td>```\\n{\\n  \"name\": \"MAT 1140 - Calculus I\",\\n  ...</td>\n",
       "      <td>NaN</td>\n",
       "      <td>...</td>\n",
       "      <td>```\\n{\\n  \"name\": \"CS 2640 - Computer Organiza...</td>\n",
       "      <td>NaN</td>\n",
       "      <td>```\\n{\\n  \"name\": \"MAT 1140 - Calculus I\",\\n  ...</td>\n",
       "      <td>NaN</td>\n",
       "      <td>NaN</td>\n",
       "      <td>NaN</td>\n",
       "      <td>```\\n{\\n  \"name\": \"CS 1300 - Discrete Structur...</td>\n",
       "      <td>{\"name\": \"nan\", \"discipline\": \"nan\", \"topics\":...</td>\n",
       "      <td>```\\n{\\n  \"name\": \"CS 2640 - Computer Organiza...</td>\n",
       "      <td>{\"name\": \"nan\", \"discipline\": \"nan\", \"topics\":...</td>\n",
       "    </tr>\n",
       "    <tr>\n",
       "      <th>California Polytechnic State University, San Luis Obispo</th>\n",
       "      <td>MATH 141 - Calculus I\\n4 Units\\nGE Area B1\\nPr...</td>\n",
       "      <td>MATH 142 - Calculus II\\n4 units\\nGE Area B1\\nP...</td>\n",
       "      <td>HNRS 141 - Calculus I \\n4 Units \\nPrerequisite...</td>\n",
       "      <td>HNRS 142 - Calculus II \\n4 units\\nPrerequisite...</td>\n",
       "      <td>NaN</td>\n",
       "      <td>NaN</td>\n",
       "      <td>NaN</td>\n",
       "      <td>NaN</td>\n",
       "      <td>{\"name\": \"MATH 141 - Calculus I\", \"discipline\"...</td>\n",
       "      <td>```\\n{\\n  \"name\": \"MATH 142 - Calculus II\",\\n ...</td>\n",
       "      <td>...</td>\n",
       "      <td>NaN</td>\n",
       "      <td>NaN</td>\n",
       "      <td>{\"name\": \"MATH 141 - Calculus I\", \"discipline\"...</td>\n",
       "      <td>```\\n{\\n  \"name\": \"MATH 142 - Calculus II\",\\n ...</td>\n",
       "      <td>```\\n{\\n  \"name\": \"HNRS 141 - Calculus I\",\\n  ...</td>\n",
       "      <td>```\\n{\\n  \"name\": \"HNRS 142 - Calculus II\",\\n ...</td>\n",
       "      <td>NaN</td>\n",
       "      <td>{\"name\": \"nan\", \"discipline\": \"nan\", \"topics\":...</td>\n",
       "      <td>NaN</td>\n",
       "      <td>{\"name\": \"nan\", \"discipline\": \"nan\", \"topics\":...</td>\n",
       "    </tr>\n",
       "  </tbody>\n",
       "</table>\n",
       "<p>3 rows × 24 columns</p>\n",
       "</div>"
      ],
      "text/plain": [
       "                                                                                          MATH226 eqv  \\\n",
       "School                                                                                                  \n",
       "California Polytechnic State University, Humboldt   MATH 109 - Calculus I\\n4 Units, 4 Lecture hour...   \n",
       "California Polytechnic State University, Pomona     MAT 1140 - Calculus I\\n4 Units\\nPrerequisites:...   \n",
       "California Polytechnic State University, San Lu...  MATH 141 - Calculus I\\n4 Units\\nGE Area B1\\nPr...   \n",
       "\n",
       "                                                                                     MATH226 mult eqv  \\\n",
       "School                                                                                                  \n",
       "California Polytechnic State University, Humboldt                                                 NaN   \n",
       "California Polytechnic State University, Pomona                                                   NaN   \n",
       "California Polytechnic State University, San Lu...  MATH 142 - Calculus II\\n4 units\\nGE Area B1\\nP...   \n",
       "\n",
       "                                                                                      MATH226 alt eqv  \\\n",
       "School                                                                                                  \n",
       "California Polytechnic State University, Humboldt                                                 NaN   \n",
       "California Polytechnic State University, Pomona                                                   NaN   \n",
       "California Polytechnic State University, San Lu...  HNRS 141 - Calculus I \\n4 Units \\nPrerequisite...   \n",
       "\n",
       "                                                                                 MATH226 alt mult eqv  \\\n",
       "School                                                                                                  \n",
       "California Polytechnic State University, Humboldt                                                 NaN   \n",
       "California Polytechnic State University, Pomona                                                   NaN   \n",
       "California Polytechnic State University, San Lu...  HNRS 142 - Calculus II \\n4 units\\nPrerequisite...   \n",
       "\n",
       "                                                                                           CSC230 eqv  \\\n",
       "School                                                                                                  \n",
       "California Polytechnic State University, Humboldt   MATH 253 - Discrete Mathematics\\n3 Units, 3 Le...   \n",
       "California Polytechnic State University, Pomona     CS 1300 - Discrete Structures\\n4 Units\\nPrereq...   \n",
       "California Polytechnic State University, San Lu...                                                NaN   \n",
       "\n",
       "                                                   CSC230 alt eqv  \\\n",
       "School                                                              \n",
       "California Polytechnic State University, Humboldt             NaN   \n",
       "California Polytechnic State University, Pomona               NaN   \n",
       "California Polytechnic State University, San Lu...            NaN   \n",
       "\n",
       "                                                                                           CSC256 eqv  \\\n",
       "School                                                                                                  \n",
       "California Polytechnic State University, Humboldt                                                 NaN   \n",
       "California Polytechnic State University, Pomona     CS 2640 - Computer Organization and Assembly P...   \n",
       "California Polytechnic State University, San Lu...                                                NaN   \n",
       "\n",
       "                                                   CSC256 multipleEqv  \\\n",
       "School                                                                  \n",
       "California Polytechnic State University, Humboldt                 NaN   \n",
       "California Polytechnic State University, Pomona                   NaN   \n",
       "California Polytechnic State University, San Lu...                NaN   \n",
       "\n",
       "                                                                                     MATH226 eqv data  \\\n",
       "School                                                                                                  \n",
       "California Polytechnic State University, Humboldt   ```\\n{\\n  \"name\": \"MATH 109 - Calculus I\",\\n  ...   \n",
       "California Polytechnic State University, Pomona     ```\\n{\\n  \"name\": \"MAT 1140 - Calculus I\",\\n  ...   \n",
       "California Polytechnic State University, San Lu...  {\"name\": \"MATH 141 - Calculus I\", \"discipline\"...   \n",
       "\n",
       "                                                                                MATH226 mult eqv data  \\\n",
       "School                                                                                                  \n",
       "California Polytechnic State University, Humboldt                                                 NaN   \n",
       "California Polytechnic State University, Pomona                                                   NaN   \n",
       "California Polytechnic State University, San Lu...  ```\\n{\\n  \"name\": \"MATH 142 - Calculus II\",\\n ...   \n",
       "\n",
       "                                                    ...  \\\n",
       "School                                              ...   \n",
       "California Polytechnic State University, Humboldt   ...   \n",
       "California Polytechnic State University, Pomona     ...   \n",
       "California Polytechnic State University, San Lu...  ...   \n",
       "\n",
       "                                                                                      CSC256 eqv data  \\\n",
       "School                                                                                                  \n",
       "California Polytechnic State University, Humboldt                                                 NaN   \n",
       "California Polytechnic State University, Pomona     ```\\n{\\n  \"name\": \"CS 2640 - Computer Organiza...   \n",
       "California Polytechnic State University, San Lu...                                                NaN   \n",
       "\n",
       "                                                   CSC256 multipleEqv data  \\\n",
       "School                                                                       \n",
       "California Polytechnic State University, Humboldt                      NaN   \n",
       "California Polytechnic State University, Pomona                        NaN   \n",
       "California Polytechnic State University, San Lu...                     NaN   \n",
       "\n",
       "                                                                                MATH226 eqv data data  \\\n",
       "School                                                                                                  \n",
       "California Polytechnic State University, Humboldt   ```\\n{\\n  \"name\": \"MATH 109 - Calculus I\",\\n  ...   \n",
       "California Polytechnic State University, Pomona     ```\\n{\\n  \"name\": \"MAT 1140 - Calculus I\",\\n  ...   \n",
       "California Polytechnic State University, San Lu...  {\"name\": \"MATH 141 - Calculus I\", \"discipline\"...   \n",
       "\n",
       "                                                                           MATH226 mult eqv data data  \\\n",
       "School                                                                                                  \n",
       "California Polytechnic State University, Humboldt                                                 NaN   \n",
       "California Polytechnic State University, Pomona                                                   NaN   \n",
       "California Polytechnic State University, San Lu...  ```\\n{\\n  \"name\": \"MATH 142 - Calculus II\",\\n ...   \n",
       "\n",
       "                                                                            MATH226 alt eqv data data  \\\n",
       "School                                                                                                  \n",
       "California Polytechnic State University, Humboldt                                                 NaN   \n",
       "California Polytechnic State University, Pomona                                                   NaN   \n",
       "California Polytechnic State University, San Lu...  ```\\n{\\n  \"name\": \"HNRS 141 - Calculus I\",\\n  ...   \n",
       "\n",
       "                                                                       MATH226 alt mult eqv data data  \\\n",
       "School                                                                                                  \n",
       "California Polytechnic State University, Humboldt                                                 NaN   \n",
       "California Polytechnic State University, Pomona                                                   NaN   \n",
       "California Polytechnic State University, San Lu...  ```\\n{\\n  \"name\": \"HNRS 142 - Calculus II\",\\n ...   \n",
       "\n",
       "                                                                                 CSC230 eqv data data  \\\n",
       "School                                                                                                  \n",
       "California Polytechnic State University, Humboldt   ```\\n{\\n  \"name\": \"MATH 253 - Discrete Mathema...   \n",
       "California Polytechnic State University, Pomona     ```\\n{\\n  \"name\": \"CS 1300 - Discrete Structur...   \n",
       "California Polytechnic State University, San Lu...                                                NaN   \n",
       "\n",
       "                                                                             CSC230 alt eqv data data  \\\n",
       "School                                                                                                  \n",
       "California Polytechnic State University, Humboldt   {\"name\": \"nan\", \"discipline\": \"nan\", \"topics\":...   \n",
       "California Polytechnic State University, Pomona     {\"name\": \"nan\", \"discipline\": \"nan\", \"topics\":...   \n",
       "California Polytechnic State University, San Lu...  {\"name\": \"nan\", \"discipline\": \"nan\", \"topics\":...   \n",
       "\n",
       "                                                                                 CSC256 eqv data data  \\\n",
       "School                                                                                                  \n",
       "California Polytechnic State University, Humboldt                                                 NaN   \n",
       "California Polytechnic State University, Pomona     ```\\n{\\n  \"name\": \"CS 2640 - Computer Organiza...   \n",
       "California Polytechnic State University, San Lu...                                                NaN   \n",
       "\n",
       "                                                                         CSC256 multipleEqv data data  \n",
       "School                                                                                                 \n",
       "California Polytechnic State University, Humboldt   {\"name\": \"nan\", \"discipline\": \"nan\", \"topics\":...  \n",
       "California Polytechnic State University, Pomona     {\"name\": \"nan\", \"discipline\": \"nan\", \"topics\":...  \n",
       "California Polytechnic State University, San Lu...  {\"name\": \"nan\", \"discipline\": \"nan\", \"topics\":...  \n",
       "\n",
       "[3 rows x 24 columns]"
      ]
     },
     "execution_count": 250,
     "metadata": {},
     "output_type": "execute_result"
    }
   ],
   "source": [
    "toy_df2 = process_all_courses(toy_df)\n",
    "toy_df2"
   ]
  },
  {
   "cell_type": "code",
   "execution_count": 20,
   "metadata": {},
   "outputs": [
    {
     "data": {
      "text/plain": [
       "Course(name='MATH 109 - Calculus I', discipline='Mathematics', topics=['Limits', 'Continuity', 'Derivatives', 'Integrals'])"
      ]
     },
     "execution_count": 20,
     "metadata": {},
     "output_type": "execute_result"
    }
   ],
   "source": [
    "toy_df2.iloc[0,8]"
   ]
  },
  {
   "cell_type": "code",
   "execution_count": 243,
   "metadata": {},
   "outputs": [
    {
     "data": {
      "application/vnd.jupyter.widget-view+json": {
       "model_id": "fd88bf9e85f74bd39f4c9cae6267f592",
       "version_major": 2,
       "version_minor": 0
      },
      "text/plain": [
       "Total Progress:   0%|          | 0/8 [00:00<?, ?it/s]"
      ]
     },
     "metadata": {},
     "output_type": "display_data"
    },
    {
     "data": {
      "application/vnd.jupyter.widget-view+json": {
       "model_id": "cd5fafb992374093bbcafd5db3947522",
       "version_major": 2,
       "version_minor": 0
      },
      "text/plain": [
       "Course:   0%|          | 0/63 [00:00<?, ?it/s]"
      ]
     },
     "metadata": {},
     "output_type": "display_data"
    },
    {
     "data": {
      "application/vnd.jupyter.widget-view+json": {
       "model_id": "664eff3922194dd68b3609dfb015bfc9",
       "version_major": 2,
       "version_minor": 0
      },
      "text/plain": [
       "Course:   0%|          | 0/63 [00:00<?, ?it/s]"
      ]
     },
     "metadata": {},
     "output_type": "display_data"
    },
    {
     "data": {
      "application/vnd.jupyter.widget-view+json": {
       "model_id": "aadd9fe25bcf48dd9d8e90e6ff21b337",
       "version_major": 2,
       "version_minor": 0
      },
      "text/plain": [
       "Course:   0%|          | 0/63 [00:00<?, ?it/s]"
      ]
     },
     "metadata": {},
     "output_type": "display_data"
    },
    {
     "data": {
      "application/vnd.jupyter.widget-view+json": {
       "model_id": "19e31d1c42044c0fbfc089ff87a0c6e4",
       "version_major": 2,
       "version_minor": 0
      },
      "text/plain": [
       "Course:   0%|          | 0/63 [00:00<?, ?it/s]"
      ]
     },
     "metadata": {},
     "output_type": "display_data"
    },
    {
     "data": {
      "application/vnd.jupyter.widget-view+json": {
       "model_id": "c709f1a916534557a8e082ac412bca35",
       "version_major": 2,
       "version_minor": 0
      },
      "text/plain": [
       "Course:   0%|          | 0/63 [00:00<?, ?it/s]"
      ]
     },
     "metadata": {},
     "output_type": "display_data"
    },
    {
     "data": {
      "application/vnd.jupyter.widget-view+json": {
       "model_id": "2b1036956e364e2ebb87fe871bd6c367",
       "version_major": 2,
       "version_minor": 0
      },
      "text/plain": [
       "Course:   0%|          | 0/63 [00:00<?, ?it/s]"
      ]
     },
     "metadata": {},
     "output_type": "display_data"
    },
    {
     "data": {
      "application/vnd.jupyter.widget-view+json": {
       "model_id": "3966c98257a443ff98cc3e5c1b58df1b",
       "version_major": 2,
       "version_minor": 0
      },
      "text/plain": [
       "Course:   0%|          | 0/63 [00:00<?, ?it/s]"
      ]
     },
     "metadata": {},
     "output_type": "display_data"
    },
    {
     "data": {
      "application/vnd.jupyter.widget-view+json": {
       "model_id": "1dae1b78459248308e9b76d2155a4b76",
       "version_major": 2,
       "version_minor": 0
      },
      "text/plain": [
       "Course:   0%|          | 0/63 [00:00<?, ?it/s]"
      ]
     },
     "metadata": {},
     "output_type": "display_data"
    }
   ],
   "source": [
    "df2 = process_all_courses(df)"
   ]
  },
  {
   "cell_type": "code",
   "execution_count": 244,
   "metadata": {},
   "outputs": [
    {
     "data": {
      "text/html": [
       "<div>\n",
       "<style scoped>\n",
       "    .dataframe tbody tr th:only-of-type {\n",
       "        vertical-align: middle;\n",
       "    }\n",
       "\n",
       "    .dataframe tbody tr th {\n",
       "        vertical-align: top;\n",
       "    }\n",
       "\n",
       "    .dataframe thead th {\n",
       "        text-align: right;\n",
       "    }\n",
       "</style>\n",
       "<table border=\"1\" class=\"dataframe\">\n",
       "  <thead>\n",
       "    <tr style=\"text-align: right;\">\n",
       "      <th></th>\n",
       "      <th>MATH226 eqv</th>\n",
       "      <th>MATH226 mult eqv</th>\n",
       "      <th>MATH226 alt eqv</th>\n",
       "      <th>MATH226 alt mult eqv</th>\n",
       "      <th>CSC230 eqv</th>\n",
       "      <th>CSC230 alt eqv</th>\n",
       "      <th>CSC256 eqv</th>\n",
       "      <th>CSC256 multipleEqv</th>\n",
       "      <th>MATH226 eqv data</th>\n",
       "      <th>MATH226 mult eqv data</th>\n",
       "      <th>MATH226 alt eqv data</th>\n",
       "      <th>MATH226 alt mult eqv data</th>\n",
       "      <th>CSC230 eqv data</th>\n",
       "      <th>CSC230 alt eqv data</th>\n",
       "      <th>CSC256 eqv data</th>\n",
       "      <th>CSC256 multipleEqv data</th>\n",
       "    </tr>\n",
       "    <tr>\n",
       "      <th>School</th>\n",
       "      <th></th>\n",
       "      <th></th>\n",
       "      <th></th>\n",
       "      <th></th>\n",
       "      <th></th>\n",
       "      <th></th>\n",
       "      <th></th>\n",
       "      <th></th>\n",
       "      <th></th>\n",
       "      <th></th>\n",
       "      <th></th>\n",
       "      <th></th>\n",
       "      <th></th>\n",
       "      <th></th>\n",
       "      <th></th>\n",
       "      <th></th>\n",
       "    </tr>\n",
       "  </thead>\n",
       "  <tbody>\n",
       "    <tr>\n",
       "      <th>SFSU</th>\n",
       "      <td>MATH 226 - Calculus I\\n4 Units\\n\\nGraphs. Diff...</td>\n",
       "      <td>NaN</td>\n",
       "      <td>NaN</td>\n",
       "      <td>NaN</td>\n",
       "      <td>CSC 230 - Discrete Mathematical Structures for...</td>\n",
       "      <td>NaN</td>\n",
       "      <td>CSC 256 - Machine Structures\\n3 Units\\n\\nDigit...</td>\n",
       "      <td>NaN</td>\n",
       "      <td>{\"name\": \"MATH 226 - Calculus I\", \"discipline\"...</td>\n",
       "      <td>NaN</td>\n",
       "      <td>NaN</td>\n",
       "      <td>NaN</td>\n",
       "      <td>{\"name\": \"CSC 230 - Discrete Mathematical Stru...</td>\n",
       "      <td>NaN</td>\n",
       "      <td>```\\n{\\n  \"name\": \"CSC 256 - Machine Structure...</td>\n",
       "      <td>NaN</td>\n",
       "    </tr>\n",
       "    <tr>\n",
       "      <th>Berkeley City College</th>\n",
       "      <td>MATH 3A - Calculus I\\n5 Units, 5 lecture hours...</td>\n",
       "      <td>NaN</td>\n",
       "      <td>NaN</td>\n",
       "      <td>NaN</td>\n",
       "      <td>MATH 11 - Discrete Mathematics\\n4 units\\n\\nN/A</td>\n",
       "      <td>NaN</td>\n",
       "      <td>CIS 20: Microcomputer Assembly Language\\n4 Uni...</td>\n",
       "      <td>NaN</td>\n",
       "      <td>```\\n{\\n  \"name\": \"MATH 3A - Calculus I\",\\n  \"...</td>\n",
       "      <td>NaN</td>\n",
       "      <td>NaN</td>\n",
       "      <td>NaN</td>\n",
       "      <td>{\"name\": \"MATH 11 - Discrete Mathematics\", \"di...</td>\n",
       "      <td>NaN</td>\n",
       "      <td>```\\n{\\n  \"name\": \"CIS 20: Microcomputer Assem...</td>\n",
       "      <td>NaN</td>\n",
       "    </tr>\n",
       "    <tr>\n",
       "      <th>California Polytechnic State University, Humboldt</th>\n",
       "      <td>MATH 109 - Calculus I\\n4 Units, 4 Lecture hour...</td>\n",
       "      <td>NaN</td>\n",
       "      <td>NaN</td>\n",
       "      <td>NaN</td>\n",
       "      <td>MATH 253 - Discrete Mathematics\\n3 Units, 3 Le...</td>\n",
       "      <td>NaN</td>\n",
       "      <td>NaN</td>\n",
       "      <td>NaN</td>\n",
       "      <td>```\\n{\\n  \"name\": \"MATH 109 - Calculus I\",\\n  ...</td>\n",
       "      <td>NaN</td>\n",
       "      <td>NaN</td>\n",
       "      <td>NaN</td>\n",
       "      <td>```\\n{\\n  \"name\": \"MATH 253 - Discrete Mathema...</td>\n",
       "      <td>NaN</td>\n",
       "      <td>NaN</td>\n",
       "      <td>NaN</td>\n",
       "    </tr>\n",
       "    <tr>\n",
       "      <th>California Polytechnic State University, Pomona</th>\n",
       "      <td>MAT 1140 - Calculus I\\n4 Units\\nPrerequisites:...</td>\n",
       "      <td>NaN</td>\n",
       "      <td>NaN</td>\n",
       "      <td>NaN</td>\n",
       "      <td>CS 1300 - Discrete Structures\\n4 Units\\nPrereq...</td>\n",
       "      <td>NaN</td>\n",
       "      <td>CS 2640 - Computer Organization and Assembly P...</td>\n",
       "      <td>NaN</td>\n",
       "      <td>```\\n{\\n  \"name\": \"MAT 1140 - Calculus I\",\\n  ...</td>\n",
       "      <td>NaN</td>\n",
       "      <td>NaN</td>\n",
       "      <td>NaN</td>\n",
       "      <td>```\\n{\\n  \"name\": \"CS 1300 - Discrete Structur...</td>\n",
       "      <td>NaN</td>\n",
       "      <td>```\\n{\\n  \"name\": \"CS 2640 - Computer Organiza...</td>\n",
       "      <td>NaN</td>\n",
       "    </tr>\n",
       "    <tr>\n",
       "      <th>California Polytechnic State University, San Luis Obispo</th>\n",
       "      <td>MATH 141 - Calculus I\\n4 Units\\nGE Area B1\\nPr...</td>\n",
       "      <td>MATH 142 - Calculus II\\n4 units\\nGE Area B1\\nP...</td>\n",
       "      <td>HNRS 141 - Calculus I \\n4 Units \\nPrerequisite...</td>\n",
       "      <td>HNRS 142 - Calculus II \\n4 units\\nPrerequisite...</td>\n",
       "      <td>NaN</td>\n",
       "      <td>NaN</td>\n",
       "      <td>NaN</td>\n",
       "      <td>NaN</td>\n",
       "      <td>{\"name\": \"MATH 141 - Calculus I\", \"discipline\"...</td>\n",
       "      <td>```\\n{\\n  \"name\": \"MATH 142 - Calculus II\",\\n ...</td>\n",
       "      <td>```\\n{\\n  \"name\": \"HNRS 141 - Calculus I\",\\n  ...</td>\n",
       "      <td>```\\n{\\n  \"name\": \"HNRS 142 - Calculus II\",\\n ...</td>\n",
       "      <td>NaN</td>\n",
       "      <td>NaN</td>\n",
       "      <td>NaN</td>\n",
       "      <td>NaN</td>\n",
       "    </tr>\n",
       "    <tr>\n",
       "      <th>...</th>\n",
       "      <td>...</td>\n",
       "      <td>...</td>\n",
       "      <td>...</td>\n",
       "      <td>...</td>\n",
       "      <td>...</td>\n",
       "      <td>...</td>\n",
       "      <td>...</td>\n",
       "      <td>...</td>\n",
       "      <td>...</td>\n",
       "      <td>...</td>\n",
       "      <td>...</td>\n",
       "      <td>...</td>\n",
       "      <td>...</td>\n",
       "      <td>...</td>\n",
       "      <td>...</td>\n",
       "      <td>...</td>\n",
       "    </tr>\n",
       "    <tr>\n",
       "      <th>Solano Community College</th>\n",
       "      <td>MATH020:\\n\\n4.0 Units\\nPrint\\nDescription:\\n\\n...</td>\n",
       "      <td>NaN</td>\n",
       "      <td>NaN</td>\n",
       "      <td>NaN</td>\n",
       "      <td>CIS021:\\n\\n3.0 Units\\nPrint\\nDescription:\\n\\nA...</td>\n",
       "      <td>NaN</td>\n",
       "      <td>CIS020:\\n\\n3.0 Units\\nPrint\\nDescription:\\n\\nA...</td>\n",
       "      <td>NaN</td>\n",
       "      <td>{\"name\": \"MATH020\", \"discipline\": \"Mathematics...</td>\n",
       "      <td>NaN</td>\n",
       "      <td>NaN</td>\n",
       "      <td>NaN</td>\n",
       "      <td>```\\n{\\n  \"name\": \"CIS021\",\\n  \"discipline\": \"...</td>\n",
       "      <td>NaN</td>\n",
       "      <td>{\"name\": \"CIS020\", \"discipline\": \"Computer Sci...</td>\n",
       "      <td>NaN</td>\n",
       "    </tr>\n",
       "    <tr>\n",
       "      <th>Sonoma State University</th>\n",
       "      <td>MATH 161 - Differential and Integral Calculus ...</td>\n",
       "      <td>NaN</td>\n",
       "      <td>NaN</td>\n",
       "      <td>NaN</td>\n",
       "      <td>NaN</td>\n",
       "      <td>NaN</td>\n",
       "      <td>NaN</td>\n",
       "      <td>NaN</td>\n",
       "      <td>```\\n{\\n  \"name\": \"MATH 161 - Differential and...</td>\n",
       "      <td>NaN</td>\n",
       "      <td>NaN</td>\n",
       "      <td>NaN</td>\n",
       "      <td>NaN</td>\n",
       "      <td>NaN</td>\n",
       "      <td>NaN</td>\n",
       "      <td>NaN</td>\n",
       "    </tr>\n",
       "    <tr>\n",
       "      <th>Ventura College</th>\n",
       "      <td>MATH V21A Calculus with Analytic Geometry I 5 ...</td>\n",
       "      <td>NaN</td>\n",
       "      <td>NaN</td>\n",
       "      <td>NaN</td>\n",
       "      <td>MATH V52 Discrete Structures 3 Units\\nSame-As:...</td>\n",
       "      <td>CS V17 Discrete Structures 3 Units\\nSame-As: M...</td>\n",
       "      <td>NaN</td>\n",
       "      <td>NaN</td>\n",
       "      <td>```\\n{\\n  \"name\": \"MATH V21A Calculus with Ana...</td>\n",
       "      <td>NaN</td>\n",
       "      <td>NaN</td>\n",
       "      <td>NaN</td>\n",
       "      <td>```\\n{\\n  \"name\": \"MATH V52 Discrete Structure...</td>\n",
       "      <td>```\\n{\\n  \"name\": \"CS V17 Discrete Structures\"...</td>\n",
       "      <td>NaN</td>\n",
       "      <td>NaN</td>\n",
       "    </tr>\n",
       "    <tr>\n",
       "      <th>West Valley College</th>\n",
       "      <td>MATH 003A: Calculus and Analytical Geometry\\nC...</td>\n",
       "      <td>NaN</td>\n",
       "      <td>NaN</td>\n",
       "      <td>NaN</td>\n",
       "      <td>MATH 019: Discrete Mathematics\\nCourse Descrip...</td>\n",
       "      <td>NaN</td>\n",
       "      <td>NaN</td>\n",
       "      <td>NaN</td>\n",
       "      <td>```\\n{\\n  \"name\": \"MATH 003A: Calculus and Ana...</td>\n",
       "      <td>NaN</td>\n",
       "      <td>NaN</td>\n",
       "      <td>NaN</td>\n",
       "      <td>```\\n{\\n  \"name\": \"MATH 019: Discrete Mathemat...</td>\n",
       "      <td>NaN</td>\n",
       "      <td>NaN</td>\n",
       "      <td>NaN</td>\n",
       "    </tr>\n",
       "    <tr>\n",
       "      <th>Yuba College</th>\n",
       "      <td>MATH-1A 4 UNITS\\nSingle Variable Calculus I - ...</td>\n",
       "      <td>NaN</td>\n",
       "      <td>NaN</td>\n",
       "      <td>NaN</td>\n",
       "      <td>COMSC-15 3 UNITS\\nDiscrete Structures for Comp...</td>\n",
       "      <td>NaN</td>\n",
       "      <td>COMSC-2 3 UNITS\\nComputer Assembly Language\\nT...</td>\n",
       "      <td>NaN</td>\n",
       "      <td>```\\n{\\n  \"name\": \"MATH-1A\",\\n  \"discipline\": ...</td>\n",
       "      <td>NaN</td>\n",
       "      <td>NaN</td>\n",
       "      <td>NaN</td>\n",
       "      <td>```\\n{\\n  \"name\": \"COMSC-15\",\\n  \"discipline\":...</td>\n",
       "      <td>NaN</td>\n",
       "      <td>```\\n{\\n  \"name\": \"Computer Assembly Language\"...</td>\n",
       "      <td>NaN</td>\n",
       "    </tr>\n",
       "  </tbody>\n",
       "</table>\n",
       "<p>63 rows × 16 columns</p>\n",
       "</div>"
      ],
      "text/plain": [
       "                                                                                          MATH226 eqv  \\\n",
       "School                                                                                                  \n",
       "SFSU                                                MATH 226 - Calculus I\\n4 Units\\n\\nGraphs. Diff...   \n",
       "Berkeley City College                               MATH 3A - Calculus I\\n5 Units, 5 lecture hours...   \n",
       "California Polytechnic State University, Humboldt   MATH 109 - Calculus I\\n4 Units, 4 Lecture hour...   \n",
       "California Polytechnic State University, Pomona     MAT 1140 - Calculus I\\n4 Units\\nPrerequisites:...   \n",
       "California Polytechnic State University, San Lu...  MATH 141 - Calculus I\\n4 Units\\nGE Area B1\\nPr...   \n",
       "...                                                                                               ...   \n",
       "Solano Community College                            MATH020:\\n\\n4.0 Units\\nPrint\\nDescription:\\n\\n...   \n",
       "Sonoma State University                             MATH 161 - Differential and Integral Calculus ...   \n",
       "Ventura College                                     MATH V21A Calculus with Analytic Geometry I 5 ...   \n",
       "West Valley College                                 MATH 003A: Calculus and Analytical Geometry\\nC...   \n",
       "Yuba College                                        MATH-1A 4 UNITS\\nSingle Variable Calculus I - ...   \n",
       "\n",
       "                                                                                     MATH226 mult eqv  \\\n",
       "School                                                                                                  \n",
       "SFSU                                                                                              NaN   \n",
       "Berkeley City College                                                                             NaN   \n",
       "California Polytechnic State University, Humboldt                                                 NaN   \n",
       "California Polytechnic State University, Pomona                                                   NaN   \n",
       "California Polytechnic State University, San Lu...  MATH 142 - Calculus II\\n4 units\\nGE Area B1\\nP...   \n",
       "...                                                                                               ...   \n",
       "Solano Community College                                                                          NaN   \n",
       "Sonoma State University                                                                           NaN   \n",
       "Ventura College                                                                                   NaN   \n",
       "West Valley College                                                                               NaN   \n",
       "Yuba College                                                                                      NaN   \n",
       "\n",
       "                                                                                      MATH226 alt eqv  \\\n",
       "School                                                                                                  \n",
       "SFSU                                                                                              NaN   \n",
       "Berkeley City College                                                                             NaN   \n",
       "California Polytechnic State University, Humboldt                                                 NaN   \n",
       "California Polytechnic State University, Pomona                                                   NaN   \n",
       "California Polytechnic State University, San Lu...  HNRS 141 - Calculus I \\n4 Units \\nPrerequisite...   \n",
       "...                                                                                               ...   \n",
       "Solano Community College                                                                          NaN   \n",
       "Sonoma State University                                                                           NaN   \n",
       "Ventura College                                                                                   NaN   \n",
       "West Valley College                                                                               NaN   \n",
       "Yuba College                                                                                      NaN   \n",
       "\n",
       "                                                                                 MATH226 alt mult eqv  \\\n",
       "School                                                                                                  \n",
       "SFSU                                                                                              NaN   \n",
       "Berkeley City College                                                                             NaN   \n",
       "California Polytechnic State University, Humboldt                                                 NaN   \n",
       "California Polytechnic State University, Pomona                                                   NaN   \n",
       "California Polytechnic State University, San Lu...  HNRS 142 - Calculus II \\n4 units\\nPrerequisite...   \n",
       "...                                                                                               ...   \n",
       "Solano Community College                                                                          NaN   \n",
       "Sonoma State University                                                                           NaN   \n",
       "Ventura College                                                                                   NaN   \n",
       "West Valley College                                                                               NaN   \n",
       "Yuba College                                                                                      NaN   \n",
       "\n",
       "                                                                                           CSC230 eqv  \\\n",
       "School                                                                                                  \n",
       "SFSU                                                CSC 230 - Discrete Mathematical Structures for...   \n",
       "Berkeley City College                                  MATH 11 - Discrete Mathematics\\n4 units\\n\\nN/A   \n",
       "California Polytechnic State University, Humboldt   MATH 253 - Discrete Mathematics\\n3 Units, 3 Le...   \n",
       "California Polytechnic State University, Pomona     CS 1300 - Discrete Structures\\n4 Units\\nPrereq...   \n",
       "California Polytechnic State University, San Lu...                                                NaN   \n",
       "...                                                                                               ...   \n",
       "Solano Community College                            CIS021:\\n\\n3.0 Units\\nPrint\\nDescription:\\n\\nA...   \n",
       "Sonoma State University                                                                           NaN   \n",
       "Ventura College                                     MATH V52 Discrete Structures 3 Units\\nSame-As:...   \n",
       "West Valley College                                 MATH 019: Discrete Mathematics\\nCourse Descrip...   \n",
       "Yuba College                                        COMSC-15 3 UNITS\\nDiscrete Structures for Comp...   \n",
       "\n",
       "                                                                                       CSC230 alt eqv  \\\n",
       "School                                                                                                  \n",
       "SFSU                                                                                              NaN   \n",
       "Berkeley City College                                                                             NaN   \n",
       "California Polytechnic State University, Humboldt                                                 NaN   \n",
       "California Polytechnic State University, Pomona                                                   NaN   \n",
       "California Polytechnic State University, San Lu...                                                NaN   \n",
       "...                                                                                               ...   \n",
       "Solano Community College                                                                          NaN   \n",
       "Sonoma State University                                                                           NaN   \n",
       "Ventura College                                     CS V17 Discrete Structures 3 Units\\nSame-As: M...   \n",
       "West Valley College                                                                               NaN   \n",
       "Yuba College                                                                                      NaN   \n",
       "\n",
       "                                                                                           CSC256 eqv  \\\n",
       "School                                                                                                  \n",
       "SFSU                                                CSC 256 - Machine Structures\\n3 Units\\n\\nDigit...   \n",
       "Berkeley City College                               CIS 20: Microcomputer Assembly Language\\n4 Uni...   \n",
       "California Polytechnic State University, Humboldt                                                 NaN   \n",
       "California Polytechnic State University, Pomona     CS 2640 - Computer Organization and Assembly P...   \n",
       "California Polytechnic State University, San Lu...                                                NaN   \n",
       "...                                                                                               ...   \n",
       "Solano Community College                            CIS020:\\n\\n3.0 Units\\nPrint\\nDescription:\\n\\nA...   \n",
       "Sonoma State University                                                                           NaN   \n",
       "Ventura College                                                                                   NaN   \n",
       "West Valley College                                                                               NaN   \n",
       "Yuba College                                        COMSC-2 3 UNITS\\nComputer Assembly Language\\nT...   \n",
       "\n",
       "                                                   CSC256 multipleEqv  \\\n",
       "School                                                                  \n",
       "SFSU                                                              NaN   \n",
       "Berkeley City College                                             NaN   \n",
       "California Polytechnic State University, Humboldt                 NaN   \n",
       "California Polytechnic State University, Pomona                   NaN   \n",
       "California Polytechnic State University, San Lu...                NaN   \n",
       "...                                                               ...   \n",
       "Solano Community College                                          NaN   \n",
       "Sonoma State University                                           NaN   \n",
       "Ventura College                                                   NaN   \n",
       "West Valley College                                               NaN   \n",
       "Yuba College                                                      NaN   \n",
       "\n",
       "                                                                                     MATH226 eqv data  \\\n",
       "School                                                                                                  \n",
       "SFSU                                                {\"name\": \"MATH 226 - Calculus I\", \"discipline\"...   \n",
       "Berkeley City College                               ```\\n{\\n  \"name\": \"MATH 3A - Calculus I\",\\n  \"...   \n",
       "California Polytechnic State University, Humboldt   ```\\n{\\n  \"name\": \"MATH 109 - Calculus I\",\\n  ...   \n",
       "California Polytechnic State University, Pomona     ```\\n{\\n  \"name\": \"MAT 1140 - Calculus I\",\\n  ...   \n",
       "California Polytechnic State University, San Lu...  {\"name\": \"MATH 141 - Calculus I\", \"discipline\"...   \n",
       "...                                                                                               ...   \n",
       "Solano Community College                            {\"name\": \"MATH020\", \"discipline\": \"Mathematics...   \n",
       "Sonoma State University                             ```\\n{\\n  \"name\": \"MATH 161 - Differential and...   \n",
       "Ventura College                                     ```\\n{\\n  \"name\": \"MATH V21A Calculus with Ana...   \n",
       "West Valley College                                 ```\\n{\\n  \"name\": \"MATH 003A: Calculus and Ana...   \n",
       "Yuba College                                        ```\\n{\\n  \"name\": \"MATH-1A\",\\n  \"discipline\": ...   \n",
       "\n",
       "                                                                                MATH226 mult eqv data  \\\n",
       "School                                                                                                  \n",
       "SFSU                                                                                              NaN   \n",
       "Berkeley City College                                                                             NaN   \n",
       "California Polytechnic State University, Humboldt                                                 NaN   \n",
       "California Polytechnic State University, Pomona                                                   NaN   \n",
       "California Polytechnic State University, San Lu...  ```\\n{\\n  \"name\": \"MATH 142 - Calculus II\",\\n ...   \n",
       "...                                                                                               ...   \n",
       "Solano Community College                                                                          NaN   \n",
       "Sonoma State University                                                                           NaN   \n",
       "Ventura College                                                                                   NaN   \n",
       "West Valley College                                                                               NaN   \n",
       "Yuba College                                                                                      NaN   \n",
       "\n",
       "                                                                                 MATH226 alt eqv data  \\\n",
       "School                                                                                                  \n",
       "SFSU                                                                                              NaN   \n",
       "Berkeley City College                                                                             NaN   \n",
       "California Polytechnic State University, Humboldt                                                 NaN   \n",
       "California Polytechnic State University, Pomona                                                   NaN   \n",
       "California Polytechnic State University, San Lu...  ```\\n{\\n  \"name\": \"HNRS 141 - Calculus I\",\\n  ...   \n",
       "...                                                                                               ...   \n",
       "Solano Community College                                                                          NaN   \n",
       "Sonoma State University                                                                           NaN   \n",
       "Ventura College                                                                                   NaN   \n",
       "West Valley College                                                                               NaN   \n",
       "Yuba College                                                                                      NaN   \n",
       "\n",
       "                                                                            MATH226 alt mult eqv data  \\\n",
       "School                                                                                                  \n",
       "SFSU                                                                                              NaN   \n",
       "Berkeley City College                                                                             NaN   \n",
       "California Polytechnic State University, Humboldt                                                 NaN   \n",
       "California Polytechnic State University, Pomona                                                   NaN   \n",
       "California Polytechnic State University, San Lu...  ```\\n{\\n  \"name\": \"HNRS 142 - Calculus II\",\\n ...   \n",
       "...                                                                                               ...   \n",
       "Solano Community College                                                                          NaN   \n",
       "Sonoma State University                                                                           NaN   \n",
       "Ventura College                                                                                   NaN   \n",
       "West Valley College                                                                               NaN   \n",
       "Yuba College                                                                                      NaN   \n",
       "\n",
       "                                                                                      CSC230 eqv data  \\\n",
       "School                                                                                                  \n",
       "SFSU                                                {\"name\": \"CSC 230 - Discrete Mathematical Stru...   \n",
       "Berkeley City College                               {\"name\": \"MATH 11 - Discrete Mathematics\", \"di...   \n",
       "California Polytechnic State University, Humboldt   ```\\n{\\n  \"name\": \"MATH 253 - Discrete Mathema...   \n",
       "California Polytechnic State University, Pomona     ```\\n{\\n  \"name\": \"CS 1300 - Discrete Structur...   \n",
       "California Polytechnic State University, San Lu...                                                NaN   \n",
       "...                                                                                               ...   \n",
       "Solano Community College                            ```\\n{\\n  \"name\": \"CIS021\",\\n  \"discipline\": \"...   \n",
       "Sonoma State University                                                                           NaN   \n",
       "Ventura College                                     ```\\n{\\n  \"name\": \"MATH V52 Discrete Structure...   \n",
       "West Valley College                                 ```\\n{\\n  \"name\": \"MATH 019: Discrete Mathemat...   \n",
       "Yuba College                                        ```\\n{\\n  \"name\": \"COMSC-15\",\\n  \"discipline\":...   \n",
       "\n",
       "                                                                                  CSC230 alt eqv data  \\\n",
       "School                                                                                                  \n",
       "SFSU                                                                                              NaN   \n",
       "Berkeley City College                                                                             NaN   \n",
       "California Polytechnic State University, Humboldt                                                 NaN   \n",
       "California Polytechnic State University, Pomona                                                   NaN   \n",
       "California Polytechnic State University, San Lu...                                                NaN   \n",
       "...                                                                                               ...   \n",
       "Solano Community College                                                                          NaN   \n",
       "Sonoma State University                                                                           NaN   \n",
       "Ventura College                                     ```\\n{\\n  \"name\": \"CS V17 Discrete Structures\"...   \n",
       "West Valley College                                                                               NaN   \n",
       "Yuba College                                                                                      NaN   \n",
       "\n",
       "                                                                                      CSC256 eqv data  \\\n",
       "School                                                                                                  \n",
       "SFSU                                                ```\\n{\\n  \"name\": \"CSC 256 - Machine Structure...   \n",
       "Berkeley City College                               ```\\n{\\n  \"name\": \"CIS 20: Microcomputer Assem...   \n",
       "California Polytechnic State University, Humboldt                                                 NaN   \n",
       "California Polytechnic State University, Pomona     ```\\n{\\n  \"name\": \"CS 2640 - Computer Organiza...   \n",
       "California Polytechnic State University, San Lu...                                                NaN   \n",
       "...                                                                                               ...   \n",
       "Solano Community College                            {\"name\": \"CIS020\", \"discipline\": \"Computer Sci...   \n",
       "Sonoma State University                                                                           NaN   \n",
       "Ventura College                                                                                   NaN   \n",
       "West Valley College                                                                               NaN   \n",
       "Yuba College                                        ```\\n{\\n  \"name\": \"Computer Assembly Language\"...   \n",
       "\n",
       "                                                   CSC256 multipleEqv data  \n",
       "School                                                                      \n",
       "SFSU                                                                   NaN  \n",
       "Berkeley City College                                                  NaN  \n",
       "California Polytechnic State University, Humboldt                      NaN  \n",
       "California Polytechnic State University, Pomona                        NaN  \n",
       "California Polytechnic State University, San Lu...                     NaN  \n",
       "...                                                                    ...  \n",
       "Solano Community College                                               NaN  \n",
       "Sonoma State University                                                NaN  \n",
       "Ventura College                                                        NaN  \n",
       "West Valley College                                                    NaN  \n",
       "Yuba College                                                           NaN  \n",
       "\n",
       "[63 rows x 16 columns]"
      ]
     },
     "execution_count": 244,
     "metadata": {},
     "output_type": "execute_result"
    }
   ],
   "source": [
    "df2"
   ]
  },
  {
   "cell_type": "code",
   "execution_count": 245,
   "metadata": {},
   "outputs": [],
   "source": [
    "with open('../data/course_desc_and_data.pkl', 'wb') as f:\n",
    "    dill.dump(df2, f)\n",
    "\n",
    "# with open('../data/course_desc_and_data.pkl', 'rb') as f:\n",
    "#     df2 = dill.load(f)"
   ]
  },
  {
   "cell_type": "code",
   "execution_count": 247,
   "metadata": {},
   "outputs": [
    {
     "data": {
      "text/plain": [
       "Course(name='MATH 226 - Calculus I', discipline='Mathematics', topics=['Calculus', 'Differentiation', 'Integration', 'Transcendental functions'])"
      ]
     },
     "execution_count": 247,
     "metadata": {},
     "output_type": "execute_result"
    }
   ],
   "source": [
    "course_data_palm = course_parser.parse(df2.iloc[0,8])\n",
    "course_data_palm"
   ]
  },
  {
   "cell_type": "markdown",
   "metadata": {},
   "source": [
    "# Baseline Equivalency\n",
    "\n",
    "Here we attempt to determine if two courses are equivalent"
   ]
  },
  {
   "cell_type": "code",
   "execution_count": 104,
   "metadata": {},
   "outputs": [],
   "source": [
    "# Prompt Template for Course Equivalency prediction\n",
    "\n",
    "equiv_prompt_template = \"\"\"\n",
    "Extract the detailed title for each course below and determine whether the two \\\n",
    "following courses are equivalent. For course equivalency, respond with 'true',\\\n",
    "'false', or 'unsure'.\\n\n",
    "{format_instructions}\\n\n",
    "Course 1:\\n```{course1_desc}```\\n\n",
    "Course 2:\\n```{course2_desc}```\n",
    "\"\"\""
   ]
  },
  {
   "cell_type": "code",
   "execution_count": 105,
   "metadata": {},
   "outputs": [],
   "source": [
    "from typing import Literal\n",
    "\n",
    "class Equivalency(BaseModel):\n",
    "    courses: list[str] = Field(description=\"subject of the two courses to be evaluated\")\n",
    "    isEquiv: bool | Literal[\"unsure\"] = Field(description=\"equivalency prediction\")\n",
    "\n",
    "equiv_parser = PydanticOutputParser(pydantic_object=Equivalency)\n",
    "\n",
    "equiv_prompt = PromptTemplate(\n",
    "    template=equiv_prompt_template,\n",
    "    input_variables=[\"course1_desc\", \"course2_desc\"],\n",
    "    partial_variables={\"format_instructions\": equiv_parser.get_format_instructions()}\n",
    ")"
   ]
  },
  {
   "cell_type": "code",
   "execution_count": 136,
   "metadata": {},
   "outputs": [
    {
     "data": {
      "text/plain": [
       "'MATH 226 - Calculus I\\n4 Units\\n\\nGraphs. Differentiation: theory, techniques, and applications. Integration: Fundamental Theorem of Calculus and applications. Transcendental functions.'"
      ]
     },
     "execution_count": 136,
     "metadata": {},
     "output_type": "execute_result"
    }
   ],
   "source": [
    "df.iloc[0,0]"
   ]
  },
  {
   "cell_type": "code",
   "execution_count": 134,
   "metadata": {},
   "outputs": [
    {
     "name": "stdout",
     "output_type": "stream",
     "text": [
      "Limits, Continuity, Derivatives, Integrals \n",
      "\n",
      " Calculus, Differentiation, Integration \n",
      "\n",
      " sets, functions, relations, algorithms, induction, differentiation, integration, and transcentental functions.\n"
     ]
    }
   ],
   "source": [
    "course1_desc = df.iloc[0,4]\n",
    "course2_desc = df.iloc[2,4]\n",
    "course3_desc = \"\\n\".join(course2_desc.split(\"\\n\")[0:2]) + \"\"\"\\\n",
    "\\n\\nSets, functions, relations, algorithms, induction, \\\n",
    "differentiation, integration, and transcentental functions.\"\"\"\n",
    "# + \"\\n\\nSets, relations, induction, algorithms, differentiation, and limits.\"\n",
    "print(course1_desc, \"\\n\\n\", course2_desc, \"\\n\\n\", course3_desc)"
   ]
  },
  {
   "cell_type": "code",
   "execution_count": 123,
   "metadata": {},
   "outputs": [
    {
     "name": "stdout",
     "output_type": "stream",
     "text": [
      "\n",
      "Extract the detailed title for each course below and determine whether the two following courses are equivalent. For course equivalency, respond with 'true','false', or 'unsure'.\n",
      "\n",
      "The output should be formatted as a JSON instance that conforms to the JSON schema below.\n",
      "\n",
      "As an example, for the schema {\"properties\": {\"foo\": {\"title\": \"Foo\", \"description\": \"a list of strings\", \"type\": \"array\", \"items\": {\"type\": \"string\"}}}, \"required\": [\"foo\"]}\n",
      "the object {\"foo\": [\"bar\", \"baz\"]} is a well-formatted instance of the schema. The object {\"properties\": {\"foo\": [\"bar\", \"baz\"]}} is not well-formatted.\n",
      "\n",
      "Here is the output schema:\n",
      "```\n",
      "{\"properties\": {\"courses\": {\"title\": \"Courses\", \"description\": \"subject of the two courses to be evaluated\", \"type\": \"array\", \"items\": {\"type\": \"string\"}}, \"isEquiv\": {\"title\": \"Isequiv\", \"description\": \"equivalency prediction\", \"anyOf\": [{\"type\": \"boolean\"}, {\"enum\": [\"unsure\"], \"type\": \"string\"}]}}, \"required\": [\"courses\", \"isEquiv\"]}\n",
      "```\n",
      "\n",
      "Course 1:\n",
      "```CSC 230 - Discrete Mathematical Structures for Computer Science\n",
      "3 Units\n",
      "\n",
      "Review of set algebra, relations and functions, permutations, propositional logic, proof techniques, introduction to graph theory, and infinite sets, and their applications to computer science.```\n",
      "\n",
      "Course 2:\n",
      "```MATH 253 - Discrete Mathematics\n",
      "3 Units, 3 Lecture Hours\n",
      "\n",
      "Sets, functions, relations, algorithms, induction, differentiation, integration, and transcentental functions.```\n",
      "\n"
     ]
    }
   ],
   "source": [
    "_input = equiv_prompt.format_prompt(course1_desc=course1_desc, course2_desc=course3_desc)\n",
    "print(_input.to_string())"
   ]
  },
  {
   "cell_type": "code",
   "execution_count": 124,
   "metadata": {},
   "outputs": [
    {
     "data": {
      "text/plain": [
       "'{\"courses\": [\"CSC 230 - Discrete Mathematical Structures for Computer Science\", \"MATH 253 - Discrete Mathematics\"], \"isEquiv\": \"unsure\"}'"
      ]
     },
     "execution_count": 124,
     "metadata": {},
     "output_type": "execute_result"
    }
   ],
   "source": [
    "equiv_output_palm = palm(_input.to_string())\n",
    "equiv_output_palm"
   ]
  },
  {
   "cell_type": "code",
   "execution_count": 125,
   "metadata": {},
   "outputs": [
    {
     "data": {
      "text/plain": [
       "Equivalency(courses=['CSC 230 - Discrete Mathematical Structures for Computer Science', 'MATH 253 - Discrete Mathematics'], isEquiv='unsure')"
      ]
     },
     "execution_count": 125,
     "metadata": {},
     "output_type": "execute_result"
    }
   ],
   "source": [
    "equiv_data_palm = equiv_parser.parse(equiv_output_palm)\n",
    "equiv_data_palm"
   ]
  },
  {
   "cell_type": "markdown",
   "metadata": {},
   "source": [
    "# Topic Equivalency\n",
    "\n"
   ]
  },
  {
   "cell_type": "code",
   "execution_count": 143,
   "metadata": {},
   "outputs": [],
   "source": [
    "# Prompt Template for Course Equivalency prediction\n",
    "\n",
    "topicequiv_prompt_template = \"\"\"\n",
    "Given the discipline and list of topics for the two courses below, determine whether the two \\\n",
    "are equivalent. For course equivalency, respond with 'true', 'false', or 'unsure'.\\n\n",
    "{format_instructions}\\n\n",
    "Course 1 Discipline: ```{course1_disc}```\\nCourse 1 Topics: ```{course1_topics}```\\n\n",
    "Course 2 Discipline: ```{course2_disc}```\\nCourse 2 Topics: ```{course2_topics}``````\n",
    "\"\"\""
   ]
  },
  {
   "cell_type": "code",
   "execution_count": 144,
   "metadata": {},
   "outputs": [],
   "source": [
    "class TopicEquivalency(BaseModel):\n",
    "    isEquiv: bool | Literal[\"unsure\"] = Field(description=\"equivalency prediction\")\n",
    "\n",
    "topicequiv_parser = PydanticOutputParser(pydantic_object=TopicEquivalency)\n",
    "\n",
    "topicequiv_prompt = PromptTemplate(\n",
    "    template=topicequiv_prompt_template,\n",
    "    input_variables=[\"course1_disc\", \"course1_topics\", \"course2_disc\", \"course2_topics\"],\n",
    "    partial_variables={\"format_instructions\": topicequiv_parser.get_format_instructions()}\n",
    ")"
   ]
  },
  {
   "cell_type": "code",
   "execution_count": 145,
   "metadata": {},
   "outputs": [
    {
     "data": {
      "text/plain": [
       "Course(name='MATH 109 - Calculus I', discipline='Mathematics', topics=['Limits', 'Continuity', 'Derivatives', 'Integrals'])"
      ]
     },
     "execution_count": 145,
     "metadata": {},
     "output_type": "execute_result"
    }
   ],
   "source": [
    "toy_df.iloc[0,8]"
   ]
  },
  {
   "cell_type": "code",
   "execution_count": 146,
   "metadata": {},
   "outputs": [
    {
     "name": "stdout",
     "output_type": "stream",
     "text": [
      "Limits, Continuity, Derivatives, Integrals \n",
      "\n",
      " Calculus, Differentiation, Integration \n",
      "\n",
      " sets, functions, relations, algorithms, induction, differentiation, integration, and transcentental functions.\n"
     ]
    }
   ],
   "source": [
    "course1_topics = \", \".join(toy_df.iloc[0,8].topics)\n",
    "course2_topics = \", \".join(toy_df.iloc[2,8].topics)\n",
    "course3_topics = \"\"\"\\\n",
    "\\n\\nSets, functions, relations, algorithms, induction, \\\n",
    "differentiation, integration, transcentental functions.\"\"\"\n",
    "# + \"\\n\\nSets, relations, induction, algorithms, differentiation, and limits.\"\n",
    "print(course1_desc, \"\\n\\n\", course2_desc, \"\\n\\n\", course3_desc)"
   ]
  },
  {
   "cell_type": "code",
   "execution_count": 147,
   "metadata": {},
   "outputs": [
    {
     "name": "stdout",
     "output_type": "stream",
     "text": [
      "\n",
      "Given the discipline and list of topics for the two courses below, determine whether the two are equivalent. For course equivalency, respond with 'true', 'false', or 'unsure'.\n",
      "\n",
      "The output should be formatted as a JSON instance that conforms to the JSON schema below.\n",
      "\n",
      "As an example, for the schema {\"properties\": {\"foo\": {\"title\": \"Foo\", \"description\": \"a list of strings\", \"type\": \"array\", \"items\": {\"type\": \"string\"}}}, \"required\": [\"foo\"]}\n",
      "the object {\"foo\": [\"bar\", \"baz\"]} is a well-formatted instance of the schema. The object {\"properties\": {\"foo\": [\"bar\", \"baz\"]}} is not well-formatted.\n",
      "\n",
      "Here is the output schema:\n",
      "```\n",
      "{\"properties\": {\"isEquiv\": {\"title\": \"Isequiv\", \"description\": \"equivalency prediction\", \"anyOf\": [{\"type\": \"boolean\"}, {\"enum\": [\"unsure\"], \"type\": \"string\"}]}}, \"required\": [\"isEquiv\"]}\n",
      "```\n",
      "\n",
      "Course 1 Discipline: ```Mathematics```\n",
      "Course 1 Topics: ```Limits, Continuity, Derivatives, Integrals```\n",
      "\n",
      "Course 2 Discipline: ```Mathematics```\n",
      "Course 2 Topics: ```Calculus, Differentiation, Integration``````\n",
      "\n"
     ]
    }
   ],
   "source": [
    "_input = topicequiv_prompt.format_prompt(\n",
    "    course1_disc=toy_df.iloc[0,8].discipline, \n",
    "    course1_topics=course1_topics,\n",
    "    course2_disc=toy_df.iloc[2,8].discipline, \n",
    "    course2_topics=course2_topics\n",
    ")\n",
    "print(_input.to_string())"
   ]
  },
  {
   "cell_type": "code",
   "execution_count": 148,
   "metadata": {},
   "outputs": [
    {
     "data": {
      "text/plain": [
       "'{\"isEquiv\": \"true\"}'"
      ]
     },
     "execution_count": 148,
     "metadata": {},
     "output_type": "execute_result"
    }
   ],
   "source": [
    "topicequiv_output_palm = palm(_input.to_string())\n",
    "topicequiv_output_palm"
   ]
  },
  {
   "cell_type": "code",
   "execution_count": 150,
   "metadata": {},
   "outputs": [
    {
     "data": {
      "text/plain": [
       "TopicEquivalency(isEquiv=True)"
      ]
     },
     "execution_count": 150,
     "metadata": {},
     "output_type": "execute_result"
    }
   ],
   "source": [
    "topicequiv_data_palm = topicequiv_parser.parse(topicequiv_output_palm)\n",
    "topicequiv_data_palm"
   ]
  },
  {
   "cell_type": "markdown",
   "metadata": {},
   "source": [
    "# DEPRECATED PROCESSES"
   ]
  },
  {
   "cell_type": "markdown",
   "metadata": {},
   "source": [
    "#### Section: [Process Entire Dataframe](#process-entire-dataframe)\n",
    "\n",
    "I was going to convert the dataframe into a Python dictionary to process the\n",
    "data before realizing that I can just process the data directly from the dataframe."
   ]
  },
  {
   "cell_type": "code",
   "execution_count": null,
   "metadata": {},
   "outputs": [],
   "source": [
    "# school_courses_desc_dict = df.to_dict(orient='index')\n",
    "# school_courses_desc_dict = {school:{course:(desc if type(desc) is str else None) for course,desc in courses.items()} for school,courses in school_courses_desc_dict.items()}"
   ]
  },
  {
   "cell_type": "code",
   "execution_count": null,
   "metadata": {},
   "outputs": [],
   "source": [
    "# school_courses_desc_dict['SFSU']"
   ]
  },
  {
   "cell_type": "code",
   "execution_count": null,
   "metadata": {},
   "outputs": [],
   "source": []
  }
 ],
 "metadata": {
  "kernelspec": {
   "display_name": "langchain",
   "language": "python",
   "name": "python3"
  },
  "language_info": {
   "codemirror_mode": {
    "name": "ipython",
    "version": 3
   },
   "file_extension": ".py",
   "mimetype": "text/x-python",
   "name": "python",
   "nbconvert_exporter": "python",
   "pygments_lexer": "ipython3",
   "version": "3.12.0"
  }
 },
 "nbformat": 4,
 "nbformat_minor": 2
}
